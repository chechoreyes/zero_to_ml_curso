{
  "cells": [
    {
      "cell_type": "markdown",
      "metadata": {
        "id": "s47zwXMk0BDU"
      },
      "source": [
        "# Variables booleanas y operadores de decisión\n",
        "\n"
      ]
    },
    {
      "cell_type": "markdown",
      "metadata": {
        "id": "1g57qvzgDhuy"
      },
      "source": [
        "## Booleanos\n",
        "\n",
        "**booleano.** Es un tipo de dato que solamente puede tomar 2 valores: `True` (verdadero) o `False` (falso).\n",
        "\n",
        "**Variable lógica.** Variable que almacena datos booleanos."
      ]
    },
    {
      "cell_type": "code",
      "execution_count": null,
      "metadata": {
        "colab": {
          "base_uri": "https://localhost:8080/"
        },
        "id": "gye-i_dlz33O",
        "outputId": "a3f1d4b6-576b-4f07-bb82-751322c5f5aa"
      },
      "outputs": [],
      "source": [
        "is_adult = True\n",
        "type(is_adult)"
      ]
    },
    {
      "cell_type": "markdown",
      "metadata": {
        "id": "SVFyPtpzDkyV"
      },
      "source": [
        "### Tablas de verdad\n",
        "\n",
        "Dadas dos variables lógicas, $A$ y $B$, , podemos definir los operadores básicos mediante tablas de verdad, donde el valor verdadero se representa con la letra $V$ o bien con un $1$, mientras que el valor falso se representa mediante la letra $F$ o bien con un $0$.\n",
        "\n",
        "La tabla de verdad para la variable $A$ sería\n",
        "\n",
        "| $A$ |\n",
        "| :---: |\n",
        "| $V$ |\n",
        "| $F$ |\n",
        "\n",
        "La tabla de verdad para la variable $B$ sería\n",
        "\n",
        "| $B$ |\n",
        "| :---: |\n",
        "| $V$ |\n",
        "| $F$ |\n",
        "\n"
      ]
    },
    {
      "cell_type": "markdown",
      "metadata": {
        "id": "TpzYQoYYDnON"
      },
      "source": [
        "#### Negación\n",
        "\n",
        "El operador negación aplicado a una variable se representa con $\\neg$ y devuelve el valor contrario.\n",
        "\n",
        "| $A$ | $\\neg A$ |\n",
        "| :---: | :---: |\n",
        "| $V$ | $F$ |\n",
        "| $F$ | $V$ |\n",
        "\n"
      ]
    },
    {
      "cell_type": "markdown",
      "metadata": {
        "id": "gDTb9pLDDo5R"
      },
      "source": [
        "#### Conjunción\n",
        "\n",
        "La conjunción entre dos variables se representa con $\\wedge$ y devuelve verdadero únicamente cuando ambas variables valen verdadero.\n",
        "\n",
        "| $A$ | $B$ | $A\\wedge B$ |\n",
        "| :---: | :---: | :---: |\n",
        "| $V$ | $V$ | $V$ |\n",
        "| $V$ | $F$ | $F$ |\n",
        "| $F$ | $V$ | $F$ |\n",
        "| $F$ | $F$ | $F$ |\n",
        "\n"
      ]
    },
    {
      "cell_type": "markdown",
      "metadata": {
        "id": "AS4LzZGcDqc5"
      },
      "source": [
        "#### Disyunción\n",
        "\n",
        "La disyunción entre dos variables se representa con $\\vee$ y devuelve verdadero cuando almenos una de las variables lógicas vale verdadero.\n",
        "\n",
        "| $A$ | $B$ | $A\\vee B$ |\n",
        "| :---: | :---: | :---: |\n",
        "| $V$ | $V$ | $V$ |\n",
        "| $V$ | $F$ | $V$ |\n",
        "| $F$ | $V$ | $V$ |\n",
        "| $F$ | $F$ | $F$ |\n",
        "\n"
      ]
    },
    {
      "cell_type": "markdown",
      "metadata": {
        "id": "VNJEPSYjDrrM"
      },
      "source": [
        "### Operadores lógicos en `Python`\n",
        "\n",
        "Para hacer la negación, utilizamos el operador `not`."
      ]
    },
    {
      "cell_type": "code",
      "execution_count": null,
      "metadata": {
        "colab": {
          "base_uri": "https://localhost:8080/"
        },
        "id": "YedWFMKR49wc",
        "outputId": "48eea8f2-4f88-4d15-8210-d039d39859fb"
      },
      "outputs": [],
      "source": [
        "A = True\n",
        "not A"
      ]
    },
    {
      "cell_type": "code",
      "execution_count": null,
      "metadata": {
        "colab": {
          "base_uri": "https://localhost:8080/"
        },
        "id": "bBaEocdf7Mjo",
        "outputId": "b9f5c3b8-5349-496a-89d8-e87759e82490"
      },
      "outputs": [],
      "source": [
        "B = False\n",
        "not B"
      ]
    },
    {
      "cell_type": "markdown",
      "metadata": {
        "id": "jneoqYgc7Pgm"
      },
      "source": [
        "Para hacer la conjunción entre dos variables lógicas, utilizamos el operador `and`."
      ]
    },
    {
      "cell_type": "code",
      "execution_count": null,
      "metadata": {
        "colab": {
          "base_uri": "https://localhost:8080/"
        },
        "id": "KwQs5B1t7N1w",
        "outputId": "9cf11d23-5471-4ad8-db80-c946edeaf7d5"
      },
      "outputs": [],
      "source": [
        "A, B = True, True\n",
        "A and B"
      ]
    },
    {
      "cell_type": "code",
      "execution_count": null,
      "metadata": {
        "colab": {
          "base_uri": "https://localhost:8080/"
        },
        "id": "34ucQLP97aNV",
        "outputId": "3a08e7e4-655c-4c1a-f92a-3844b6aa4bc3"
      },
      "outputs": [],
      "source": [
        "A and (not B)"
      ]
    },
    {
      "cell_type": "markdown",
      "metadata": {
        "id": "Ijh4Ji4D7dWX"
      },
      "source": [
        "Para hacer la disyunción entre dos variables lógicas, utilizamos el operador `or`."
      ]
    },
    {
      "cell_type": "code",
      "execution_count": null,
      "metadata": {
        "colab": {
          "base_uri": "https://localhost:8080/"
        },
        "id": "KLQadtui7bGw",
        "outputId": "767019f9-ec3a-4a42-de9e-8f668cac744b"
      },
      "outputs": [],
      "source": [
        "A, B = False, False\n",
        "A or B"
      ]
    },
    {
      "cell_type": "code",
      "execution_count": null,
      "metadata": {
        "colab": {
          "base_uri": "https://localhost:8080/"
        },
        "id": "4gMxSunp7iBa",
        "outputId": "fdee777b-a23c-4703-8ca0-80cd18826f02"
      },
      "outputs": [],
      "source": [
        "(not A) or B"
      ]
    },
    {
      "cell_type": "markdown",
      "metadata": {
        "id": "4LrbKUx_7lBi"
      },
      "source": [
        "### Operadores de comparación\n",
        "\n",
        "En `Python` podemos comparar datos y obtener un resultado booleano. Los operadores de comparación disponibles son\n",
        "\n",
        "| Operador | Significado |\n",
        "| :---: | :--- |\n",
        "| $>$ | Estrictamente mayor |\n",
        "| $\\ge$ | Mayor o igual |\n",
        "| $<$ | Estrictamente menor |\n",
        "| $\\le$ | Menor o igual |\n",
        "| $==$ | Igual |\n",
        "| $!=$ | Diferente |"
      ]
    },
    {
      "cell_type": "code",
      "execution_count": null,
      "metadata": {
        "colab": {
          "base_uri": "https://localhost:8080/"
        },
        "id": "K6ai4SkG7i-B",
        "outputId": "df55f715-6510-4a2c-a836-ecf777fec0ab"
      },
      "outputs": [],
      "source": [
        "7 == 7.0"
      ]
    },
    {
      "cell_type": "code",
      "execution_count": null,
      "metadata": {
        "colab": {
          "base_uri": "https://localhost:8080/"
        },
        "id": "TCZ848jt8K9T",
        "outputId": "b0d3b025-fbf1-4ce5-ca9d-e95b7ac8a38c"
      },
      "outputs": [],
      "source": [
        "3.14 > 9"
      ]
    },
    {
      "cell_type": "code",
      "execution_count": null,
      "metadata": {
        "colab": {
          "base_uri": "https://localhost:8080/"
        },
        "id": "fDlhbGUB8MDS",
        "outputId": "b04f2c90-b972-4718-cd01-765449ba0ae7"
      },
      "outputs": [],
      "source": [
        "7 != \"7\""
      ]
    },
    {
      "cell_type": "code",
      "execution_count": null,
      "metadata": {
        "colab": {
          "base_uri": "https://localhost:8080/"
        },
        "id": "mGKSNyex8OXC",
        "outputId": "e604fc41-44ba-4794-f073-b22555e2df27"
      },
      "outputs": [],
      "source": [
        "0.01 <= 1"
      ]
    },
    {
      "cell_type": "markdown",
      "metadata": {
        "id": "ag98MpnSDw2M"
      },
      "source": [
        "#### Múltiples comparaciones simultáneas\n",
        "\n",
        "Podemos realizar múltiples comparaciones a la vez.\n"
      ]
    },
    {
      "cell_type": "code",
      "execution_count": null,
      "metadata": {
        "colab": {
          "base_uri": "https://localhost:8080/"
        },
        "id": "tl1aTygu8O5A",
        "outputId": "b14f362b-abdf-43fb-8637-3bea7b92c75f"
      },
      "outputs": [],
      "source": [
        "edad = 17\n",
        "(edad >= 16) and (edad <= 40)"
      ]
    },
    {
      "cell_type": "markdown",
      "metadata": {
        "id": "05v5Mxqn-0Sz"
      },
      "source": [
        "#### Comparaciones de strings\n",
        "\n",
        "No solamente podemos comparar datos numéricos, sino que también podemos comparar strings en relación al orden alfabético."
      ]
    },
    {
      "cell_type": "code",
      "execution_count": null,
      "metadata": {
        "colab": {
          "base_uri": "https://localhost:8080/"
        },
        "id": "6OmXJHWw-xwT",
        "outputId": "55f276fd-b2a5-480d-ef1f-0f7d33d07018"
      },
      "outputs": [],
      "source": [
        "\"Temuco\" < \"Lautaro\""
      ]
    },
    {
      "cell_type": "markdown",
      "metadata": {
        "id": "ZBMJ5Tg9_t-2"
      },
      "source": [
        "### Más métodos de string\n",
        "\n",
        "El método `.startswith()` nos devuelve verdadero si el string empieza con el caracter o la cadena de caracteres indicado."
      ]
    },
    {
      "cell_type": "code",
      "execution_count": null,
      "metadata": {
        "colab": {
          "base_uri": "https://localhost:8080/"
        },
        "id": "1URYsNpt_e2k",
        "outputId": "f30eb5b2-f4a9-4baf-e72b-b96b289a66cb"
      },
      "outputs": [],
      "source": [
        "s = \"Temuco es una ciudad del sur de Chile\"\n",
        "s.startswith(\"m\")"
      ]
    },
    {
      "cell_type": "code",
      "execution_count": null,
      "metadata": {
        "colab": {
          "base_uri": "https://localhost:8080/"
        },
        "id": "59iNH5QdAC7A",
        "outputId": "21c20926-fd72-428f-fb8e-b6ccebf781ad"
      },
      "outputs": [],
      "source": [
        "s.startswith(\"Temuco\")"
      ]
    },
    {
      "cell_type": "markdown",
      "metadata": {
        "id": "dlYrhEBXAGzQ"
      },
      "source": [
        "El método `.endswith()` nos devuelve verdadero si el string acaba con el caracter o la cadena de caracteres indicado."
      ]
    },
    {
      "cell_type": "code",
      "execution_count": 1,
      "metadata": {
        "colab": {
          "base_uri": "https://localhost:8080/"
        },
        "id": "mRQvBBAzAEY7",
        "outputId": "160c728b-59a7-4c0c-c526-41ed03317464"
      },
      "outputs": [
        {
          "data": {
            "text/plain": [
              "False"
            ]
          },
          "execution_count": 1,
          "metadata": {},
          "output_type": "execute_result"
        }
      ],
      "source": [
        "s = \"Temuco es una ciudad del sur de Chile\"\n",
        "s.endswith(\"a\")"
      ]
    },
    {
      "cell_type": "code",
      "execution_count": 2,
      "metadata": {},
      "outputs": [
        {
          "data": {
            "text/plain": [
              "True"
            ]
          },
          "execution_count": 2,
          "metadata": {},
          "output_type": "execute_result"
        }
      ],
      "source": [
        "s.endswith(\"e\")"
      ]
    },
    {
      "cell_type": "code",
      "execution_count": 3,
      "metadata": {
        "colab": {
          "base_uri": "https://localhost:8080/"
        },
        "id": "O3C6T9NgATDz",
        "outputId": "84e4d82b-cd95-4ca3-c912-a9e3d6c514cf"
      },
      "outputs": [
        {
          "data": {
            "text/plain": [
              "True"
            ]
          },
          "execution_count": 3,
          "metadata": {},
          "output_type": "execute_result"
        }
      ],
      "source": [
        "s.endswith(\"Chile\")"
      ]
    },
    {
      "cell_type": "markdown",
      "metadata": {
        "id": "frJnbjX3BawD"
      },
      "source": [
        "## Operadores de decisión\n",
        "\n",
        "\n"
      ]
    },
    {
      "cell_type": "markdown",
      "metadata": {
        "id": "DAK502eYD5pT"
      },
      "source": [
        "### `if`\n",
        "\n",
        "Cuando queremos comprobar si se cumple alguna condición, utilizamos el operador de decisión `if`. La sintaxis que debemos seguir es la siguiente:\n"
      ]
    },
    {
      "cell_type": "code",
      "execution_count": null,
      "metadata": {
        "id": "YdlOvDPjBZAk"
      },
      "outputs": [],
      "source": [
        "if condicion:\n",
        "    consecuencia"
      ]
    },
    {
      "cell_type": "markdown",
      "metadata": {
        "id": "LdYNZT4tD1tS"
      },
      "source": [
        "**¡Cuidado!** La sintaxis de los dos puntos después de la condición y la indentación (equivalente a una tabulación, un total de 4 espacios en blanco) que precede a la consecuencia es muy importante. De hecho, si se omite alguna de las dos cosas o bien nos pasamos de indentación, nos saltará error.\n"
      ]
    },
    {
      "cell_type": "code",
      "execution_count": 5,
      "metadata": {
        "colab": {
          "base_uri": "https://localhost:8080/"
        },
        "id": "O6UngCPDEIgW",
        "outputId": "5f2f47f9-844a-4ebf-9aee-8452083ac270"
      },
      "outputs": [
        {
          "name": "stdout",
          "output_type": "stream",
          "text": [
            "Aceptado\n"
          ]
        }
      ],
      "source": [
        "age = 23\n",
        "if (age >= 16 and age <= 40):\n",
        "    print(\"Aceptado\")"
      ]
    },
    {
      "cell_type": "markdown",
      "metadata": {
        "id": "xgXTymltFKFb"
      },
      "source": [
        "### `else`\n",
        "\n",
        "Ahora, nos podríamos preguntar qué le podríamos decir al usuario en el caso en que no satisfaga la condición. Ahí es donde entra en juego el operador de decisión `else`. Esta vez, la sintaxis a seguir es la siguiente:"
      ]
    },
    {
      "cell_type": "code",
      "execution_count": null,
      "metadata": {
        "id": "YXBPowOmFG_P"
      },
      "outputs": [],
      "source": [
        "if condición:\n",
        "    consecuencia_si_es_verdad\n",
        "else:\n",
        "    consecuencia_si_es_falsa"
      ]
    },
    {
      "cell_type": "markdown",
      "metadata": {
        "id": "8e1k4FTgFZoD"
      },
      "source": [
        "Siguiendo el ejemplo anterior, si el usuario tiene 16 años o más, pero menos de 40, entonces puede formar parte de la tripulación de Pyratilla. Si no, le diremos que no satisface una necesidad básica para ser miembro."
      ]
    },
    {
      "cell_type": "code",
      "execution_count": 6,
      "metadata": {
        "colab": {
          "base_uri": "https://localhost:8080/"
        },
        "id": "ng2PZLJoFi8T",
        "outputId": "5f3adb9c-ac36-4b6a-900f-91dbfc657b7f"
      },
      "outputs": [
        {
          "name": "stdout",
          "output_type": "stream",
          "text": [
            "No aceptado\n"
          ]
        }
      ],
      "source": [
        "age = 13\n",
        "if (age >= 16 and age <= 40):\n",
        "    print(\"Aceptado\")\n",
        "else:\n",
        "    print(\"No aceptado\")"
      ]
    },
    {
      "cell_type": "code",
      "execution_count": null,
      "metadata": {
        "colab": {
          "base_uri": "https://localhost:8080/"
        },
        "id": "thCBwMwuIJqc",
        "outputId": "e12e12f2-79de-40ed-81b4-acf2eeaa4a3e"
      },
      "outputs": [],
      "source": [
        "age = 20\n",
        "texto_mayor = \"Eres mayor de edad en España\"\n",
        "texto_menor = \"Eres menor de edad en España\"\n",
        "\n",
        "print(texto_mayor) if age >= 18 else print(texto_menor)"
      ]
    },
    {
      "cell_type": "markdown",
      "metadata": {
        "id": "WGWZnkbKODlg"
      },
      "source": [
        "### Operadores Anidados"
      ]
    },
    {
      "cell_type": "code",
      "execution_count": 7,
      "metadata": {
        "colab": {
          "base_uri": "https://localhost:8080/"
        },
        "id": "-vvWPoz2K6gq",
        "outputId": "dc349db6-8a65-4064-96f1-644ef903cf45"
      },
      "outputs": [
        {
          "name": "stdout",
          "output_type": "stream",
          "text": [
            "Eres mayor de edad pues tienes 20 años y tu nombre, que es Martin, empieza por M\n"
          ]
        }
      ],
      "source": [
        "age = 20\n",
        "name = \"Martin\"\n",
        "\n",
        "if age >= 18:\n",
        "  if name.startswith(\"M\") or name.startswith(\"m\"):\n",
        "    print(\"Eres mayor de edad pues tienes {} años y tu nombre, que es {}, empieza por M\".format(age, name))\n",
        "  else:\n",
        "    print(\"Eres mayor de edad pues tienes {} años\".format(age))\n",
        "else:\n",
        "  print(\"Eres muy joven\")"
      ]
    },
    {
      "cell_type": "code",
      "execution_count": null,
      "metadata": {},
      "outputs": [],
      "source": []
    }
  ],
  "metadata": {
    "colab": {
      "provenance": [],
      "toc_visible": true
    },
    "kernelspec": {
      "display_name": "Python 3",
      "name": "python3"
    },
    "language_info": {
      "codemirror_mode": {
        "name": "ipython",
        "version": 3
      },
      "file_extension": ".py",
      "mimetype": "text/x-python",
      "name": "python",
      "nbconvert_exporter": "python",
      "pygments_lexer": "ipython3",
      "version": "3.12.4"
    }
  },
  "nbformat": 4,
  "nbformat_minor": 0
}
