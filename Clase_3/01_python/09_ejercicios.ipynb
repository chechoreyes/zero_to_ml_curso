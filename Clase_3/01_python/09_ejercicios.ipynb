{
 "cells": [
  {
   "cell_type": "markdown",
   "metadata": {},
   "source": [
    "# Ejercicios"
   ]
  },
  {
   "cell_type": "markdown",
   "metadata": {},
   "source": [
    "## Python basico"
   ]
  },
  {
   "cell_type": "code",
   "execution_count": 1,
   "metadata": {},
   "outputs": [
    {
     "name": "stdout",
     "output_type": "stream",
     "text": [
      "Hola mundo\n"
     ]
    }
   ],
   "source": [
    "# 1. #Escribir hola mundo por pantalla\n",
    "print(\"Hola mundo\")"
   ]
  },
  {
   "cell_type": "code",
   "execution_count": 2,
   "metadata": {},
   "outputs": [],
   "source": [
    "# 2. Guarde su nombre y su edad en una variable y muestrelas por pantalla\n",
    "nombre = \"Pablo\"\n",
    "edad = 12"
   ]
  },
  {
   "cell_type": "markdown",
   "metadata": {},
   "source": [
    "## Números"
   ]
  },
  {
   "cell_type": "code",
   "execution_count": 3,
   "metadata": {},
   "outputs": [
    {
     "name": "stdout",
     "output_type": "stream",
     "text": [
      "La suma de 5 y 7 es 12\n"
     ]
    }
   ],
   "source": [
    "# 3.Sume dos números y muestre el resultado por pantalla\n",
    "num1 = 5\n",
    "num2 = 7\n",
    "\n",
    "# Sumar los números\n",
    "suma =  num1 + num2 \n",
    "\n",
    "# Mostrar el resultado\n",
    "print(f\"La suma de {num1} y {num2} es {suma}\")"
   ]
  },
  {
   "cell_type": "code",
   "execution_count": 4,
   "metadata": {},
   "outputs": [
    {
     "name": "stdout",
     "output_type": "stream",
     "text": [
      "La superficie del cuadrado es \n",
      "16\n"
     ]
    }
   ],
   "source": [
    "# 4. Calcule de la superficie de un cuadrado conociendo uno de sus lados\n",
    "\n",
    "lado = int(input(\"Ingrese la medida del lado del cuadrado: \"))\n",
    "superficie = lado  * lado\n",
    "# superficie = lado ^ 2\n",
    "print(\"La superficie del cuadrado es \")\n",
    "print (superficie)"
   ]
  },
  {
   "cell_type": "markdown",
   "metadata": {},
   "source": [
    "## Operadores"
   ]
  },
  {
   "cell_type": "code",
   "execution_count": 5,
   "metadata": {},
   "outputs": [
    {
     "name": "stdout",
     "output_type": "stream",
     "text": [
      "El número 15 es impar.\n"
     ]
    }
   ],
   "source": [
    "# 5. Determinar si un número es par o impar\n",
    "numero = int(input(\"Ingrese un número: \"))\n",
    "\n",
    "# Determinar si el número es par o impar\n",
    "if numero % 2 == 0:\n",
    "    print(f\"El número {numero} es par.\")\n",
    "else:\n",
    "    print(f\"El número {numero} es impar.\")"
   ]
  },
  {
   "cell_type": "code",
   "execution_count": 6,
   "metadata": {},
   "outputs": [
    {
     "name": "stdout",
     "output_type": "stream",
     "text": [
      "El número es cero.\n"
     ]
    }
   ],
   "source": [
    "# 6. Determinar si un número es positivo o negativo\n",
    "\n",
    "numero = float(input(\"Introduce un número: \"))\n",
    "\n",
    "if numero != 0:\n",
    "    if numero > 0:\n",
    "        print(\"El número es positivo.\")\n",
    "    else:\n",
    "        print(\"El número es negativo.\")\n",
    "else:\n",
    "    print(\"El número es cero.\")\n",
    "\n"
   ]
  },
  {
   "cell_type": "markdown",
   "metadata": {},
   "source": [
    "## Strings"
   ]
  },
  {
   "cell_type": "code",
   "execution_count": 7,
   "metadata": {},
   "outputs": [
    {
     "name": "stdout",
     "output_type": "stream",
     "text": [
      "La longitud de la cadena es: 4\n"
     ]
    }
   ],
   "source": [
    "# 7. Escribe un programa que tome una cadena como entrada y devuelva su longitud.\n",
    "\n",
    "string = input(\"Introduce un string: \")\n",
    "longitud = len(string)\n",
    "print(f\"La longitud de la cadena es: {longitud}\")"
   ]
  },
  {
   "cell_type": "code",
   "execution_count": 9,
   "metadata": {},
   "outputs": [
    {
     "name": "stdout",
     "output_type": "stream",
     "text": [
      "Cadena en mayúsculas: <built-in method upper of str object at 0x0000027C0AD7F240>\n"
     ]
    }
   ],
   "source": [
    "# 9. Escribe un programa que convierta una cadena a mayúsculas.\n",
    "\n",
    "string = input(\"Introduce un string: \")\n",
    "cadena_mayusculas = string.upper()\n",
    "print(f\"Cadena en mayúsculas: {cadena_mayusculas}\")"
   ]
  },
  {
   "cell_type": "code",
   "execution_count": 12,
   "metadata": {},
   "outputs": [
    {
     "name": "stdout",
     "output_type": "stream",
     "text": [
      "10\n",
      "La primera letra es: H\n",
      "La última letra es: o\n"
     ]
    }
   ],
   "source": [
    "# 10.Escribe un programa que tome una cadena como entrada y devuelva la primera y la última letra de la cadena.\n",
    "\n",
    "# string = input(\"Introduce un string: \")\n",
    "string = \"Hola mundo\"\n",
    "long = len(string)\n",
    "print(long)\n",
    "\n",
    "primera_letra = string[0]\n",
    "ultima_letra = string[long-1]\n",
    "print(f\"La primera letra es: {primera_letra}\")\n",
    "print(f\"La última letra es: {ultima_letra}\")"
   ]
  },
  {
   "cell_type": "markdown",
   "metadata": {},
   "source": [
    "## Funciones"
   ]
  },
  {
   "cell_type": "code",
   "execution_count": null,
   "metadata": {},
   "outputs": [],
   "source": [
    "# 11. Escribe una función llamada suma que tome dos números como parámetros y devuelva su suma.\n",
    "\n",
    "def suma(a, b):\n",
    "    return \n",
    "\n",
    "# Ejemplo de uso\n",
    "resultado = suma(3, 5)\n",
    "print(f\"La suma es: {resultado}\")  # Output: La suma es: 8"
   ]
  },
  {
   "cell_type": "code",
   "execution_count": null,
   "metadata": {},
   "outputs": [],
   "source": [
    "# 12. Escribe una función llamada es_par que tome un número como parámetro y devuelva True si es par, y False si es impar.\n",
    "\n",
    "# Ejemplo de uso\n",
    "print(es_par(4))\n",
    "print(es_par(7))"
   ]
  },
  {
   "cell_type": "code",
   "execution_count": null,
   "metadata": {},
   "outputs": [],
   "source": [
    "# 13. Escribe una función llamada maximo que tome tres números como parámetros y devuelva el mayor de ellos.\n",
    "\n",
    "print(maximo(3, 7, 5))"
   ]
  },
  {
   "cell_type": "code",
   "execution_count": null,
   "metadata": {},
   "outputs": [],
   "source": [
    "# 14. Escribe una función llamada area_circulo que tome el radio de un círculo como parámetro y devuelva su área. Usa la fórmula A = πr².\n",
    "\n",
    "import math\n"
   ]
  },
  {
   "cell_type": "markdown",
   "metadata": {},
   "source": [
    "## Listas"
   ]
  },
  {
   "cell_type": "code",
   "execution_count": null,
   "metadata": {},
   "outputs": [],
   "source": [
    "# 15. Crea una lista con cinco elementos y escribe un programa que imprima el primer y el último elemento de la lista.\n",
    "\n",
    "mi_lista = []\n",
    "\n",
    "# Acceder al primer y último elemento\n",
    "print(f\"Primer elemento: {mi_lista[]}\")\n",
    "print(f\"Último elemento: {mi_lista[]}\")"
   ]
  },
  {
   "cell_type": "code",
   "execution_count": null,
   "metadata": {},
   "outputs": [],
   "source": [
    "# 16. Crea una lista con cinco números, luego cambia el valor del segundo elemento a 100 y el último elemento a 200. Finalmente, imprime la lista modificada.\n",
    "\n",
    "\n",
    "\n",
    "# Modificar elementos\n",
    "mi_lista[] = 100\n",
    "mi_lista[] = 200\n",
    "\n",
    "print(f\"Lista modificada: {mi_lista}\")"
   ]
  },
  {
   "cell_type": "code",
   "execution_count": null,
   "metadata": {},
   "outputs": [],
   "source": [
    "# 17. Escribe una función llamada sumar_lista que tome una lista de números como parámetro y devuelva la suma de todos los elementos.\n",
    "\n",
    "def sumar_lista(lista):\n",
    "    \n",
    "\n",
    "# Ejemplo de uso\n",
    "mi_lista = [1, 2, 3, 4, 5]\n",
    "print(f\"La suma de los elementos es: {sumar_lista(mi_lista)}\")"
   ]
  },
  {
   "cell_type": "code",
   "execution_count": null,
   "metadata": {},
   "outputs": [],
   "source": [
    "# 18. Escribe una función llamada maximo_lista que tome una lista de números como parámetro y devuelva el número más grande de la lista."
   ]
  },
  {
   "cell_type": "code",
   "execution_count": null,
   "metadata": {},
   "outputs": [],
   "source": [
    "# 19. Escribe un programa que cuente cuántos elementos hay en una lista.    "
   ]
  }
 ],
 "metadata": {
  "kernelspec": {
   "display_name": "base",
   "language": "python",
   "name": "python3"
  },
  "language_info": {
   "codemirror_mode": {
    "name": "ipython",
    "version": 3
   },
   "file_extension": ".py",
   "mimetype": "text/x-python",
   "name": "python",
   "nbconvert_exporter": "python",
   "pygments_lexer": "ipython3",
   "version": "3.12.4"
  }
 },
 "nbformat": 4,
 "nbformat_minor": 2
}
