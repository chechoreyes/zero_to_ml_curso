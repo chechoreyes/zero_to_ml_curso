{
 "cells": [
  {
   "cell_type": "markdown",
   "metadata": {},
   "source": [
    "# Ejercicios"
   ]
  },
  {
   "cell_type": "markdown",
   "metadata": {},
   "source": [
    "## Python basico"
   ]
  },
  {
   "cell_type": "code",
   "execution_count": null,
   "metadata": {},
   "outputs": [],
   "source": [
    "# 1. #Escribir hola mundo por pantalla"
   ]
  },
  {
   "cell_type": "code",
   "execution_count": null,
   "metadata": {},
   "outputs": [],
   "source": [
    "# 2. Guarde su nombre y su edad en una variable y muestrelas por pantalla\n",
    "nombre = \n",
    "edad = "
   ]
  },
  {
   "cell_type": "markdown",
   "metadata": {},
   "source": [
    "## Números"
   ]
  },
  {
   "cell_type": "code",
   "execution_count": null,
   "metadata": {},
   "outputs": [],
   "source": [
    "# 3.Sume dos números y muestre el resultado por pantalla\n",
    "num1 = \n",
    "num2 = \n",
    "\n",
    "# Sumar los números\n",
    "suma =  \n",
    "\n",
    "# Mostrar el resultado\n",
    "print(f\"La suma de {num1} y {num2} es {suma}\")"
   ]
  },
  {
   "cell_type": "code",
   "execution_count": null,
   "metadata": {},
   "outputs": [],
   "source": [
    "# 4. Calcule de la superficie de un cuadrado conociendo uno de sus lados\n",
    "\n",
    "lado = int(input(\"Ingrese la medida del lado del cuadrado: \"))\n",
    "superficie = \n",
    "print(\"La superficie del cuadrado es \")\n",
    "print (superficie)"
   ]
  },
  {
   "cell_type": "markdown",
   "metadata": {},
   "source": [
    "## Operadores"
   ]
  },
  {
   "cell_type": "code",
   "execution_count": null,
   "metadata": {},
   "outputs": [],
   "source": [
    "# 5. Determinar si un número es par o impar\n",
    "numero = int(input(\"Ingrese un número: \"))\n",
    "\n",
    "# Determinar si el número es par o impar\n",
    "if :\n",
    "    print(f\"El número {numero} es par.\")\n",
    "else:\n",
    "    print(f\"El número {numero} es impar.\")"
   ]
  },
  {
   "cell_type": "code",
   "execution_count": null,
   "metadata": {},
   "outputs": [],
   "source": [
    "# 6. Determinar si un número es positivo o negativo\n",
    "\n",
    "numero = float(input(\"Introduce un número: \"))\n",
    "\n",
    "    print(\"El número es positivo.\")\n",
    "\n",
    "    print(\"El número es negativo.\")\n",
    "\n",
    "    print(\"El número es cero.\")"
   ]
  },
  {
   "cell_type": "markdown",
   "metadata": {},
   "source": [
    "## Strings"
   ]
  },
  {
   "cell_type": "code",
   "execution_count": null,
   "metadata": {},
   "outputs": [],
   "source": [
    "# 7. Escribe un programa que tome una cadena como entrada y devuelva su longitud.\n",
    "\n",
    "string = input(\"Introduce un string: \")\n",
    "longitud =\n",
    "print(f\"La longitud de la cadena es: {longitud}\")"
   ]
  },
  {
   "cell_type": "code",
   "execution_count": null,
   "metadata": {},
   "outputs": [],
   "source": [
    "# 9. Escribe un programa que convierta una cadena a mayúsculas.\n",
    "\n",
    "string = input(\"Introduce un string: \")\n",
    "cadena_mayusculas = \n",
    "print(f\"Cadena en mayúsculas: {cadena_mayusculas}\")"
   ]
  },
  {
   "cell_type": "code",
   "execution_count": null,
   "metadata": {},
   "outputs": [],
   "source": [
    "# 10.Escribe un programa que tome una cadena como entrada y devuelva la primera y la última letra de la cadena.\n",
    "\n",
    "string = input(\"Introduce un string: \")\n",
    "primera_letra =\n",
    "ultima_letra = \n",
    "print(f\"La primera letra es: {primera_letra}\")\n",
    "print(f\"La última letra es: {ultima_letra}\")"
   ]
  },
  {
   "cell_type": "markdown",
   "metadata": {},
   "source": [
    "## Funciones"
   ]
  },
  {
   "cell_type": "code",
   "execution_count": null,
   "metadata": {},
   "outputs": [],
   "source": [
    "# 11. Escribe una función llamada suma que tome dos números como parámetros y devuelva su suma.\n",
    "\n",
    "def suma(a, b):\n",
    "    return \n",
    "\n",
    "# Ejemplo de uso\n",
    "resultado = suma(3, 5)\n",
    "print(f\"La suma es: {resultado}\")  # Output: La suma es: 8"
   ]
  },
  {
   "cell_type": "code",
   "execution_count": null,
   "metadata": {},
   "outputs": [],
   "source": [
    "# 12. Escribe una función llamada es_par que tome un número como parámetro y devuelva True si es par, y False si es impar.\n",
    "\n",
    "# Ejemplo de uso\n",
    "print(es_par(4))\n",
    "print(es_par(7))"
   ]
  },
  {
   "cell_type": "code",
   "execution_count": null,
   "metadata": {},
   "outputs": [],
   "source": [
    "# 13. Escribe una función llamada maximo que tome tres números como parámetros y devuelva el mayor de ellos.\n",
    "\n",
    "print(maximo(3, 7, 5))"
   ]
  },
  {
   "cell_type": "code",
   "execution_count": null,
   "metadata": {},
   "outputs": [],
   "source": [
    "# 14. Escribe una función llamada area_circulo que tome el radio de un círculo como parámetro y devuelva su área. Usa la fórmula A = πr².\n",
    "\n",
    "import math\n"
   ]
  },
  {
   "cell_type": "markdown",
   "metadata": {},
   "source": [
    "## Listas"
   ]
  },
  {
   "cell_type": "code",
   "execution_count": null,
   "metadata": {},
   "outputs": [],
   "source": [
    "# 15. Crea una lista con cinco elementos y escribe un programa que imprima el primer y el último elemento de la lista.\n",
    "\n",
    "mi_lista = []\n",
    "\n",
    "# Acceder al primer y último elemento\n",
    "print(f\"Primer elemento: {mi_lista[]}\")\n",
    "print(f\"Último elemento: {mi_lista[]}\")"
   ]
  },
  {
   "cell_type": "code",
   "execution_count": null,
   "metadata": {},
   "outputs": [],
   "source": [
    "# 16. Crea una lista con cinco números, luego cambia el valor del segundo elemento a 100 y el último elemento a 200. Finalmente, imprime la lista modificada.\n",
    "\n",
    "\n",
    "\n",
    "# Modificar elementos\n",
    "mi_lista[] = 100\n",
    "mi_lista[] = 200\n",
    "\n",
    "print(f\"Lista modificada: {mi_lista}\")"
   ]
  },
  {
   "cell_type": "code",
   "execution_count": null,
   "metadata": {},
   "outputs": [],
   "source": [
    "# 17. Escribe una función llamada sumar_lista que tome una lista de números como parámetro y devuelva la suma de todos los elementos.\n",
    "\n",
    "def sumar_lista(lista):\n",
    "    \n",
    "\n",
    "# Ejemplo de uso\n",
    "mi_lista = [1, 2, 3, 4, 5]\n",
    "print(f\"La suma de los elementos es: {sumar_lista(mi_lista)}\")"
   ]
  },
  {
   "cell_type": "code",
   "execution_count": null,
   "metadata": {},
   "outputs": [],
   "source": [
    "# 18. Escribe una función llamada maximo_lista que tome una lista de números como parámetro y devuelva el número más grande de la lista."
   ]
  },
  {
   "cell_type": "code",
   "execution_count": null,
   "metadata": {},
   "outputs": [],
   "source": [
    "# 19. Escribe un programa que cuente cuántos elementos hay en una lista.    "
   ]
  }
 ],
 "metadata": {
  "language_info": {
   "name": "python"
  }
 },
 "nbformat": 4,
 "nbformat_minor": 2
}
