{
  "cells": [
    {
      "cell_type": "markdown",
      "metadata": {
        "id": "ItbXu0FIPfw8"
      },
      "source": [
        "# Estructuras de datos: Listas\n",
        "\n"
      ]
    },
    {
      "cell_type": "markdown",
      "metadata": {
        "id": "99RwmBNvERIi"
      },
      "source": [
        "## Lista"
      ]
    },
    {
      "cell_type": "markdown",
      "metadata": {
        "id": "lSt0TS6Z4hla"
      },
      "source": [
        "Éstas son un conjunto de elementos ordenados separados por comas y escritos entre claudators, `[]`.\n",
        "\n",
        "Las listas son:\n",
        "- hetereogéneas: los elementos pueden ser de distinto tipo en una misma lista\n",
        "- mutables: los elementos pueden ser modificados\n",
        "\n",
        "Un ejemplo de lista sería"
      ]
    },
    {
      "cell_type": "code",
      "execution_count": null,
      "metadata": {
        "colab": {
          "base_uri": "https://localhost:8080/"
        },
        "id": "4HVLotuzOY78",
        "outputId": "de699f98-ea24-40e3-e885-fbe65db2c5b8"
      },
      "outputs": [
        {
          "name": "stdout",
          "output_type": "stream",
          "text": [
            "['Juan', 31, 172.32, True]\n"
          ]
        }
      ],
      "source": [
        "l = [\"Juan\", 31, 172.32, True]\n",
        "print(l)"
      ]
    },
    {
      "cell_type": "code",
      "execution_count": null,
      "metadata": {
        "colab": {
          "base_uri": "https://localhost:8080/"
        },
        "id": "oYyRU_ZtMOPD",
        "outputId": "196be624-7c2f-4e7a-8c7d-eedb4e0cd986"
      },
      "outputs": [
        {
          "data": {
            "text/plain": [
              "list"
            ]
          },
          "execution_count": 2,
          "metadata": {
            "tags": []
          },
          "output_type": "execute_result"
        }
      ],
      "source": [
        "type(l)"
      ]
    },
    {
      "cell_type": "markdown",
      "metadata": {
        "id": "26Vo3ZIz4uFF"
      },
      "source": [
        "### Tamaño de una lista\n",
        "\n",
        "Para saber la longitud o el tamaño de una lista, podemos hacer uso de la función `len()`"
      ]
    },
    {
      "cell_type": "code",
      "execution_count": null,
      "metadata": {
        "colab": {
          "base_uri": "https://localhost:8080/"
        },
        "id": "O2mrxwhT4wu6",
        "outputId": "8a0dbcca-1327-496f-96ac-071aa41bfeb2"
      },
      "outputs": [
        {
          "data": {
            "text/plain": [
              "9"
            ]
          },
          "execution_count": 3,
          "metadata": {
            "tags": []
          },
          "output_type": "execute_result"
        }
      ],
      "source": [
        "l = [1, 2, 3, 4, 5, 6, 7, 8, 9]\n",
        "len(l)"
      ]
    },
    {
      "cell_type": "code",
      "execution_count": null,
      "metadata": {
        "colab": {
          "base_uri": "https://localhost:8080/"
        },
        "id": "ztYXxTBQ5Afz",
        "outputId": "c6a1aafa-7eca-45f7-cc3a-507eb17ac7e7"
      },
      "outputs": [
        {
          "data": {
            "text/plain": [
              "4"
            ]
          },
          "execution_count": 4,
          "metadata": {
            "tags": []
          },
          "output_type": "execute_result"
        }
      ],
      "source": [
        "l = [\"Zoe\", \"Pablo\", \"Miguel\", \"Silvia\"]\n",
        "len(l)"
      ]
    },
    {
      "cell_type": "markdown",
      "metadata": {
        "id": "-59Ypfhk422D"
      },
      "source": [
        "### Elementos de una lista\n",
        "\n",
        "Cada elemento en la lista tiene su propio índice"
      ]
    },
    {
      "cell_type": "code",
      "execution_count": null,
      "metadata": {
        "id": "k4BlMHoY44Hd"
      },
      "outputs": [],
      "source": [
        "names = [\"Maria\", \"Juan\", \"Claudia\", \"Jorge\", \"Avelina\"]"
      ]
    },
    {
      "cell_type": "markdown",
      "metadata": {
        "id": "rejhVbhW5IEe"
      },
      "source": [
        "A `María` le corresponde el índice 0; a `Juan`, el 1; a `Claudia` el 2; a `Jorge`, el 3; y a `Avelina`, el 4.\n",
        "\n",
        "**¡Cuidado!** En `Python`, los índices siempre empiezan en 0. De este modo, al primer elemento le corresponde el índice 0; al segundo, el índice 1; y al $n$-ésimo, le corresponde el índice $n−1$."
      ]
    },
    {
      "cell_type": "markdown",
      "metadata": {
        "id": "O6g3DzOH5dBS"
      },
      "source": [
        "Dada una lista, podemos acceder a sus elementos utilizando la sintaxis `[]`."
      ]
    },
    {
      "cell_type": "code",
      "execution_count": null,
      "metadata": {
        "colab": {
          "base_uri": "https://localhost:8080/"
        },
        "id": "MFoUruJ74zQm",
        "outputId": "67366170-8ee3-4414-a27c-cc16e32f90f3"
      },
      "outputs": [
        {
          "name": "stdout",
          "output_type": "stream",
          "text": [
            "Maria\n"
          ]
        }
      ],
      "source": [
        "print(names[0])"
      ]
    },
    {
      "cell_type": "code",
      "execution_count": null,
      "metadata": {
        "colab": {
          "base_uri": "https://localhost:8080/"
        },
        "id": "QMyp3iEo5kLt",
        "outputId": "625bfd71-3bf9-4d39-8e65-700c94e4abe9"
      },
      "outputs": [
        {
          "name": "stdout",
          "output_type": "stream",
          "text": [
            "Jorge\n"
          ]
        }
      ],
      "source": [
        "print(names[3])"
      ]
    },
    {
      "cell_type": "markdown",
      "metadata": {
        "id": "_Hmr833q5nV8"
      },
      "source": [
        "**¡Cuidado!** Si dada una lista llamamos a un elemento cuyo índice no existe para dicha lista, `Python` automáticamente nos devolverá error.\n",
        "\n",
        "Podemos acceder a los últimos elementos de la lista haciendo uso de índices negativos."
      ]
    },
    {
      "cell_type": "code",
      "execution_count": null,
      "metadata": {
        "colab": {
          "base_uri": "https://localhost:8080/"
        },
        "id": "AuiXLtRS54UV",
        "outputId": "9257cfc8-ef9d-4a9a-a7ab-9be39720c254"
      },
      "outputs": [
        {
          "name": "stdout",
          "output_type": "stream",
          "text": [
            "Avelina\n"
          ]
        }
      ],
      "source": [
        "print(names[-1]) # Último elemento"
      ]
    },
    {
      "cell_type": "code",
      "execution_count": null,
      "metadata": {
        "colab": {
          "base_uri": "https://localhost:8080/"
        },
        "id": "ieekkTel58C5",
        "outputId": "67b0d89c-07cc-4ac1-cffb-944f45ee24f1"
      },
      "outputs": [
        {
          "name": "stdout",
          "output_type": "stream",
          "text": [
            "Claudia\n"
          ]
        }
      ],
      "source": [
        "print(names[-3]) # Tercer elemento empezando por el final"
      ]
    },
    {
      "cell_type": "markdown",
      "metadata": {
        "id": "FJu56xVr6TW0"
      },
      "source": [
        "Si en vez de querer acceder a los elementos uno por uno estamos interesados en acceder a avarios elementos a la vez, podemos hacer uso de la función `:`"
      ]
    },
    {
      "cell_type": "code",
      "execution_count": null,
      "metadata": {
        "colab": {
          "base_uri": "https://localhost:8080/"
        },
        "id": "-tuzXNRN6h-e",
        "outputId": "8234834e-4c86-4664-b98b-bcc86be304e6"
      },
      "outputs": [
        {
          "name": "stdout",
          "output_type": "stream",
          "text": [
            "['Claudia', 'Jorge']\n"
          ]
        }
      ],
      "source": [
        "print(names[2:4])"
      ]
    },
    {
      "cell_type": "code",
      "execution_count": null,
      "metadata": {
        "colab": {
          "base_uri": "https://localhost:8080/"
        },
        "id": "4lvqDEvB6iDp",
        "outputId": "09419155-caf9-48e8-9b10-8873ca1bf07b"
      },
      "outputs": [
        {
          "name": "stdout",
          "output_type": "stream",
          "text": [
            "['Maria', 'Juan', 'Claudia']\n"
          ]
        }
      ],
      "source": [
        "print(names[:3])"
      ]
    },
    {
      "cell_type": "code",
      "execution_count": null,
      "metadata": {
        "colab": {
          "base_uri": "https://localhost:8080/"
        },
        "id": "M3ZWPZCc6iJ1",
        "outputId": "7145f8ef-eb14-4010-8b6c-c597755943b2"
      },
      "outputs": [
        {
          "name": "stdout",
          "output_type": "stream",
          "text": [
            "['Jorge', 'Avelina']\n"
          ]
        }
      ],
      "source": [
        "print(names[3:])"
      ]
    },
    {
      "cell_type": "markdown",
      "metadata": {
        "id": "OixzsJEA6m7p"
      },
      "source": [
        "**Observación.** En cuanto a la función `:`\n",
        "\n",
        "- El índice indicado a la derecha de los `:` nunca es incluido\n",
        "- Si no indicamos elemento a la izquierda de los `:`, por defecto `Python` interpreta que se trata del 0\n",
        "- Si no indicamos elemento a la derecha, por defecto `Python`interpreta que debe mostrar los elemetos desde el índice indicado a la izquierda hasta el último."
      ]
    },
    {
      "cell_type": "markdown",
      "metadata": {
        "id": "nZoijkn77vl6"
      },
      "source": [
        "Además de acceder, podemos modificar los elementos de una lista"
      ]
    },
    {
      "cell_type": "code",
      "execution_count": null,
      "metadata": {
        "colab": {
          "base_uri": "https://localhost:8080/"
        },
        "id": "GyKiA0yQ726D",
        "outputId": "d97fb8d6-d359-4b99-df3f-cb9dfc7e9d1a"
      },
      "outputs": [
        {
          "data": {
            "text/plain": [
              "['Marina', 'Juan', 'Claudia', 'Jaime', 'Avelina']"
            ]
          },
          "execution_count": 14,
          "metadata": {
            "tags": []
          },
          "output_type": "execute_result"
        }
      ],
      "source": [
        "names[0] = \"Marina\"\n",
        "names[3] = \"Jaime\"\n",
        "names"
      ]
    },
    {
      "cell_type": "markdown",
      "metadata": {
        "id": "UZ2E_j4AEsWr"
      },
      "source": [
        "Podemos añadir nuevos elementos a una lista con el método `.append()`"
      ]
    },
    {
      "cell_type": "code",
      "execution_count": null,
      "metadata": {
        "colab": {
          "base_uri": "https://localhost:8080/"
        },
        "id": "IZhfrnKTExxg",
        "outputId": "827be148-91a9-4b0b-824b-7ee3b4ff4e54"
      },
      "outputs": [
        {
          "name": "stdout",
          "output_type": "stream",
          "text": [
            "['María', 'Cristina', 'Juana']\n",
            "['María', 'Cristina', 'Juana', 'Andrea']\n",
            "['María', 'Cristina', 'Juana', 'Andrea', 'Ana']\n"
          ]
        }
      ],
      "source": [
        "names = [\"María\", \"Cristina\", \"Juana\"]\n",
        "print(names)\n",
        "\n",
        "names.append(\"Andrea\")\n",
        "print(names)\n",
        "names.append(\"Ana\")\n",
        "print(names)"
      ]
    },
    {
      "cell_type": "markdown",
      "metadata": {
        "id": "a1KziYptFBkG"
      },
      "source": [
        "**Observación.** Los elementos añadidos con el método `.append()`, se incluyen al final.\n",
        "\n",
        "Si quisiéramos añadir un nuevo elemento a una lista, pero no lo quisiéramos al final, sino en una posición específica, entonces utilizaremos el método `.insert()` al que primero le indicamos el índice donde queremos posicionar el nuevo elemento y, en segundo lugar, indicamos dicho nuevo elemento."
      ]
    },
    {
      "cell_type": "code",
      "execution_count": null,
      "metadata": {
        "colab": {
          "base_uri": "https://localhost:8080/"
        },
        "id": "pKSfiqf9Fc9s",
        "outputId": "93c3a949-90cb-4e5f-ce78-a85b252c6253"
      },
      "outputs": [
        {
          "name": "stdout",
          "output_type": "stream",
          "text": [
            "['Mario', 'Cristian', 'Juan']\n",
            "['Mario', 'Andrés', 'Cristian', 'Juan']\n",
            "['Mario', 'Andrés', 'Cristian', 'Miguel', 'Juan']\n"
          ]
        }
      ],
      "source": [
        "names = [\"Mario\", \"Cristian\", \"Juan\"]\n",
        "print(names)\n",
        "\n",
        "names.insert(1, \"Andrés\")\n",
        "print(names)\n",
        "names.insert(3, \"Miguel\")\n",
        "print(names)"
      ]
    },
    {
      "cell_type": "markdown",
      "metadata": {
        "id": "N3cpnwNaFrYk"
      },
      "source": [
        "**Observación.** Cuando le indicamos que queremos el elemento `Andrés` en el índice 1, el que antes ocupaba dicho índice, `Cristian`, pasa a ocupar el siguiente, 2, y así con el resto de elementos que van a continuación."
      ]
    },
    {
      "cell_type": "markdown",
      "metadata": {
        "id": "EXg4xr8dP6_k"
      },
      "source": [
        "## Bucles con listas"
      ]
    },
    {
      "cell_type": "markdown",
      "metadata": {
        "id": "Jbblbwu_4tdD"
      },
      "source": [
        "Si quisiéramos imprimir por pantalla todos los elementos de una lista, lo podríamos hacer mediante los índices"
      ]
    },
    {
      "cell_type": "code",
      "execution_count": null,
      "metadata": {
        "colab": {
          "base_uri": "https://localhost:8080/"
        },
        "id": "3n1Nz98vWbcY",
        "outputId": "b6fd8137-7b8b-44bb-bcb2-3b8fe2d20933"
      },
      "outputs": [
        {
          "name": "stdout",
          "output_type": "stream",
          "text": [
            "Mario\n",
            "Andrés\n",
            "Cristian\n",
            "Miguel\n",
            "Juan\n"
          ]
        }
      ],
      "source": [
        "for i in range(len(names)):\n",
        "  print(names[i])"
      ]
    },
    {
      "cell_type": "markdown",
      "metadata": {
        "id": "ESHFOO-7WbpB"
      },
      "source": [
        "o mucho más fácilmente iterando la lista con un `for` con la siguiente sintaxis:"
      ]
    },
    {
      "cell_type": "code",
      "execution_count": null,
      "metadata": {
        "colab": {
          "base_uri": "https://localhost:8080/"
        },
        "id": "wruvYnQNP8Kv",
        "outputId": "003f6684-9be2-4834-fac3-84f6ebeb89d1"
      },
      "outputs": [
        {
          "name": "stdout",
          "output_type": "stream",
          "text": [
            "Mario\n",
            "Andrés\n",
            "Cristian\n",
            "Miguel\n",
            "Juan\n"
          ]
        }
      ],
      "source": [
        "for name in names:\n",
        "  print(name)"
      ]
    },
    {
      "cell_type": "markdown",
      "metadata": {
        "id": "ZX5xIkdQEZ1P"
      },
      "source": [
        "## Más métodos de listas\n",
        "\n",
        "El método `.count()` recibe un elemento como argumento y cuenta la cantidad de veces que aparece en la lista"
      ]
    },
    {
      "cell_type": "code",
      "execution_count": null,
      "metadata": {
        "colab": {
          "base_uri": "https://localhost:8080/"
        },
        "id": "V6BBrZJpXo9L",
        "outputId": "82c41441-2483-462b-f700-f688dc3c5f64"
      },
      "outputs": [
        {
          "name": "stdout",
          "output_type": "stream",
          "text": [
            "El elemento 0 aparece 1 veces\n",
            "El elemento 1 aparece 2 veces\n",
            "El elemento 2 aparece 3 veces\n",
            "El elemento 3 aparece 4 veces\n"
          ]
        }
      ],
      "source": [
        "numbers = [0, 1, 1, 2, 2, 2, 3, 3, 3, 3]\n",
        "\n",
        "counted = []\n",
        "for element in numbers:\n",
        "  if element not in counted:\n",
        "    counted.append(element)\n",
        "    print(\"El elemento {} aparece {} veces\".format(element, numbers.count(element)))"
      ]
    },
    {
      "cell_type": "markdown",
      "metadata": {
        "id": "PMTNZySUYk6g"
      },
      "source": [
        "El método `.extend()` extiende la lista agregando al final el iterable indicado por parámetro."
      ]
    },
    {
      "cell_type": "code",
      "execution_count": null,
      "metadata": {
        "colab": {
          "base_uri": "https://localhost:8080/"
        },
        "id": "iRdOTIB3ZC4w",
        "outputId": "a58c78fa-fd91-4552-84a0-3fed2d83b296"
      },
      "outputs": [
        {
          "name": "stdout",
          "output_type": "stream",
          "text": [
            "[1, 2, 3, 4, 5]\n",
            "[1, 2, 3, 4, 5, 6]\n",
            "[1, 2, 3, 4, 5, 6, 7, 8]\n",
            "[1, 2, 3, 4, 5, 6, 7, 8, 9, 10, 11, 12, 13, 14, 15]\n"
          ]
        }
      ],
      "source": [
        "numbers = [1, 2, 3, 4, 5]\n",
        "print(numbers)\n",
        "numbers.extend([6])\n",
        "print(numbers)\n",
        "numbers.extend([7, 8])\n",
        "print(numbers)\n",
        "numbers.extend(range(9, 16))\n",
        "print(numbers)"
      ]
    },
    {
      "cell_type": "markdown",
      "metadata": {
        "id": "Kb-WKIJ6ZcTZ"
      },
      "source": [
        "**Observación.** Un iterable es un objeto de `Python` capaz de devolver sus elementos uno por uno, permitiendo ser iterado en un bucle for. De momento solo conocemos las listas y el resultado de `range()`, pero en secciones futuras veremos los diccionarios, las tuplas y los conjuntos, que también son objetos iterables.\n",
        "\n",
        "El método `index()` recibe un elemento como argumento y devuelve el índice de la primera aparición en la lista."
      ]
    },
    {
      "cell_type": "code",
      "execution_count": null,
      "metadata": {
        "colab": {
          "base_uri": "https://localhost:8080/"
        },
        "id": "OPebO8hMaN4w",
        "outputId": "a5e794b1-90d7-4181-d08d-6668a30e91ed"
      },
      "outputs": [
        {
          "name": "stdout",
          "output_type": "stream",
          "text": [
            "3\n",
            "7\n"
          ]
        }
      ],
      "source": [
        "numbers = [0, 1, 1, 2, 2, 2, 3, 4, 3, 4]\n",
        "print(numbers.index(2))\n",
        "print(numbers.index(4))"
      ]
    },
    {
      "cell_type": "markdown",
      "metadata": {
        "id": "W5h0i4apafso"
      },
      "source": [
        "El método `.pop()` devuelve el último elemento de la lista y lo borra de la misma."
      ]
    },
    {
      "cell_type": "code",
      "execution_count": null,
      "metadata": {
        "colab": {
          "base_uri": "https://localhost:8080/"
        },
        "id": "p-oSH49mae7D",
        "outputId": "8e2d6c7a-c2cf-4e64-aa68-39dc6831c75f"
      },
      "outputs": [
        {
          "name": "stdout",
          "output_type": "stream",
          "text": [
            "[0, 1, 1, 2, 2, 2, 3, 4, 3, 4]\n",
            "4\n",
            "[0, 1, 1, 2, 2, 2, 3, 4, 3]\n",
            "3\n",
            "[0, 1, 1, 2, 2, 2, 3, 4]\n",
            "4\n",
            "[0, 1, 1, 2, 2, 2, 3]\n",
            "3\n",
            "[0, 1, 1, 2, 2, 2]\n",
            "2\n",
            "[0, 1, 1, 2, 2]\n"
          ]
        }
      ],
      "source": [
        "print(numbers)\n",
        "for i in range(5):\n",
        "    print(numbers.pop())\n",
        "    print(numbers)"
      ]
    },
    {
      "cell_type": "markdown",
      "metadata": {
        "id": "fexfWnIQasny"
      },
      "source": [
        "El método `.remove()` recibe como argumento un elemento y borra su primera aparición de la lista."
      ]
    },
    {
      "cell_type": "code",
      "execution_count": null,
      "metadata": {
        "colab": {
          "base_uri": "https://localhost:8080/"
        },
        "id": "CYcjfVG8a0sS",
        "outputId": "da2af232-fe66-452b-fd97-716f883bc28f"
      },
      "outputs": [
        {
          "name": "stdout",
          "output_type": "stream",
          "text": [
            "[0, 1, 2, 3, 4, 5, 6, 7]\n"
          ]
        }
      ],
      "source": [
        "numbers = [0, 1, 2, 4, 3, 4, 5, 6, 7]\n",
        "numbers.remove(4)\n",
        "print(numbers)"
      ]
    },
    {
      "cell_type": "markdown",
      "metadata": {
        "id": "6pvVxrkMcF9M"
      },
      "source": [
        "El método `.reverse()` devuelve la lista en orden inverso."
      ]
    },
    {
      "cell_type": "code",
      "execution_count": null,
      "metadata": {
        "colab": {
          "base_uri": "https://localhost:8080/"
        },
        "id": "R-yDsN5jcO1F",
        "outputId": "bd41312d-39b7-4c01-afa9-09d2fe79fcc7"
      },
      "outputs": [
        {
          "name": "stdout",
          "output_type": "stream",
          "text": [
            "[-3, 3, -2, 2, -1, 1]\n"
          ]
        }
      ],
      "source": [
        "numbers = [1, -1, 2, -2, 3, -3]\n",
        "numbers.reverse()\n",
        "print(numbers)"
      ]
    },
    {
      "cell_type": "markdown",
      "metadata": {
        "id": "8okGin6-a-PB"
      },
      "source": [
        "El método `.sort()` devuelve la lista en orden."
      ]
    },
    {
      "cell_type": "code",
      "execution_count": null,
      "metadata": {
        "colab": {
          "base_uri": "https://localhost:8080/"
        },
        "id": "6oDSD0asbFEs",
        "outputId": "37715c9a-eaed-4782-af91-41d5e6b2f3b5"
      },
      "outputs": [
        {
          "name": "stdout",
          "output_type": "stream",
          "text": [
            "[1, 2, 3, 4, 5]\n"
          ]
        }
      ],
      "source": [
        "numbers = [1, 3, 5, 2, 4]\n",
        "numbers.sort()\n",
        "print(numbers)"
      ]
    },
    {
      "cell_type": "markdown",
      "metadata": {
        "id": "2NZMD1h7cWQh"
      },
      "source": [
        "Si quisiésemos ordenar los elementos en orden decreciente, podríamos hacer uso del parámetro `reverse` del método `.sort()`:"
      ]
    },
    {
      "cell_type": "code",
      "execution_count": null,
      "metadata": {
        "colab": {
          "base_uri": "https://localhost:8080/"
        },
        "id": "v6YUOQyAcest",
        "outputId": "c4788e6f-bd8b-4c6a-acc6-456f2213596f"
      },
      "outputs": [
        {
          "name": "stdout",
          "output_type": "stream",
          "text": [
            "[5, 4, 3, 2, 1]\n"
          ]
        }
      ],
      "source": [
        "numbers = [1, 3, 5, 2, 4]\n",
        "numbers.sort(reverse = True)\n",
        "print(numbers)"
      ]
    },
    {
      "cell_type": "markdown",
      "metadata": {
        "id": "_sTGvp7ld62r"
      },
      "source": [
        "**Observación.**  De momento solo conocemos las listas y el resultado de `range()`, pero en secciones futuras veremos los diccionarios, las tuplas y los conjuntos, que también son objetos iterables."
      ]
    },
    {
      "cell_type": "markdown",
      "metadata": {
        "id": "F0npSr9wdVj5"
      },
      "source": [
        "## Conversión a listas\n",
        "\n",
        "Para convertir un objeto iterable de `Python` a lista, hay que usar la función `list()`"
      ]
    },
    {
      "cell_type": "code",
      "execution_count": null,
      "metadata": {
        "colab": {
          "base_uri": "https://localhost:8080/"
        },
        "id": "08BIXna1ZVnr",
        "outputId": "caf5d637-b27b-4ab8-fad1-c68edbd829da"
      },
      "outputs": [
        {
          "name": "stdout",
          "output_type": "stream",
          "text": [
            "range(0, 100, 10)\n"
          ]
        }
      ],
      "source": [
        "print(range(0, 100, 10))"
      ]
    },
    {
      "cell_type": "code",
      "execution_count": null,
      "metadata": {
        "colab": {
          "base_uri": "https://localhost:8080/"
        },
        "id": "slaFEV37db2I",
        "outputId": "ddf74e36-4734-4ee8-c9a4-281b3a9ffa68"
      },
      "outputs": [
        {
          "name": "stdout",
          "output_type": "stream",
          "text": [
            "<class 'range'>\n"
          ]
        }
      ],
      "source": [
        "print(type(range(0, 100, 10)))"
      ]
    },
    {
      "cell_type": "code",
      "execution_count": null,
      "metadata": {
        "colab": {
          "base_uri": "https://localhost:8080/"
        },
        "id": "_90JWhxDd0gs",
        "outputId": "46e3a08f-1b20-4b33-bb04-aab55ef790a5"
      },
      "outputs": [
        {
          "name": "stdout",
          "output_type": "stream",
          "text": [
            "[0, 10, 20, 30, 40, 50, 60, 70, 80, 90]\n"
          ]
        }
      ],
      "source": [
        "print(list(range(0, 100, 10)))"
      ]
    },
    {
      "cell_type": "code",
      "execution_count": null,
      "metadata": {
        "colab": {
          "base_uri": "https://localhost:8080/"
        },
        "id": "r1DeGBCjd1sr",
        "outputId": "68a282a0-940d-426d-a6b8-e45ac3af525f"
      },
      "outputs": [
        {
          "name": "stdout",
          "output_type": "stream",
          "text": [
            "<class 'list'>\n"
          ]
        }
      ],
      "source": [
        "print(type(list(range(0, 100, 10))))"
      ]
    }
  ],
  "metadata": {
    "colab": {
      "provenance": []
    },
    "kernelspec": {
      "display_name": "Python 3",
      "name": "python3"
    }
  },
  "nbformat": 4,
  "nbformat_minor": 0
}
