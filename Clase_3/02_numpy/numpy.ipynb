{
  "cells": [
    {
      "cell_type": "markdown",
      "metadata": {
        "id": "8v3BFtGhGsNd"
      },
      "source": [
        "# Módulos de `Python`: `numpy`"
      ]
    },
    {
      "cell_type": "markdown",
      "metadata": {
        "id": "fRmok3PiUpg8"
      },
      "source": [
        "## `numpy`"
      ]
    },
    {
      "cell_type": "markdown",
      "metadata": {
        "id": "BC5RulfgbTfY"
      },
      "source": [
        "`numpy` es un módulo para trabajar con arrays, que son un tipo de lista, lo que mucho más rápidos de procesar.\n",
        "\n",
        "El objeto array de `numpy` recibe el nombre de `ndarray`. Este tipo de dato es muy usado en el mundo de la ciencia de datos, donde la velocidad y los recursos son de gran importancia."
      ]
    },
    {
      "cell_type": "code",
      "execution_count": null,
      "metadata": {
        "id": "oGDJf6j-bY72"
      },
      "outputs": [],
      "source": [
        "import numpy as np"
      ]
    },
    {
      "cell_type": "markdown",
      "metadata": {
        "id": "mRZiW-MLcUu6"
      },
      "source": [
        "Podemos comprobar la versión de `numpy` con la siguiente línea de código"
      ]
    },
    {
      "cell_type": "code",
      "execution_count": null,
      "metadata": {
        "colab": {
          "base_uri": "https://localhost:8080/"
        },
        "id": "hPLTB_3ccZIo",
        "outputId": "0410bc21-2baa-466c-f52f-f20fce9f275c"
      },
      "outputs": [
        {
          "name": "stdout",
          "output_type": "stream",
          "text": [
            "1.19.5\n"
          ]
        }
      ],
      "source": [
        "print(np.__version__)"
      ]
    },
    {
      "cell_type": "markdown",
      "metadata": {
        "id": "2bOZgYz0ciRt"
      },
      "source": [
        "#### Creando arrays\n",
        "\n",
        "Para crear un `ndarray` usamos el método `.array()`.\n",
        "\n",
        "Lo podemos hacer a partir de una lista:"
      ]
    },
    {
      "cell_type": "code",
      "execution_count": null,
      "metadata": {
        "colab": {
          "base_uri": "https://localhost:8080/"
        },
        "id": "xGqHw0bNcrIv",
        "outputId": "e8b9c5bf-cfd0-464d-d5ff-f9f397532daa"
      },
      "outputs": [
        {
          "name": "stdout",
          "output_type": "stream",
          "text": [
            "[1 2 3 4 5]\n"
          ]
        }
      ],
      "source": [
        "a = np.array([1, 2, 3, 4, 5])\n",
        "print(a)"
      ]
    },
    {
      "cell_type": "code",
      "execution_count": null,
      "metadata": {
        "colab": {
          "base_uri": "https://localhost:8080/"
        },
        "id": "UeF1K8lx4mP-",
        "outputId": "f3e3f550-5cce-465a-e701-07d4dcf6f884"
      },
      "outputs": [
        {
          "name": "stdout",
          "output_type": "stream",
          "text": [
            "<class 'numpy.ndarray'>\n"
          ]
        }
      ],
      "source": [
        "print(type(a))"
      ]
    },
    {
      "cell_type": "markdown",
      "metadata": {
        "id": "I26AgRA04v4t"
      },
      "source": [
        "O bien, a partir de una tupla:"
      ]
    },
    {
      "cell_type": "code",
      "execution_count": null,
      "metadata": {
        "colab": {
          "base_uri": "https://localhost:8080/"
        },
        "id": "DUn7B-ns4y7Y",
        "outputId": "20702e36-303f-45c8-8550-9785c2467174"
      },
      "outputs": [
        {
          "name": "stdout",
          "output_type": "stream",
          "text": [
            "[1 2 3 4 5 6 7]\n"
          ]
        }
      ],
      "source": [
        "b = np.array((1, 2, 3, 4, 5, 6, 7))\n",
        "print(b)"
      ]
    },
    {
      "cell_type": "code",
      "execution_count": null,
      "metadata": {
        "colab": {
          "base_uri": "https://localhost:8080/"
        },
        "id": "IrTwXkOe43j-",
        "outputId": "190a9884-f5f8-4863-ac77-4b6db3861a21"
      },
      "outputs": [
        {
          "name": "stdout",
          "output_type": "stream",
          "text": [
            "<class 'numpy.ndarray'>\n"
          ]
        }
      ],
      "source": [
        "print(type(b))"
      ]
    },
    {
      "cell_type": "markdown",
      "metadata": {
        "id": "gGhrumGF479l"
      },
      "source": [
        "### Dimensiones de un array\n",
        "\n",
        "La dimensión de una array viene dada por el nivel de profundidad de éste.\n",
        "\n",
        "Para saber la dimensión de un array, podemos usar la propiedad `.ndim`\n"
      ]
    },
    {
      "cell_type": "markdown",
      "metadata": {
        "id": "Ggws-iAn5HSS"
      },
      "source": [
        "#### Arrays 0-dimensionales\n",
        "\n",
        "Son los arrays constantes:"
      ]
    },
    {
      "cell_type": "code",
      "execution_count": null,
      "metadata": {
        "colab": {
          "base_uri": "https://localhost:8080/"
        },
        "id": "WAQ-A99_5NTa",
        "outputId": "d714d6ad-52fa-4fb5-c5ea-725528358c5d"
      },
      "outputs": [
        {
          "data": {
            "text/plain": [
              "0"
            ]
          },
          "execution_count": 7,
          "metadata": {
            "tags": []
          },
          "output_type": "execute_result"
        }
      ],
      "source": [
        "d0 = np.array(77)\n",
        "d0.ndim"
      ]
    },
    {
      "cell_type": "markdown",
      "metadata": {
        "id": "sfJ7Dpp85Tuo"
      },
      "source": [
        "#### Arrays 1-dimensionales\n",
        "\n",
        "Son los arrays con un solo nivel de profundidad"
      ]
    },
    {
      "cell_type": "code",
      "execution_count": null,
      "metadata": {
        "colab": {
          "base_uri": "https://localhost:8080/"
        },
        "id": "W1xD2fpL5cw7",
        "outputId": "382d63ec-a5f9-441a-c85d-40672582d045"
      },
      "outputs": [
        {
          "data": {
            "text/plain": [
              "1"
            ]
          },
          "execution_count": 8,
          "metadata": {
            "tags": []
          },
          "output_type": "execute_result"
        }
      ],
      "source": [
        "d1 = np.array([-1, 0, 1])\n",
        "d1.ndim"
      ]
    },
    {
      "cell_type": "markdown",
      "metadata": {
        "id": "Z7sl4Z635hFc"
      },
      "source": [
        "#### Arrays 2-dimensionales\n",
        "\n",
        "Son los arrays que tienen por elementos arrays unidimensionales:"
      ]
    },
    {
      "cell_type": "code",
      "execution_count": null,
      "metadata": {
        "colab": {
          "base_uri": "https://localhost:8080/"
        },
        "id": "Ch92bI3o5q7H",
        "outputId": "f5403b76-809b-4669-85aa-8631599986dd"
      },
      "outputs": [
        {
          "data": {
            "text/plain": [
              "2"
            ]
          },
          "execution_count": 11,
          "metadata": {
            "tags": []
          },
          "output_type": "execute_result"
        }
      ],
      "source": [
        "d2 = np.array([[-3, -2], [-1, 0]])\n",
        "d2.ndim"
      ]
    },
    {
      "cell_type": "markdown",
      "metadata": {
        "id": "WIkw7L_X5wpm"
      },
      "source": [
        "#### Arrays 3-dimensionales\n",
        "\n",
        "Son los arrays que tinenen por elementos arrays bidimensionales:"
      ]
    },
    {
      "cell_type": "code",
      "execution_count": null,
      "metadata": {
        "colab": {
          "base_uri": "https://localhost:8080/"
        },
        "id": "cuSt3ZSA590b",
        "outputId": "784e259a-d34c-4525-fe46-60e27328fc2a"
      },
      "outputs": [
        {
          "data": {
            "text/plain": [
              "3"
            ]
          },
          "execution_count": 13,
          "metadata": {
            "tags": []
          },
          "output_type": "execute_result"
        }
      ],
      "source": [
        "d3 = np.array([[[1, 2, 3, 4], [4, 3, 2, 1]], [[1, 0, 1, 0], [-1, 1, -1, 1]]])\n",
        "d3.ndim"
      ]
    },
    {
      "cell_type": "markdown",
      "metadata": {
        "id": "q76fJ1yj6jA3"
      },
      "source": [
        "#### Arrays multidimensionales\n",
        "\n",
        "Un array puede tener cualquier número finito de dimensiones.\n",
        "\n",
        "A la hora de crear un `ndarray`, podemos indicar como parámetro el número de dimensiones que queramos que tenga dicho array con el argumento `ndmin`"
      ]
    },
    {
      "cell_type": "code",
      "execution_count": null,
      "metadata": {
        "colab": {
          "base_uri": "https://localhost:8080/"
        },
        "id": "xy3VD4Ax6yn0",
        "outputId": "145f4bc5-d1e3-4e72-cec0-e38b4c9e13f5"
      },
      "outputs": [
        {
          "name": "stdout",
          "output_type": "stream",
          "text": [
            "El array a tiene 7 dimensiones\n",
            "[[[[[[[-2 -1  0  1  2]]]]]]]\n"
          ]
        }
      ],
      "source": [
        "a = np.array([-2, -1, 0, 1, 2], ndmin = 7)\n",
        "print(\"El array a tiene {} dimensiones\".format(a.ndim))\n",
        "print(a)"
      ]
    },
    {
      "cell_type": "markdown",
      "metadata": {
        "id": "fxWu8294Nwl-"
      },
      "source": [
        "### `Shape` de un array\n",
        "\n",
        "**Shape.** Es el número de elementos de cada dimensión.\n",
        "\n",
        "Lo calculamos con el atributo `.shape`"
      ]
    },
    {
      "cell_type": "code",
      "execution_count": null,
      "metadata": {
        "colab": {
          "base_uri": "https://localhost:8080/"
        },
        "id": "0XLnwpuDN8X1",
        "outputId": "15850d0b-3a13-4492-af14-8e227d6df125"
      },
      "outputs": [
        {
          "data": {
            "text/plain": [
              "(3,)"
            ]
          },
          "execution_count": 15,
          "metadata": {
            "tags": []
          },
          "output_type": "execute_result"
        }
      ],
      "source": [
        "# Hay 3 elementos en el array 1-dimensional\n",
        "d1 = np.array([-1, 0, 1])\n",
        "d1.shape"
      ]
    },
    {
      "cell_type": "code",
      "execution_count": null,
      "metadata": {
        "colab": {
          "base_uri": "https://localhost:8080/"
        },
        "id": "DUBdOsoTOFY1",
        "outputId": "c8d745d3-cc31-49ba-d108-b9140cc0d852"
      },
      "outputs": [
        {
          "data": {
            "text/plain": [
              "(2, 2)"
            ]
          },
          "execution_count": 16,
          "metadata": {
            "tags": []
          },
          "output_type": "execute_result"
        }
      ],
      "source": [
        "# Hay 2 elementos en el array 2D y 2 elementos en los arrays 1D\n",
        "d2 = np.array([[-3, -2], [-1, 0]])\n",
        "d2.shape"
      ]
    },
    {
      "cell_type": "code",
      "execution_count": null,
      "metadata": {
        "colab": {
          "base_uri": "https://localhost:8080/"
        },
        "id": "sQMH3z_aOXZj",
        "outputId": "c76db287-306a-494c-8970-cd0ecfc595a0"
      },
      "outputs": [
        {
          "data": {
            "text/plain": [
              "(2, 2, 4)"
            ]
          },
          "execution_count": 17,
          "metadata": {
            "tags": []
          },
          "output_type": "execute_result"
        }
      ],
      "source": [
        "# Hay 2 elementos en el array 3D, 2 elementos en cada array 2D y 4 elementos en cada array 1D\n",
        "d3 = np.array([[[1, 2, 3, 4], [4, 3, 2, 1]], [[1, 0, 1, 0], [-1, 1, -1, 1]]])\n",
        "d3.shape"
      ]
    },
    {
      "cell_type": "markdown",
      "metadata": {
        "id": "eBMLZnt0O_tw"
      },
      "source": [
        "La tupla resultante del atributo `.shape` se interpreta del siguiente modo:\n",
        "* Cada elemento de la tupla nos indica el número de elementos que hay en cada dimensión.\n",
        "* El primer índice se corresponde con la mayor dimensión, correspondiente al valor obtenido con `ndim`.\n",
        "* El último índice se corresponde con la menor dimensión (dimensión 1)."
      ]
    },
    {
      "cell_type": "markdown",
      "metadata": {
        "id": "ZNANC2tm7T2q"
      },
      "source": [
        "### Elementos de un array\n"
      ]
    },
    {
      "cell_type": "markdown",
      "metadata": {
        "id": "aHN5Yq0x8PAe"
      },
      "source": [
        "#### Caso unidimensional\n",
        "\n",
        "Podemos acceder a los elementos de un array con la sintaxis `[]`.\n",
        "\n",
        "**Observación.** Recordad que en `Python` los índices empezaban en 0"
      ]
    },
    {
      "cell_type": "code",
      "execution_count": null,
      "metadata": {
        "colab": {
          "base_uri": "https://localhost:8080/"
        },
        "id": "ZzNEcvvW7eWK",
        "outputId": "1f46a2db-2930-4a35-ba7c-b0d77503288f"
      },
      "outputs": [
        {
          "name": "stdout",
          "output_type": "stream",
          "text": [
            "[2 3 4 5 6]\n",
            "Primer elemento = 2\n",
            "Segundo elemento =  3\n",
            "Último elemento =  6\n"
          ]
        }
      ],
      "source": [
        "a = np.array([2, 3, 4, 5, 6])\n",
        "print(a)\n",
        "\n",
        "print(\"Primer elemento = \", a[0])\n",
        "print(\"Segundo elemento = \", a[1])\n",
        "print(\"Último elemento = \", a[-1])"
      ]
    },
    {
      "cell_type": "markdown",
      "metadata": {
        "id": "PyWa7X0y8SDp"
      },
      "source": [
        "#### Caso multidimensional\n",
        "\n",
        "A la hora de acceder a elementos de un array multidimensional, tendremos que empezar indicando el índice del elemento en el nivel menos profundo y acabar indicando el índice del elemento en en nivel más profundo, todos entre `[]` separados por comas.\n",
        "\n",
        "En el caso de un array bidimiensional, como el que se muestra a continuación,"
      ]
    },
    {
      "cell_type": "code",
      "execution_count": null,
      "metadata": {
        "colab": {
          "base_uri": "https://localhost:8080/"
        },
        "id": "qBuwEhAQ8xw-",
        "outputId": "1aa3f65b-87ca-4152-ecf9-144af7238908"
      },
      "outputs": [
        {
          "data": {
            "text/plain": [
              "2"
            ]
          },
          "execution_count": 10,
          "metadata": {
            "tags": []
          },
          "output_type": "execute_result"
        }
      ],
      "source": [
        "a = np.array([[-10, -9], [7, 8]])\n",
        "a.ndim"
      ]
    },
    {
      "cell_type": "markdown",
      "metadata": {
        "id": "RZxrvJfL8-KZ"
      },
      "source": [
        "Para acceder al elemento -9, primero habrá que indicar el índice 0, pues el array unidimensional al que pertenece se encuentra en el índice 0 del nivel menos profundo. A continuación, indicaremos el índice 1, pues esa es la posición que ocupa el elemento de nuestro interés dentro del array unidimensional, que se trata del nivel más profundo en este caso:"
      ]
    },
    {
      "cell_type": "code",
      "execution_count": null,
      "metadata": {
        "colab": {
          "base_uri": "https://localhost:8080/"
        },
        "id": "OV2DoLCy9RwO",
        "outputId": "a05d0c62-c632-4383-e05b-63038c6e39ac"
      },
      "outputs": [
        {
          "data": {
            "text/plain": [
              "-9"
            ]
          },
          "execution_count": 11,
          "metadata": {
            "tags": []
          },
          "output_type": "execute_result"
        }
      ],
      "source": [
        "a[0, 1]"
      ]
    },
    {
      "cell_type": "markdown",
      "metadata": {
        "id": "f6m73UtJ9Wfk"
      },
      "source": [
        "En el caso de un array tridimensional, como el que se muestra a continuación,"
      ]
    },
    {
      "cell_type": "code",
      "execution_count": null,
      "metadata": {
        "colab": {
          "base_uri": "https://localhost:8080/"
        },
        "id": "yXx82f-A9ZnH",
        "outputId": "72bfe81b-57a2-43e8-e916-813b6aef6453"
      },
      "outputs": [
        {
          "data": {
            "text/plain": [
              "3"
            ]
          },
          "execution_count": 12,
          "metadata": {
            "tags": []
          },
          "output_type": "execute_result"
        }
      ],
      "source": [
        "a = np.array([[[1, 2, 3], [-3, -2, -1]], [[4, 5, 6], [7, 8, 9]]])\n",
        "a.ndim"
      ]
    },
    {
      "cell_type": "markdown",
      "metadata": {
        "id": "z-qmk_ZA9rSL"
      },
      "source": [
        "Para acceder al elemento 7, primero habrá que indicar el índice 1, pues el array 2-dimensional al que pertenece se encuentra en la posición 1 del nivel menos profundo. Entramos en el siguiente nivel, el array 2-dimensional. Ahora, la posición que hay que indicar es la 1, pues el array 1-dimensional ocupa dicho índice dentro del array 2-dimensional. Finalmente, llegamos al nivel más profundo, el array 1-dimensional, y ahora hay que indicar el índice 0, pues esa es la posición que ocupa el elemento de nuestro interés dentro del array unidimensional."
      ]
    },
    {
      "cell_type": "code",
      "execution_count": null,
      "metadata": {
        "colab": {
          "base_uri": "https://localhost:8080/"
        },
        "id": "G974Zcjt-Lgz",
        "outputId": "fa18551d-d3ce-42c4-9ec9-14f8721549f2"
      },
      "outputs": [
        {
          "data": {
            "text/plain": [
              "7"
            ]
          },
          "execution_count": 13,
          "metadata": {
            "tags": []
          },
          "output_type": "execute_result"
        }
      ],
      "source": [
        "a[1, 1, 0]"
      ]
    },
    {
      "cell_type": "markdown",
      "metadata": {
        "id": "zT4GRFhM-fNp"
      },
      "source": [
        "Dado un array multidimensional, si lo que queremos es que se nos devuelva un array de dimensión menor, entonces solamnente tenemos que indicar sus índices tal cuál hacíamos para obtener un elemento.\n",
        "\n",
        "Dado el array `a` tridimensional anterior, si queremos acceder al array unidimensional `[-3, -2, -1]`, entonces indicaremos entre `[]` los índices 0 y, a continuación, 1. Pues dicho array se encuentra en el primer array bidimensional y dentro de éste, ocupa la segunda posición, es decir, el índice 1:"
      ]
    },
    {
      "cell_type": "code",
      "execution_count": null,
      "metadata": {
        "colab": {
          "base_uri": "https://localhost:8080/"
        },
        "id": "m7NcclHJ-4xE",
        "outputId": "a8fa9bbe-a40e-48fc-fd01-ae15303e7eed"
      },
      "outputs": [
        {
          "data": {
            "text/plain": [
              "array([-3, -2, -1])"
            ]
          },
          "execution_count": 14,
          "metadata": {
            "tags": []
          },
          "output_type": "execute_result"
        }
      ],
      "source": [
        "a[0, 1]"
      ]
    },
    {
      "cell_type": "markdown",
      "metadata": {
        "id": "8JB4HYFUAQ9l"
      },
      "source": [
        "#### Índices negativos\n",
        "\n",
        "Al igual que para el caso de las listas, los elementos de los `ndarrays` también pueden ser accedidos mediante índices negativos.\n",
        "\n",
        "El índice `-1` hace referencia al último elemento; el `-2`, al penúltimo; el `-3` al antepenúltimo; y así sucesivamente."
      ]
    },
    {
      "cell_type": "code",
      "execution_count": null,
      "metadata": {
        "colab": {
          "base_uri": "https://localhost:8080/"
        },
        "id": "hLFBvwEUITZt",
        "outputId": "c1259f18-5f0a-4908-cb0c-ff1e0b020a75"
      },
      "outputs": [
        {
          "data": {
            "text/plain": [
              "array([[4, 5, 6],\n",
              "       [7, 8, 9]])"
            ]
          },
          "execution_count": 15,
          "metadata": {
            "tags": []
          },
          "output_type": "execute_result"
        }
      ],
      "source": [
        "a[-1]"
      ]
    },
    {
      "cell_type": "markdown",
      "metadata": {
        "id": "fBF975JcAy-V"
      },
      "source": [
        "### Slicing\n",
        "\n",
        "En `Python`, **slicing** hace referencia a tomar elementos desde un índice dado hasta otro proporcionado.\n",
        "\n",
        "Ya conocemos la sintaxis:\n",
        "\n",
        "* `[inicio:fin]` donde iremos desde el índice `inicio` hasta el índice `fin`-1, y lo haremos de 1 en 1\n",
        "* `[inicio:fin:paso]` donde iremos desde el índice `inicio` hasta el índice `fin`-1, y lo haremos de `paso` en `paso`\n",
        "\n"
      ]
    },
    {
      "cell_type": "markdown",
      "metadata": {
        "id": "xFkU26ZWCoMW"
      },
      "source": [
        "#### Caso unidimensional"
      ]
    },
    {
      "cell_type": "code",
      "execution_count": null,
      "metadata": {
        "colab": {
          "base_uri": "https://localhost:8080/"
        },
        "id": "WvYZDhcCCFqH",
        "outputId": "6ad4a051-57c5-4e94-b555-26c2dc8148f9"
      },
      "outputs": [
        {
          "data": {
            "text/plain": [
              "array([9, 8, 7, 6, 5, 4, 3])"
            ]
          },
          "execution_count": 5,
          "metadata": {},
          "output_type": "execute_result"
        }
      ],
      "source": [
        "# Array unidimensional\n",
        "a1 = np.array([9, 8, 7, 6, 5, 4, 3])\n",
        "a1"
      ]
    },
    {
      "cell_type": "code",
      "execution_count": null,
      "metadata": {
        "colab": {
          "base_uri": "https://localhost:8080/"
        },
        "id": "0FUMtjTQBlnG",
        "outputId": "767bcff9-cc4d-486b-e20c-133a0c2863cb"
      },
      "outputs": [
        {
          "data": {
            "text/plain": [
              "array([8, 7, 6])"
            ]
          },
          "execution_count": 6,
          "metadata": {},
          "output_type": "execute_result"
        }
      ],
      "source": [
        "# Del segundo elemento al cuarto de 1 en 1\n",
        "a1[1:4]"
      ]
    },
    {
      "cell_type": "code",
      "execution_count": null,
      "metadata": {
        "colab": {
          "base_uri": "https://localhost:8080/"
        },
        "id": "86U46AZWBzjq",
        "outputId": "97c03c60-654c-48df-c284-d95b43005fe0"
      },
      "outputs": [
        {
          "data": {
            "text/plain": [
              "array([9, 8, 7, 6, 5, 4])"
            ]
          },
          "execution_count": 7,
          "metadata": {},
          "output_type": "execute_result"
        }
      ],
      "source": [
        "# Del primer elemento al sexto de 1 en 1\n",
        "a1[:6]"
      ]
    },
    {
      "cell_type": "code",
      "execution_count": null,
      "metadata": {
        "colab": {
          "base_uri": "https://localhost:8080/"
        },
        "id": "Wg6tSJFzB5Ep",
        "outputId": "c09209ad-ca45-4800-9a3c-a3c9d86bd1cc"
      },
      "outputs": [
        {
          "data": {
            "text/plain": [
              "array([7, 6, 5, 4, 3])"
            ]
          },
          "execution_count": 8,
          "metadata": {},
          "output_type": "execute_result"
        }
      ],
      "source": [
        "# Del tercer elemento al último de 1 en 1\n",
        "a1[2:]"
      ]
    },
    {
      "cell_type": "code",
      "execution_count": null,
      "metadata": {
        "colab": {
          "base_uri": "https://localhost:8080/"
        },
        "id": "ODkKs9RMCslh",
        "outputId": "bc385dda-2b10-4b92-9017-7ad8798b30dd"
      },
      "outputs": [
        {
          "data": {
            "text/plain": [
              "array([8, 6, 4])"
            ]
          },
          "execution_count": 9,
          "metadata": {},
          "output_type": "execute_result"
        }
      ],
      "source": [
        "# Del segundo elemento al sexto de 2 en 2\n",
        "a1[1:6:2]"
      ]
    },
    {
      "cell_type": "code",
      "execution_count": null,
      "metadata": {
        "colab": {
          "base_uri": "https://localhost:8080/"
        },
        "id": "yP_V6COaCS6F",
        "outputId": "d55e4ef2-904f-4c41-d1f4-7d24ee71c113"
      },
      "outputs": [
        {
          "data": {
            "text/plain": [
              "array([9, 7, 5])"
            ]
          },
          "execution_count": 10,
          "metadata": {},
          "output_type": "execute_result"
        }
      ],
      "source": [
        "# Del primer elemento al quinto de 2 en 2\n",
        "a1[:5:2]"
      ]
    },
    {
      "cell_type": "code",
      "execution_count": null,
      "metadata": {
        "colab": {
          "base_uri": "https://localhost:8080/"
        },
        "id": "AnWBlZvACDld",
        "outputId": "6b33a117-6b70-48d8-f7dd-8e02941090fa"
      },
      "outputs": [
        {
          "data": {
            "text/plain": [
              "array([8, 5])"
            ]
          },
          "execution_count": 11,
          "metadata": {},
          "output_type": "execute_result"
        }
      ],
      "source": [
        "# Del segundo elemento al último de 3 en 3\n",
        "a1[1::3]"
      ]
    },
    {
      "cell_type": "code",
      "execution_count": null,
      "metadata": {
        "colab": {
          "base_uri": "https://localhost:8080/"
        },
        "id": "RMaIy9_qCcqr",
        "outputId": "cecbf24d-16f1-4a0e-944c-3ff15b1ad405"
      },
      "outputs": [
        {
          "data": {
            "text/plain": [
              "array([9, 5])"
            ]
          },
          "execution_count": 12,
          "metadata": {},
          "output_type": "execute_result"
        }
      ],
      "source": [
        "# Del primer elemento al último de 4 en 4\n",
        "a1[::4]"
      ]
    },
    {
      "cell_type": "markdown",
      "metadata": {
        "id": "kgleaaEIdurF"
      },
      "source": [
        "### Filtrando arrays\n",
        "\n",
        "Filtrar un array implica la selección de elementos de un array existente que satisfagan una condición y crear un nuevo array con dichos elementos.\n",
        "\n",
        "La sintaxis es muy similar al slicing, pero en vez de eso, entre corchetes indicamos una condición booleana. Los elementos que satisfagan la condición serán los que permanezcan, mientras que el resto serán omitidos.\n",
        "\n",
        "Visto de otro modo, la condición crea un array booleano. Aquellas posiciones ocupadas por un `True` serán las contenidas en el array filtrado, mientras que las que estén ocupadas por `False` (porque no satisfacen la condición), serán descartadas."
      ]
    },
    {
      "cell_type": "code",
      "execution_count": null,
      "metadata": {
        "colab": {
          "base_uri": "https://localhost:8080/"
        },
        "id": "-CCaCh4feKU6",
        "outputId": "3ef681eb-5ea9-436f-d573-fbe754bcd416"
      },
      "outputs": [
        {
          "name": "stdout",
          "output_type": "stream",
          "text": [
            "[4 4]\n"
          ]
        }
      ],
      "source": [
        "a = np.array([4, 3, 2, 3, 4])\n",
        "b = a[a == 4]\n",
        "print(b)"
      ]
    },
    {
      "cell_type": "code",
      "execution_count": null,
      "metadata": {
        "colab": {
          "base_uri": "https://localhost:8080/"
        },
        "id": "W447Jf6JMRLJ",
        "outputId": "3876eee8-3f2f-40a8-c2a8-11001d3b55bb"
      },
      "outputs": [
        {
          "data": {
            "text/plain": [
              "array([ True, False, False, False,  True])"
            ]
          },
          "execution_count": 30,
          "metadata": {
            "tags": []
          },
          "output_type": "execute_result"
        }
      ],
      "source": [
        "a == 4"
      ]
    },
    {
      "cell_type": "code",
      "execution_count": null,
      "metadata": {
        "colab": {
          "base_uri": "https://localhost:8080/"
        },
        "id": "t79OKWxXe1nC",
        "outputId": "57e3869a-7c28-4e2f-d7fd-c017252b3a25"
      },
      "outputs": [
        {
          "name": "stdout",
          "output_type": "stream",
          "text": [
            "[4 2 4]\n"
          ]
        }
      ],
      "source": [
        "c = a[a % 2 == 0]\n",
        "print(c)"
      ]
    },
    {
      "cell_type": "code",
      "execution_count": null,
      "metadata": {
        "colab": {
          "base_uri": "https://localhost:8080/"
        },
        "id": "d6G0E1DCe9Jn",
        "outputId": "ba89c3c0-3b28-4493-a921-453148d4b138"
      },
      "outputs": [
        {
          "name": "stdout",
          "output_type": "stream",
          "text": [
            "[2]\n"
          ]
        }
      ],
      "source": [
        "d = a[a <= 2]\n",
        "print(d)"
      ]
    },
    {
      "cell_type": "markdown",
      "metadata": {
        "id": "3QN-lijfHmdX"
      },
      "source": [
        "### Tipos de datos en `numpy`"
      ]
    },
    {
      "cell_type": "markdown",
      "metadata": {
        "id": "iyyGw2ayArZM"
      },
      "source": [
        "Por defecto, `Python` tiene los siguientes tipos de dato:\n",
        "\n",
        "* `int`: integer\n",
        "* `float`: float\n",
        "* `complex`: complex float\n",
        "* `bool`: boolean\n",
        "* `str`: string\n",
        "\n",
        "En `numpy` encontramos tipos de datos adicicionales\n",
        "\n",
        "* `i`: integer\n",
        "* `u`: unsigned integer\n",
        "* `f`: float\n",
        "* `c`: complex float\n",
        "* `b`: boolean\n",
        "* `m`: timedelta\n",
        "* `M`: datetime\n",
        "* `O`: object\n",
        "* `S`: string\n",
        "* `U`: unicode string\n",
        "* `V`: void"
      ]
    },
    {
      "cell_type": "markdown",
      "metadata": {
        "id": "RU1O95ghGtct"
      },
      "source": [
        "Para comprobar el tipo de dato de un array, usamos el método `.dtype`"
      ]
    },
    {
      "cell_type": "code",
      "execution_count": null,
      "metadata": {
        "colab": {
          "base_uri": "https://localhost:8080/"
        },
        "id": "MNWMdC_oAqmP",
        "outputId": "d0c5a8d8-b507-4315-8b2a-2bd27396822d"
      },
      "outputs": [
        {
          "name": "stdout",
          "output_type": "stream",
          "text": [
            "[1 2 3]\n"
          ]
        },
        {
          "data": {
            "text/plain": [
              "dtype('int64')"
            ]
          },
          "execution_count": 37,
          "metadata": {
            "tags": []
          },
          "output_type": "execute_result"
        }
      ],
      "source": [
        "a = np.array([1, 2, 3])\n",
        "print(a)\n",
        "a.dtype"
      ]
    },
    {
      "cell_type": "code",
      "execution_count": null,
      "metadata": {
        "colab": {
          "base_uri": "https://localhost:8080/"
        },
        "id": "tVu15CACG4W7",
        "outputId": "92ca2723-8249-4d4d-f174-86427de962cb"
      },
      "outputs": [
        {
          "name": "stdout",
          "output_type": "stream",
          "text": [
            "[1.5 2.4 3.7]\n"
          ]
        },
        {
          "data": {
            "text/plain": [
              "dtype('float64')"
            ]
          },
          "execution_count": 38,
          "metadata": {
            "tags": []
          },
          "output_type": "execute_result"
        }
      ],
      "source": [
        "a = np.array([1.5, 2.4, 3.7])\n",
        "print(a)\n",
        "a.dtype"
      ]
    },
    {
      "cell_type": "code",
      "execution_count": null,
      "metadata": {
        "colab": {
          "base_uri": "https://localhost:8080/"
        },
        "id": "CZ1rBju5G86i",
        "outputId": "bca168f2-00cd-4daa-b0e5-7edfb1b76190"
      },
      "outputs": [
        {
          "name": "stdout",
          "output_type": "stream",
          "text": [
            "[0.+1.j 2.+3.j 3.-7.j]\n"
          ]
        },
        {
          "data": {
            "text/plain": [
              "dtype('complex128')"
            ]
          },
          "execution_count": 39,
          "metadata": {
            "tags": []
          },
          "output_type": "execute_result"
        }
      ],
      "source": [
        "a = np.array([1j, 2 + 3j, 3 - 7j])\n",
        "print(a)\n",
        "a.dtype"
      ]
    },
    {
      "cell_type": "code",
      "execution_count": null,
      "metadata": {
        "colab": {
          "base_uri": "https://localhost:8080/"
        },
        "id": "6MyrRAYQHT95",
        "outputId": "0cc33ee3-17b2-483c-d22d-7bfaac45abf6"
      },
      "outputs": [
        {
          "name": "stdout",
          "output_type": "stream",
          "text": [
            "['araña' 'barco' 'colonia']\n"
          ]
        },
        {
          "data": {
            "text/plain": [
              "dtype('<U7')"
            ]
          },
          "execution_count": 40,
          "metadata": {
            "tags": []
          },
          "output_type": "execute_result"
        }
      ],
      "source": [
        "a = np.array([\"araña\", \"barco\", \"colonia\"])\n",
        "print(a)\n",
        "a.dtype"
      ]
    },
    {
      "cell_type": "code",
      "execution_count": null,
      "metadata": {
        "colab": {
          "base_uri": "https://localhost:8080/"
        },
        "id": "j1AjoQfhHMmL",
        "outputId": "0690bc5a-4e46-400e-c24c-8d0fe89b29a2"
      },
      "outputs": [
        {
          "name": "stdout",
          "output_type": "stream",
          "text": [
            "['a' 'b' 'c']\n"
          ]
        },
        {
          "data": {
            "text/plain": [
              "dtype('<U1')"
            ]
          },
          "execution_count": 41,
          "metadata": {
            "tags": []
          },
          "output_type": "execute_result"
        }
      ],
      "source": [
        "a = np.array([\"a\", \"b\", \"c\"])\n",
        "print(a)\n",
        "a.dtype"
      ]
    },
    {
      "cell_type": "markdown",
      "metadata": {
        "id": "PwtzzQkHHh7h"
      },
      "source": [
        "Al usar el método `.array()`, existe un parámetro `dtype` que nos permite definir el tipo de dato que queremos que tengan los elementos de dicho ndarray"
      ]
    },
    {
      "cell_type": "code",
      "execution_count": null,
      "metadata": {
        "colab": {
          "base_uri": "https://localhost:8080/"
        },
        "id": "QJ9dBMTPHslL",
        "outputId": "ae6ff397-c3e8-4175-c6f8-30f16239c32c"
      },
      "outputs": [
        {
          "name": "stdout",
          "output_type": "stream",
          "text": [
            "[b'1' b'2' b'3' b'4' b'5']\n"
          ]
        },
        {
          "data": {
            "text/plain": [
              "dtype('S1')"
            ]
          },
          "execution_count": 42,
          "metadata": {
            "tags": []
          },
          "output_type": "execute_result"
        }
      ],
      "source": [
        "a = np.array([1, 2, 3, 4, 5], dtype = \"S\")\n",
        "print(a)\n",
        "a.dtype"
      ]
    },
    {
      "cell_type": "markdown",
      "metadata": {
        "id": "u3_5PpXZH5Pr"
      },
      "source": [
        "**Observación.** Para el caso de los tipos de dato `i`, `u`, `f`, `S` y `U`, con el parámetro `dtype` también podemos definir el tamaño"
      ]
    },
    {
      "cell_type": "code",
      "execution_count": null,
      "metadata": {
        "colab": {
          "base_uri": "https://localhost:8080/"
        },
        "id": "8EEJ0rYkIZqK",
        "outputId": "f0c94979-a08d-41e3-8673-337d6255705f"
      },
      "outputs": [
        {
          "name": "stdout",
          "output_type": "stream",
          "text": [
            "[1 2 3 4 5]\n"
          ]
        },
        {
          "data": {
            "text/plain": [
              "dtype('int8')"
            ]
          },
          "execution_count": 43,
          "metadata": {
            "tags": []
          },
          "output_type": "execute_result"
        }
      ],
      "source": [
        "a = np.array([1, 2, 3, 4, 5], dtype = \"i1\")\n",
        "print(a)\n",
        "a.dtype"
      ]
    },
    {
      "cell_type": "code",
      "execution_count": null,
      "metadata": {
        "colab": {
          "base_uri": "https://localhost:8080/"
        },
        "id": "79SOgnOrH4RG",
        "outputId": "94912ca8-8908-47dc-fa1c-2e197a7e9269"
      },
      "outputs": [
        {
          "name": "stdout",
          "output_type": "stream",
          "text": [
            "[1 2 3 4 5]\n"
          ]
        },
        {
          "data": {
            "text/plain": [
              "dtype('int16')"
            ]
          },
          "execution_count": 44,
          "metadata": {
            "tags": []
          },
          "output_type": "execute_result"
        }
      ],
      "source": [
        "a = np.array([1, 2, 3, 4, 5], dtype = \"i2\")\n",
        "print(a)\n",
        "a.dtype"
      ]
    },
    {
      "cell_type": "code",
      "execution_count": null,
      "metadata": {
        "colab": {
          "base_uri": "https://localhost:8080/"
        },
        "id": "vHcMErNmIqKt",
        "outputId": "8ae0f901-5c3d-4eb3-8c75-7e3053422429"
      },
      "outputs": [
        {
          "name": "stdout",
          "output_type": "stream",
          "text": [
            "[1. 2. 3. 4. 5.]\n"
          ]
        },
        {
          "data": {
            "text/plain": [
              "dtype('float64')"
            ]
          },
          "execution_count": 45,
          "metadata": {
            "tags": []
          },
          "output_type": "execute_result"
        }
      ],
      "source": [
        "a = np.array([1, 2, 3, 4, 5], dtype = \"f8\")\n",
        "print(a)\n",
        "a.dtype"
      ]
    },
    {
      "cell_type": "markdown",
      "metadata": {
        "id": "ABTFETRJJHFU"
      },
      "source": [
        "Si queremos cambiar el tipo de dato de un array existente, usamos el método `.astype()`"
      ]
    },
    {
      "cell_type": "code",
      "execution_count": null,
      "metadata": {
        "colab": {
          "base_uri": "https://localhost:8080/"
        },
        "id": "JosJT5zZJLfn",
        "outputId": "03f1b76e-7634-4b33-d112-35c967783121"
      },
      "outputs": [
        {
          "name": "stdout",
          "output_type": "stream",
          "text": [
            "El array a es de tipo float128\n",
            "El array b es de tipo int32\n"
          ]
        }
      ],
      "source": [
        "a = np.array([1, 2, 3, 4, 5], dtype = \"f16\")\n",
        "print(\"El array a es de tipo\", a.dtype)\n",
        "b = a.astype(\"i\")\n",
        "print(\"El array b es de tipo\", b.dtype)"
      ]
    },
    {
      "cell_type": "code",
      "execution_count": null,
      "metadata": {
        "colab": {
          "base_uri": "https://localhost:8080/"
        },
        "id": "s-2GbK2IJ-P9",
        "outputId": "13bc13d7-0c41-42e9-8dc4-917286d807c5"
      },
      "outputs": [
        {
          "name": "stdout",
          "output_type": "stream",
          "text": [
            "El array a es de tipo float128\n",
            "El array b es de tipo int64\n"
          ]
        }
      ],
      "source": [
        "a = np.array([1, 2, 3, 4, 5], dtype = \"f16\")\n",
        "print(\"El array a es de tipo\", a.dtype)\n",
        "b = a.astype(int)\n",
        "print(\"El array b es de tipo\", b.dtype)"
      ]
    },
    {
      "cell_type": "code",
      "execution_count": null,
      "metadata": {
        "colab": {
          "base_uri": "https://localhost:8080/"
        },
        "id": "VkiE3On1JnJo",
        "outputId": "7b1de189-97a3-4b7e-b460-75a9c55a7d57"
      },
      "outputs": [
        {
          "name": "stdout",
          "output_type": "stream",
          "text": [
            "[  1   0   3   0   5 -10]\n",
            "El array a es de tipo int64\n",
            "[ True False  True False  True  True]\n",
            "El array b es de tipo bool\n"
          ]
        }
      ],
      "source": [
        "a = np.array([1, 0, 3, 0, 5, -10])\n",
        "print(a)\n",
        "print(\"El array a es de tipo\", a.dtype)\n",
        "b = a.astype(bool)\n",
        "print(b)\n",
        "print(\"El array b es de tipo\", b.dtype)"
      ]
    },
    {
      "cell_type": "markdown",
      "metadata": {
        "id": "UJIMgKIYKH_e"
      },
      "source": [
        "### Copias y Views de arrays\n",
        "\n",
        "**Copia.** Una copia de un array crea un nuevo array exactamente igual al original.\n",
        "\n",
        "La copia no es afectada pos los cambios aplicados en el array original."
      ]
    },
    {
      "cell_type": "code",
      "execution_count": null,
      "metadata": {
        "colab": {
          "base_uri": "https://localhost:8080/"
        },
        "id": "VeHRNp2ZKR61",
        "outputId": "68de12af-1c8b-4172-81a0-d3e3016f802d"
      },
      "outputs": [
        {
          "name": "stdout",
          "output_type": "stream",
          "text": [
            "['a' 'b' 'c']\n",
            "['a' 'b' 'c']\n"
          ]
        }
      ],
      "source": [
        "x = np.array([\"a\", \"b\", \"c\"])\n",
        "print(x)\n",
        "x_copy = x.copy()\n",
        "print(x_copy)"
      ]
    },
    {
      "cell_type": "markdown",
      "metadata": {
        "id": "nJaD2jjTKswe"
      },
      "source": [
        "**View.** Una view de un array es una referencial al array original.\n",
        "\n",
        "Los cambios aplicados al array original afectan también a la view, y viceversa."
      ]
    },
    {
      "cell_type": "code",
      "execution_count": null,
      "metadata": {
        "colab": {
          "base_uri": "https://localhost:8080/"
        },
        "id": "yBPjtYamLDA2",
        "outputId": "eb127038-8f21-4789-9bdd-70dfee9709da"
      },
      "outputs": [
        {
          "name": "stdout",
          "output_type": "stream",
          "text": [
            "y = [1 2 3]\n",
            "y_view = [1 2 3]\n"
          ]
        }
      ],
      "source": [
        "y = np.array([1, 2, 3])\n",
        "print(\"y =\", y)\n",
        "y_view = y.view()\n",
        "print(\"y_view =\", y_view)"
      ]
    },
    {
      "cell_type": "markdown",
      "metadata": {
        "id": "JSSmmGToLK-p"
      },
      "source": [
        "Si modificamos el original, veremos los cambios también aplicados en la view"
      ]
    },
    {
      "cell_type": "code",
      "execution_count": null,
      "metadata": {
        "colab": {
          "base_uri": "https://localhost:8080/"
        },
        "id": "FOWkumglLQCB",
        "outputId": "ad174b82-25de-4dc9-d441-e8d967f3f1e5"
      },
      "outputs": [
        {
          "name": "stdout",
          "output_type": "stream",
          "text": [
            "y = [1 0 3]\n",
            "y_view = [1 0 3]\n"
          ]
        }
      ],
      "source": [
        "y[1] = 0\n",
        "print(\"y =\", y)\n",
        "print(\"y_view =\", y_view)"
      ]
    },
    {
      "cell_type": "markdown",
      "metadata": {
        "id": "q-fKsWK3LhVx"
      },
      "source": [
        "Si modificamos la view, veremos los cambios también aplicados en el array original"
      ]
    },
    {
      "cell_type": "code",
      "execution_count": null,
      "metadata": {
        "colab": {
          "base_uri": "https://localhost:8080/"
        },
        "id": "M0x6eMtaLlbO",
        "outputId": "48688282-004a-4145-bb73-39367ce1df6f"
      },
      "outputs": [
        {
          "name": "stdout",
          "output_type": "stream",
          "text": [
            "y = [-3  0  3]\n",
            "y_view = [-3  0  3]\n"
          ]
        }
      ],
      "source": [
        "y_view[0] = -3\n",
        "print(\"y =\", y)\n",
        "print(\"y_view =\", y_view)"
      ]
    },
    {
      "cell_type": "markdown",
      "metadata": {
        "id": "qwQQHWKCLv6x"
      },
      "source": [
        "Para asegurarnos de si hemos hecho una copia o una view, podemos usar el método `.base`, que nos devolverá `None` si se trata de una copia y nos devolverá el array original si se trata de una view."
      ]
    },
    {
      "cell_type": "code",
      "execution_count": null,
      "metadata": {
        "colab": {
          "base_uri": "https://localhost:8080/"
        },
        "id": "hRHkja5-L6Mw",
        "outputId": "8d1468f4-1a03-4457-d06f-147dea87533f"
      },
      "outputs": [
        {
          "name": "stdout",
          "output_type": "stream",
          "text": [
            "z_copy nos devuelve None porque es una copia\n",
            "z_view nos devuelve [ 0.+1.j  0.+0.j -0.-1.j] porque es una view\n"
          ]
        }
      ],
      "source": [
        "z = np.array([1j, 0, -1j])\n",
        "z_copy = z.copy()\n",
        "z_view = z.view()\n",
        "\n",
        "print(\"z_copy nos devuelve\", z_copy.base, \"porque es una copia\")\n",
        "print(\"z_view nos devuelve\", z_view.base, \"porque es una view\")"
      ]
    },
    {
      "cell_type": "markdown",
      "metadata": {
        "id": "bHGmjVXYZNqw"
      },
      "source": [
        "### Arrays y bucles\n",
        "\n",
        "Podemos iterar un array tal cual lo hacíamos con listas:"
      ]
    },
    {
      "cell_type": "markdown",
      "metadata": {
        "id": "_Bpp3rlLaVgE"
      },
      "source": [
        "#### Array 1D"
      ]
    },
    {
      "cell_type": "code",
      "execution_count": null,
      "metadata": {
        "colab": {
          "base_uri": "https://localhost:8080/"
        },
        "id": "i3Zy7nl0aBj9",
        "outputId": "632c4bc5-767f-4e55-a8d8-a3adfa86de60"
      },
      "outputs": [
        {
          "name": "stdout",
          "output_type": "stream",
          "text": [
            "a\n",
            "b\n",
            "c\n"
          ]
        }
      ],
      "source": [
        "d1 = np.array([\"a\", \"b\", \"c\"])\n",
        "\n",
        "for i in d1:\n",
        "  print(i)"
      ]
    },
    {
      "cell_type": "markdown",
      "metadata": {
        "id": "vZc_vDLoaYab"
      },
      "source": [
        "#### Array 2D"
      ]
    },
    {
      "cell_type": "code",
      "execution_count": null,
      "metadata": {
        "id": "TciBStXdaaEh"
      },
      "outputs": [],
      "source": [
        "d2 = np.array([[\"a\", \"b\", \"c\"], [1, 2, 3]])"
      ]
    },
    {
      "cell_type": "code",
      "execution_count": null,
      "metadata": {
        "colab": {
          "base_uri": "https://localhost:8080/"
        },
        "id": "ZZzrgNhHa92Z",
        "outputId": "3f16f79c-aacc-4fb7-c99d-49991c875d68"
      },
      "outputs": [
        {
          "name": "stdout",
          "output_type": "stream",
          "text": [
            "['a' 'b' 'c']\n",
            "['1' '2' '3']\n"
          ]
        }
      ],
      "source": [
        "# Imprimimos los elementos del array 2D\n",
        "for d1 in d2:\n",
        "  print(d1)"
      ]
    },
    {
      "cell_type": "code",
      "execution_count": null,
      "metadata": {
        "colab": {
          "base_uri": "https://localhost:8080/"
        },
        "id": "Da4Gcojdag6s",
        "outputId": "3966f026-3d6b-4b4f-af00-07591ec244af"
      },
      "outputs": [
        {
          "name": "stdout",
          "output_type": "stream",
          "text": [
            "a\n",
            "b\n",
            "c\n",
            "1\n",
            "2\n",
            "3\n"
          ]
        }
      ],
      "source": [
        "# Imprimimos los elementos de los arrays 1D\n",
        "for d1 in d2:\n",
        "  for i in d1:\n",
        "    print(i)"
      ]
    },
    {
      "cell_type": "markdown",
      "metadata": {
        "id": "KAQOhCAIauCH"
      },
      "source": [
        "#### Array 3D"
      ]
    },
    {
      "cell_type": "code",
      "execution_count": null,
      "metadata": {
        "colab": {
          "base_uri": "https://localhost:8080/"
        },
        "id": "4v1l9dVXaxjr",
        "outputId": "5e296f90-66da-4c58-d867-ca26375c4fa7"
      },
      "outputs": [
        {
          "data": {
            "text/plain": [
              "dtype('<U1')"
            ]
          },
          "execution_count": 60,
          "metadata": {
            "tags": []
          },
          "output_type": "execute_result"
        }
      ],
      "source": [
        "d3 = np.array([[[\"a\", \"b\", \"c\", \"d\"], [\"e\", \"f\", \"g\", \"h\"]], [[1, 2, 3, 4], [5, 6, 7, 8]]])\n",
        "d3.dtype"
      ]
    },
    {
      "cell_type": "code",
      "execution_count": null,
      "metadata": {
        "colab": {
          "base_uri": "https://localhost:8080/"
        },
        "id": "YbRGbkQsbPUC",
        "outputId": "01069a39-5073-4ada-daf1-669aa5182dd1"
      },
      "outputs": [
        {
          "name": "stdout",
          "output_type": "stream",
          "text": [
            "[['a' 'b' 'c' 'd']\n",
            " ['e' 'f' 'g' 'h']]\n",
            "[['1' '2' '3' '4']\n",
            " ['5' '6' '7' '8']]\n"
          ]
        }
      ],
      "source": [
        "# Imprimimos los elementos del array 3D\n",
        "for d2 in d3:\n",
        "  print(d2)"
      ]
    },
    {
      "cell_type": "code",
      "execution_count": null,
      "metadata": {
        "colab": {
          "base_uri": "https://localhost:8080/"
        },
        "id": "uLpUwyrIbWqt",
        "outputId": "17c194e0-4b3c-48e4-edc7-6aaa1de9d63d"
      },
      "outputs": [
        {
          "name": "stdout",
          "output_type": "stream",
          "text": [
            "['a' 'b' 'c' 'd']\n",
            "['e' 'f' 'g' 'h']\n",
            "['1' '2' '3' '4']\n",
            "['5' '6' '7' '8']\n"
          ]
        }
      ],
      "source": [
        "# Imprimimos los elementos de los arrays 2D\n",
        "for d2 in d3:\n",
        "  for d1 in d2:\n",
        "    print(d1)"
      ]
    },
    {
      "cell_type": "code",
      "execution_count": null,
      "metadata": {
        "colab": {
          "base_uri": "https://localhost:8080/"
        },
        "id": "Yao3BMyKbeTP",
        "outputId": "a0a2bd29-be75-4273-f815-3c767bac20eb"
      },
      "outputs": [
        {
          "name": "stdout",
          "output_type": "stream",
          "text": [
            "a\n",
            "b\n",
            "c\n",
            "d\n",
            "e\n",
            "f\n",
            "g\n",
            "h\n",
            "1\n",
            "2\n",
            "3\n",
            "4\n",
            "5\n",
            "6\n",
            "7\n",
            "8\n"
          ]
        }
      ],
      "source": [
        "# Imprimimos los elementos de los arrays 1D\n",
        "for d2 in d3:\n",
        "  for d1 in d2:\n",
        "    for i in d1:\n",
        "      print(i)"
      ]
    },
    {
      "cell_type": "markdown",
      "metadata": {
        "id": "M7n3UfDobqwJ"
      },
      "source": [
        "Como vemos, cada vez que aumentamos la dimensión del array, hay que anidar bucles `for` para imprimir cada uno de los elementos de los arrays 1D.\n",
        "\n",
        "Como alternativa podríamos hacer un reshape del array multidimensional a un array unidimensional, pero dado un array con dimensión suficientemente grande, este proceso sería computacionalmente muy costoso:"
      ]
    },
    {
      "cell_type": "code",
      "execution_count": null,
      "metadata": {
        "colab": {
          "base_uri": "https://localhost:8080/"
        },
        "id": "15CPBbNtcWhh",
        "outputId": "e34c493c-b6e1-412b-9359-3aa6adbfaac3"
      },
      "outputs": [
        {
          "name": "stdout",
          "output_type": "stream",
          "text": [
            "a\n",
            "b\n",
            "c\n",
            "d\n",
            "e\n",
            "f\n",
            "g\n",
            "h\n",
            "1\n",
            "2\n",
            "3\n",
            "4\n",
            "5\n",
            "6\n",
            "7\n",
            "8\n"
          ]
        }
      ],
      "source": [
        "for i in d3.reshape(-1):\n",
        "  print(i)"
      ]
    },
    {
      "cell_type": "markdown",
      "metadata": {
        "id": "i75xJF3scww9"
      },
      "source": [
        "#### El método `.nditer()`"
      ]
    },
    {
      "cell_type": "markdown",
      "metadata": {
        "id": "gBt75f7_caWa"
      },
      "source": [
        "Para evitarnos tantas líneas de código y tanto coste computacional, tenemos el método `.nditer()`, que nos crea un iterable el cual nos permite imprimir todos los elementos de los arrays 1D, tal cuál hemos estado obteniendo hasta ahora:"
      ]
    },
    {
      "cell_type": "code",
      "execution_count": null,
      "metadata": {
        "colab": {
          "base_uri": "https://localhost:8080/"
        },
        "id": "LAmM9rLFb-zH",
        "outputId": "94c28c97-fca3-42d6-9b6a-4cbc62aa0ca1"
      },
      "outputs": [
        {
          "name": "stdout",
          "output_type": "stream",
          "text": [
            "a\n",
            "b\n",
            "c\n",
            "d\n",
            "e\n",
            "f\n",
            "g\n",
            "h\n",
            "1\n",
            "2\n",
            "3\n",
            "4\n",
            "5\n",
            "6\n",
            "7\n",
            "8\n"
          ]
        }
      ],
      "source": [
        "for i in np.nditer(d3):\n",
        "  print(i)"
      ]
    },
    {
      "cell_type": "markdown",
      "metadata": {
        "id": "SneVrau9c27w"
      },
      "source": [
        "El método `.nditer()` también nos permite cambiar el tipo de dato de los elementos de un array durante la iteración mediante el parámetro `op_dtypes`.\n",
        "\n",
        "`numpy` no ambia el tipo de dato de los elementos de un array en el sitio, de modo qu enecesita algún otro espacio para llevar a cabo esta acción. Este espacio extra es llamado **buffer** y se lo proporcionamos al método `.nditer()` con el argumento `flags = [\"buffered\"]`"
      ]
    },
    {
      "cell_type": "code",
      "execution_count": null,
      "metadata": {
        "colab": {
          "base_uri": "https://localhost:8080/"
        },
        "id": "pBU4M5W0dbHG",
        "outputId": "9f9edae4-b3d9-40cb-c401-071084045f0a"
      },
      "outputs": [
        {
          "name": "stdout",
          "output_type": "stream",
          "text": [
            "b'1'\n",
            "b'2'\n",
            "b'3'\n",
            "b'4'\n",
            "b'5'\n",
            "b'6'\n"
          ]
        }
      ],
      "source": [
        "d2 = np.array([[1, 2], [3, 4], [5, 6]])\n",
        "for i in np.nditer(d2, flags = [\"buffered\"], op_dtypes = [\"S\"]):\n",
        "  print(i)"
      ]
    },
    {
      "cell_type": "markdown",
      "metadata": {
        "id": "Qb7wgD_6dzvU"
      },
      "source": [
        "El método `.nditer()` también nos permite iterar con distinto paso (de 1 en 1, de 2 en 2, ...)"
      ]
    },
    {
      "cell_type": "code",
      "execution_count": null,
      "metadata": {
        "colab": {
          "base_uri": "https://localhost:8080/"
        },
        "id": "GnGPzC5qeLZa",
        "outputId": "502c7e69-8a1f-4b81-a58f-9cd6292f122c"
      },
      "outputs": [
        {
          "name": "stdout",
          "output_type": "stream",
          "text": [
            "1\n",
            "3\n",
            "5\n"
          ]
        }
      ],
      "source": [
        "d2 = np.array([[1, 2], [3, 4], [5, 6]])\n",
        "for i in np.nditer(d2[:, ::2]):\n",
        "  print(i)"
      ]
    },
    {
      "cell_type": "markdown",
      "metadata": {
        "id": "cJnDPVe8eaIr"
      },
      "source": [
        "#### El método `.ndenumerate()`\n",
        "\n",
        "A veces necesitamos el índice correspondiente al elemento durante la iteración. El método `.ndenumerate()` nos proporciona dicha información.\n",
        "\n"
      ]
    },
    {
      "cell_type": "code",
      "execution_count": null,
      "metadata": {
        "colab": {
          "base_uri": "https://localhost:8080/"
        },
        "id": "Daqw8nl2fEtI",
        "outputId": "750c36c4-83e4-4021-f89f-cd7b0e143e29"
      },
      "outputs": [
        {
          "name": "stdout",
          "output_type": "stream",
          "text": [
            "Índice: (0,) Elemento: a\n",
            "Índice: (1,) Elemento: b\n",
            "Índice: (2,) Elemento: c\n"
          ]
        }
      ],
      "source": [
        "d1 = np.array([\"a\", \"b\", \"c\"])\n",
        "\n",
        "for idx, i in np.ndenumerate(d1):\n",
        "  print(\"Índice:\", idx,\"Elemento:\", i)"
      ]
    },
    {
      "cell_type": "code",
      "execution_count": null,
      "metadata": {
        "colab": {
          "base_uri": "https://localhost:8080/"
        },
        "id": "1f_KlfYqexo8",
        "outputId": "9c5c6b27-82c5-4433-a8d8-531359c6f52e"
      },
      "outputs": [
        {
          "name": "stdout",
          "output_type": "stream",
          "text": [
            "Índice: (0, 0) Elemento: 1\n",
            "Índice: (0, 1) Elemento: 2\n",
            "Índice: (1, 0) Elemento: 3\n",
            "Índice: (1, 1) Elemento: 4\n",
            "Índice: (2, 0) Elemento: 5\n",
            "Índice: (2, 1) Elemento: 6\n"
          ]
        }
      ],
      "source": [
        "d2 = np.array([[1, 2], [3, 4], [5, 6]])\n",
        "\n",
        "for idx, i in np.ndenumerate(d2):\n",
        "  print(\"Índice:\", idx,\"Elemento:\", i)"
      ]
    },
    {
      "cell_type": "markdown",
      "metadata": {
        "id": "AkafJcV-juN0"
      },
      "source": [
        "### Concatenación de arrays"
      ]
    },
    {
      "cell_type": "markdown",
      "metadata": {
        "id": "zFsWd91SzQ3Z"
      },
      "source": [
        "Para concatenar arrays, es decir, juntar dos o más arrays en un único array, usamos el método `.concatenate()`"
      ]
    },
    {
      "cell_type": "code",
      "execution_count": null,
      "metadata": {
        "colab": {
          "base_uri": "https://localhost:8080/"
        },
        "id": "EkrUswDbzaCy",
        "outputId": "9ffacf8b-2d0e-40fa-8158-99fbbf53231c"
      },
      "outputs": [
        {
          "name": "stdout",
          "output_type": "stream",
          "text": [
            "[-3 -2 -1  1  2  3]\n"
          ]
        }
      ],
      "source": [
        "# Conatenamos arrays 1D\n",
        "a1 = np.array([-3, -2, -1])\n",
        "a2 = np.array([1, 2, 3])\n",
        "a = np.concatenate((a1, a2))\n",
        "print(a)"
      ]
    },
    {
      "cell_type": "code",
      "execution_count": 5,
      "metadata": {
        "colab": {
          "base_uri": "https://localhost:8080/"
        },
        "id": "Ka_kv89uz1RI",
        "outputId": "18a55d4d-3eaf-4100-b3b5-1ac92449c7cc"
      },
      "outputs": [
        {
          "name": "stdout",
          "output_type": "stream",
          "text": [
            "[[-6 -5]\n",
            " [-4 -3]\n",
            " [-2 -1]]\n",
            "(3, 2)\n",
            "axis = 0 nos devuelve\n",
            " [[-6 -5]\n",
            " [-4 -3]\n",
            " [-2 -1]\n",
            " [ 1  2]\n",
            " [ 3  4]\n",
            " [ 5  6]]\n",
            "\n",
            "axis = 1 nos devuelve\n",
            " [[-6 -5  1  2]\n",
            " [-4 -3  3  4]\n",
            " [-2 -1  5  6]]\n"
          ]
        }
      ],
      "source": [
        "# Concatenamos arrays 2D\n",
        "b1 = np.array([[-6, -5], [-4, -3], [-2, -1]])\n",
        "b2 = np.array([[1, 2], [3, 4], [5, 6]])\n",
        "\n",
        "# Con axis = 0\n",
        "b = np.concatenate((b1, b2), axis = 0)\n",
        "print(\"axis = 0 nos devuelve\\n\", b)\n",
        "\n",
        "# Con axis = 1\n",
        "b = np.concatenate((b1, b2), axis = 1)\n",
        "print(\"\\naxis = 1 nos devuelve\\n\", b)"
      ]
    },
    {
      "cell_type": "markdown",
      "metadata": {
        "id": "l_ftGdLG3r2K"
      },
      "source": [
        "#### Concatenación de arrays usando `.stack()`\n",
        "\n",
        "Llevar a cabo un stack es lo mismo que concatenar, solo que el stack se hace sobre un eje nuevo.\n",
        "\n",
        "Por ejemplo, podemos concatenar dos arrays unidimensionales sobre un segundo eje, lo que resultaría en poner un array sobre el otro: realizar un stack."
      ]
    },
    {
      "cell_type": "code",
      "execution_count": null,
      "metadata": {
        "id": "vFXxfsxk5b-B"
      },
      "outputs": [],
      "source": [
        "a1 = np.array([-3, -2, -1])\n",
        "a2 = np.array([1, 2, 3])"
      ]
    },
    {
      "cell_type": "code",
      "execution_count": null,
      "metadata": {
        "colab": {
          "base_uri": "https://localhost:8080/"
        },
        "id": "doplusNL4qaj",
        "outputId": "b37e02c1-36b9-4f3e-8441-8861ed22c4a9"
      },
      "outputs": [
        {
          "name": "stdout",
          "output_type": "stream",
          "text": [
            "[[-3 -2 -1]\n",
            " [ 1  2  3]]\n"
          ]
        }
      ],
      "source": [
        "# Hacemos stack de arrays 1D con axis = 0\n",
        "a = np.stack((a1, a2), axis = 0)\n",
        "print(a)"
      ]
    },
    {
      "cell_type": "code",
      "execution_count": null,
      "metadata": {
        "colab": {
          "base_uri": "https://localhost:8080/"
        },
        "id": "nzqhccb-4REQ",
        "outputId": "a5bba3f7-ef2d-400d-e810-f13fba0218bd"
      },
      "outputs": [
        {
          "name": "stdout",
          "output_type": "stream",
          "text": [
            "[[-3  1]\n",
            " [-2  2]\n",
            " [-1  3]]\n"
          ]
        }
      ],
      "source": [
        "# Hacemos stack de arrays 1D con axis = 1\n",
        "a = np.stack((a1, a2), axis = 1)\n",
        "print(a)"
      ]
    },
    {
      "cell_type": "markdown",
      "metadata": {
        "id": "03OMDf424aaU"
      },
      "source": [
        "**Observación.** Al hacer stack de los arrays 1D, habiendo seleccionado `axis = 0`, obtenemos como resultado un array 2D con los dos arrays 1D originales. Sin embargo, si elegimos `axis = 1`, obtenemos nuevamente un array 2D, pero éste consta de 3 elementos 1D (en este ejemplo en concreto), cada cual con 2 elementos (el primero se corresponde con un elemento del array original `a1`, mientras que el segundo, con un elemento del array `a2`)"
      ]
    },
    {
      "cell_type": "code",
      "execution_count": null,
      "metadata": {
        "id": "b3UrcKOy5gj5"
      },
      "outputs": [],
      "source": [
        "b1 = np.array([[-6, -5], [-4, -3], [-2, -1]])\n",
        "b2 = np.array([[1, 2], [3, 4], [5, 6]])"
      ]
    },
    {
      "cell_type": "code",
      "execution_count": null,
      "metadata": {
        "colab": {
          "base_uri": "https://localhost:8080/"
        },
        "id": "-PQSX_6S5YAr",
        "outputId": "e88d1a34-e4d1-4596-92f3-038016035b04"
      },
      "outputs": [
        {
          "name": "stdout",
          "output_type": "stream",
          "text": [
            "[[[-6 -5]\n",
            "  [-4 -3]\n",
            "  [-2 -1]]\n",
            "\n",
            " [[ 1  2]\n",
            "  [ 3  4]\n",
            "  [ 5  6]]]\n"
          ]
        }
      ],
      "source": [
        "# Hacemos stack de arrays 2D con axis = 0\n",
        "b = np.stack((b1, b2), axis = 0)\n",
        "print(b)"
      ]
    },
    {
      "cell_type": "code",
      "execution_count": null,
      "metadata": {
        "colab": {
          "base_uri": "https://localhost:8080/"
        },
        "id": "vMkGXXAr5smy",
        "outputId": "45739ec2-8380-4b32-8e7a-bde70e783d70"
      },
      "outputs": [
        {
          "name": "stdout",
          "output_type": "stream",
          "text": [
            "[[[-6 -5]\n",
            "  [ 1  2]]\n",
            "\n",
            " [[-4 -3]\n",
            "  [ 3  4]]\n",
            "\n",
            " [[-2 -1]\n",
            "  [ 5  6]]]\n"
          ]
        }
      ],
      "source": [
        "# Hacemos stack de arrays 2D con axis = 1\n",
        "b = np.stack((b1, b2), axis = 1)\n",
        "print(b)"
      ]
    },
    {
      "cell_type": "code",
      "execution_count": null,
      "metadata": {
        "colab": {
          "base_uri": "https://localhost:8080/"
        },
        "id": "MvnMuXau5tCe",
        "outputId": "de5c618f-7acd-4c39-f205-7066967f420c"
      },
      "outputs": [
        {
          "name": "stdout",
          "output_type": "stream",
          "text": [
            "[[[-6  1]\n",
            "  [-5  2]]\n",
            "\n",
            " [[-4  3]\n",
            "  [-3  4]]\n",
            "\n",
            " [[-2  5]\n",
            "  [-1  6]]]\n"
          ]
        }
      ],
      "source": [
        "# Hacemos stack de arrays 2D con axis = 2\n",
        "b = np.stack((b1, b2), axis = 2)\n",
        "print(b)"
      ]
    },
    {
      "cell_type": "markdown",
      "metadata": {
        "id": "GryZyljO50yj"
      },
      "source": [
        "**Observación.** Al hacer stack de los arrays 2D, habiendo seleccionado `axis = 0`, obtenemos como resultado un array 3D con los dos arrays 2D originales. Por su parte, si elegimos `axis = 1`, obtenemos nuevamente un array 3D, pero éste consta de 3 elementos 2D (en este ejemplo en concreto), cada cual con 2 elementos 1D (el primero se corresponde con un elemento del array original `b1`, mientras que el segundo, con un elemento del array `b2`). Por último, si consideramos `axis = 2`, obtenemos también un array 3D, que consta de 3 elementos 2D (en este ejemplo en concreto), cada uno con 2 elementos 1D que han sido concatenados del siguiente modo: el primer elemento del array 1D se corresponde con un elemento original del array `b1`, mientras que el segundo y último elemento del array 1D procede del array `b2`."
      ]
    },
    {
      "cell_type": "markdown",
      "metadata": {
        "id": "VeWRAalk6qrr"
      },
      "source": [
        "**Observación.** Si queremos hacer stack de arrays $n$-dimensionales, tendremos $n$ opciones para el parámetro `axis` y siempre obtendremos como resultado un array de dimensión $n+1$ que ha sido combinado según el `axis` seleccionado."
      ]
    },
    {
      "cell_type": "markdown",
      "metadata": {
        "id": "1NS_Xu4q7EGw"
      },
      "source": [
        "#### Concatenando por filas\n",
        "\n",
        "`numpy` proporciona la función helper `hstack()` que lleva a cabo una concatenación por filas:"
      ]
    },
    {
      "cell_type": "code",
      "execution_count": null,
      "metadata": {
        "colab": {
          "base_uri": "https://localhost:8080/"
        },
        "id": "gRaEjrMA7O5W",
        "outputId": "2a7800d3-bbb3-4bd1-9c68-ac235e5ac7ea"
      },
      "outputs": [
        {
          "name": "stdout",
          "output_type": "stream",
          "text": [
            "[-3 -2 -1  1  2  3]\n"
          ]
        }
      ],
      "source": [
        "# Caso 1D (se corresponde con el resultado de .concatenate())\n",
        "a1 = np.array([-3, -2, -1])\n",
        "a2 = np.array([1, 2, 3])\n",
        "a = np.hstack((a1, a2))\n",
        "print(a)"
      ]
    },
    {
      "cell_type": "code",
      "execution_count": null,
      "metadata": {
        "colab": {
          "base_uri": "https://localhost:8080/"
        },
        "id": "mUgbwSyG7oVa",
        "outputId": "e3db7cfd-81fb-4f68-d0d0-363b18920676"
      },
      "outputs": [
        {
          "name": "stdout",
          "output_type": "stream",
          "text": [
            "[[-6 -5  1  2]\n",
            " [-4 -3  3  4]\n",
            " [-2 -1  5  6]]\n"
          ]
        }
      ],
      "source": [
        "# Caso 2D (se corresponde con el resultado de .concatenate() con axis = 1)\n",
        "b1 = np.array([[-6, -5], [-4, -3], [-2, -1]])\n",
        "b2 = np.array([[1, 2], [3, 4], [5, 6]])\n",
        "b = np.hstack((b1, b2))\n",
        "print(b)"
      ]
    },
    {
      "cell_type": "code",
      "execution_count": null,
      "metadata": {
        "colab": {
          "base_uri": "https://localhost:8080/"
        },
        "id": "_8bhJ2Yr8GoA",
        "outputId": "c1293c5f-e1c8-45cd-ebd0-8839166a01fc"
      },
      "outputs": [
        {
          "name": "stdout",
          "output_type": "stream",
          "text": [
            "[[[-10  -9]\n",
            "  [ -8  -7]\n",
            "  [ -6  -5]\n",
            "  [  0   0]\n",
            "  [  1   2]\n",
            "  [  3   4]]\n",
            "\n",
            " [[ -4  -3]\n",
            "  [ -2  -1]\n",
            "  [  0   0]\n",
            "  [  5   6]\n",
            "  [  7   8]\n",
            "  [  9  10]]]\n"
          ]
        }
      ],
      "source": [
        "# Caso 3D (se corresponde con el resultado de .concatenate() con axis = 1)\n",
        "c1 = np.array([[[-10, -9], [-8, -7], [-6, -5]], [[-4, -3], [-2, -1], [0, 0]]])\n",
        "c2 = np.array([[[0, 0], [1, 2], [3, 4]], [[5, 6], [7, 8], [9, 10]]])\n",
        "c = np.hstack((c1, c2))\n",
        "print(c)"
      ]
    },
    {
      "cell_type": "markdown",
      "metadata": {
        "id": "JL3F-8VG8bOr"
      },
      "source": [
        "#### Concatenando por columnas\n",
        "\n",
        "`numpy` proporciona la función helper `vstack()` que lleva a cabo una concatenación por columnas:"
      ]
    },
    {
      "cell_type": "code",
      "execution_count": null,
      "metadata": {
        "colab": {
          "base_uri": "https://localhost:8080/"
        },
        "id": "5x500yRd8i0Z",
        "outputId": "89c27a35-c354-436e-91c2-5e41fb98788b"
      },
      "outputs": [
        {
          "name": "stdout",
          "output_type": "stream",
          "text": [
            "[[-3 -2 -1]\n",
            " [ 1  2  3]]\n"
          ]
        }
      ],
      "source": [
        "# Caso 1D (se corresponde con el resultado de .stack() con axis = 0)\n",
        "a1 = np.array([-3, -2, -1])\n",
        "a2 = np.array([1, 2, 3])\n",
        "a = np.vstack((a1, a2))\n",
        "print(a)"
      ]
    },
    {
      "cell_type": "code",
      "execution_count": null,
      "metadata": {
        "colab": {
          "base_uri": "https://localhost:8080/"
        },
        "id": "bb8oiAxH8jLw",
        "outputId": "abbe7265-f21a-4d36-c022-90c2192c8d1e"
      },
      "outputs": [
        {
          "name": "stdout",
          "output_type": "stream",
          "text": [
            "[[-6 -5]\n",
            " [-4 -3]\n",
            " [-2 -1]\n",
            " [ 1  2]\n",
            " [ 3  4]\n",
            " [ 5  6]]\n"
          ]
        }
      ],
      "source": [
        "# Caso 2D (se corresponde con el resultado de .concatenate() con axis = 0)\n",
        "b1 = np.array([[-6, -5], [-4, -3], [-2, -1]])\n",
        "b2 = np.array([[1, 2], [3, 4], [5, 6]])\n",
        "b = np.vstack((b1, b2))\n",
        "print(b)"
      ]
    },
    {
      "cell_type": "code",
      "execution_count": null,
      "metadata": {
        "colab": {
          "base_uri": "https://localhost:8080/"
        },
        "id": "GQkQN2wj9IIC",
        "outputId": "8f4828be-ad30-4587-d359-068f894973f3"
      },
      "outputs": [
        {
          "name": "stdout",
          "output_type": "stream",
          "text": [
            "[[[-10  -9]\n",
            "  [ -8  -7]\n",
            "  [ -6  -5]]\n",
            "\n",
            " [[ -4  -3]\n",
            "  [ -2  -1]\n",
            "  [  0   0]]\n",
            "\n",
            " [[  0   0]\n",
            "  [  1   2]\n",
            "  [  3   4]]\n",
            "\n",
            " [[  5   6]\n",
            "  [  7   8]\n",
            "  [  9  10]]]\n"
          ]
        }
      ],
      "source": [
        "# Caso 3D (se corresponde con el resultado de .concatenate() con axis = 0)\n",
        "c1 = np.array([[[-10, -9], [-8, -7], [-6, -5]], [[-4, -3], [-2, -1], [0, 0]]])\n",
        "c2 = np.array([[[0, 0], [1, 2], [3, 4]], [[5, 6], [7, 8], [9, 10]]])\n",
        "c = np.vstack((c1, c2))\n",
        "print(c)"
      ]
    },
    {
      "cell_type": "markdown",
      "metadata": {
        "id": "mxbU_Lqghkzk"
      },
      "source": [
        "### Buscando elementos en un array\n",
        "\n",
        "Podemos buscar elementos en concreto de un array con el método `.where()` que nos devolverá un array de índices en los cuales se encuentra el elemento que estamos buscando.\n",
        "\n",
        "Por ejemplo, dado el siguiente array 1D `x`, busquemos en qué posiciones éste toma el valor 0."
      ]
    },
    {
      "cell_type": "code",
      "execution_count": null,
      "metadata": {
        "colab": {
          "base_uri": "https://localhost:8080/"
        },
        "id": "Vyp-hqXshy9y",
        "outputId": "e90b90a7-3afe-475c-86e8-13a63c6a12d8"
      },
      "outputs": [
        {
          "name": "stdout",
          "output_type": "stream",
          "text": [
            "(array([1, 3, 5, 7]),)\n"
          ]
        }
      ],
      "source": [
        "x = np.array([1, 0, -1, 0, 2, 0, -2, 0])\n",
        "idx0 = np.where(x == 0)\n",
        "\n",
        "print(idx0)"
      ]
    },
    {
      "cell_type": "markdown",
      "metadata": {
        "id": "Ljmv3UfSiD9q"
      },
      "source": [
        "Como resultado hemos obtenido que en los índices 1, 3, 5 y 7 del array `x` se toma el valor 0."
      ]
    },
    {
      "cell_type": "markdown",
      "metadata": {
        "id": "KAEldycbiOhd"
      },
      "source": [
        "**Observación.** Podemos poner cualquier tipo de condición a modo de argumento del método `.where()`.\n",
        "\n",
        "Dado el siguiente array 1D `y`, busquemos en qué índices se toman valores pares."
      ]
    },
    {
      "cell_type": "code",
      "execution_count": null,
      "metadata": {
        "colab": {
          "base_uri": "https://localhost:8080/"
        },
        "id": "1QZcd8iPiCSr",
        "outputId": "f906e5e6-83c6-484e-a9ec-b6f89cf85cfd"
      },
      "outputs": [
        {
          "name": "stdout",
          "output_type": "stream",
          "text": [
            "(array([0, 2, 4, 6]),)\n"
          ]
        }
      ],
      "source": [
        "y = np.array([2, 3, 6, 7, 14, 15, 30, 31])\n",
        "z = np.where(y % 2 == 0)\n",
        "\n",
        "print(z)"
      ]
    },
    {
      "cell_type": "code",
      "execution_count": null,
      "metadata": {
        "colab": {
          "base_uri": "https://localhost:8080/"
        },
        "id": "mq34UMyl9-ej",
        "outputId": "da3d4859-1972-45bf-f3d7-04b81c01c4bf"
      },
      "outputs": [
        {
          "name": "stdout",
          "output_type": "stream",
          "text": [
            "(array([0, 0, 1, 1]), array([0, 2, 0, 2]))\n"
          ]
        }
      ],
      "source": [
        "y = np.array([[2, 3, 6, 7],\n",
        "              [14, 15, 30, 31]])\n",
        "z = np.where(y % 2 == 0)\n",
        "\n",
        "print(z)"
      ]
    },
    {
      "cell_type": "markdown",
      "metadata": {
        "id": "OnUtcdCwXb3W"
      },
      "source": [
        "### Ordenando arrays\n",
        "\n",
        "Ordenar arrays implica reordenar los elementos siguiendo una secuencia ordenada.\n",
        "\n",
        "A su vez, una secuencia ordenada es cualquier sucesión que tiene un orden ciuos elementos siguen, como por ejemplo el orden alfabético o numérico, tanto ascendente como descendente.\n",
        "\n",
        "Para ordenar los elementos de un array, disponemos del método `.sort()`"
      ]
    },
    {
      "cell_type": "code",
      "execution_count": null,
      "metadata": {
        "colab": {
          "base_uri": "https://localhost:8080/"
        },
        "id": "JKIQN9EnXzo-",
        "outputId": "bd0f180c-6ace-4108-8776-e31e74bf3d56"
      },
      "outputs": [
        {
          "name": "stdout",
          "output_type": "stream",
          "text": [
            "['a' 'c' 'k' 'm' 'z']\n"
          ]
        }
      ],
      "source": [
        "x = np.array([\"c\", \"m\", \"k\", \"z\", \"a\"])\n",
        "print(np.sort(x))"
      ]
    },
    {
      "cell_type": "code",
      "execution_count": null,
      "metadata": {
        "colab": {
          "base_uri": "https://localhost:8080/"
        },
        "id": "QfpVtbmWX7hm",
        "outputId": "d6c52236-1583-4ff7-8786-713b2194e162"
      },
      "outputs": [
        {
          "name": "stdout",
          "output_type": "stream",
          "text": [
            "['armadillo' 'caracol' 'escarabajo' 'mariposa' 'perezoso']\n"
          ]
        }
      ],
      "source": [
        "x = np.array([\"caracol\", \"mariposa\", \"escarabajo\", \"perezoso\", \"armadillo\"])\n",
        "print(np.sort(x))"
      ]
    },
    {
      "cell_type": "code",
      "execution_count": null,
      "metadata": {
        "colab": {
          "base_uri": "https://localhost:8080/"
        },
        "id": "MEZimUTQYFbZ",
        "outputId": "cecee5f3-e2fa-49a9-96c6-fde0cc9f2bcf"
      },
      "outputs": [
        {
          "name": "stdout",
          "output_type": "stream",
          "text": [
            "[-10  -5  -2   0   2   5  10]\n"
          ]
        }
      ],
      "source": [
        "x = np.array([2, -2, 5, -5, 10, -10, 0])\n",
        "print(np.sort(x))"
      ]
    },
    {
      "cell_type": "code",
      "execution_count": null,
      "metadata": {
        "colab": {
          "base_uri": "https://localhost:8080/"
        },
        "id": "S3As5IdHYMHJ",
        "outputId": "6f19e1df-3d0c-465f-9f09-26b1c5667d19"
      },
      "outputs": [
        {
          "name": "stdout",
          "output_type": "stream",
          "text": [
            "[-10.6  -5.7  -2.3   0.4   2.5   5.1  10.9]\n"
          ]
        }
      ],
      "source": [
        "x = np.array([2.5, -2.3, 5.1, -5.7, 10.9, -10.6, 0.4])\n",
        "print(np.sort(x))"
      ]
    },
    {
      "cell_type": "markdown",
      "metadata": {
        "id": "NHmbVPwUfqJo"
      },
      "source": [
        "### Elementos aleatorios en `numpy`\n",
        "\n",
        "**Número aleatorio.** Un número aleatorio singifica que se trata de un número que no puede ser predicho lógicamente.\n",
        "\n",
        "**¡Cuidado!** No hay que confundir número aleatorio con que se genere un número diferente cada vez que ejecutemos.\n",
        "\n",
        "Como los ordenadores trabajan mediante algoritmos, un programa destinado a generar números aleatorios implica que los números no serán realmente aleatorios. Los números aleatorios generados mediante un algoritmo son conocidos como **números pseudoaleatorios**.\n",
        "\n",
        "En este apartado trabajaremos con números pseudoaleatorios y veremos como generarlos.\n",
        "\n"
      ]
    },
    {
      "cell_type": "markdown",
      "metadata": {
        "id": "9WUzoMhKg9eB"
      },
      "source": [
        "#### El módulo `random`\n",
        "\n",
        "`numpy` tiene el módulo `random` dedicado a trabajar con números aleatorios\n",
        "\n",
        "Para generar números enteros aleatorios, usamos el método `.randint()`\n"
      ]
    },
    {
      "cell_type": "code",
      "execution_count": null,
      "metadata": {
        "id": "aRCcROTtbKz5"
      },
      "outputs": [],
      "source": [
        "from numpy import random"
      ]
    },
    {
      "cell_type": "code",
      "execution_count": null,
      "metadata": {
        "colab": {
          "base_uri": "https://localhost:8080/"
        },
        "id": "bFN7O7oHhJin",
        "outputId": "4a346679-e42c-4922-d79c-38d7730f90b0"
      },
      "outputs": [
        {
          "name": "stdout",
          "output_type": "stream",
          "text": [
            "4\n"
          ]
        }
      ],
      "source": [
        "# Generamos un número entero aleatorio del 1 al 20\n",
        "n = random.randint(1, 20)\n",
        "print(n)"
      ]
    },
    {
      "cell_type": "code",
      "execution_count": null,
      "metadata": {
        "colab": {
          "base_uri": "https://localhost:8080/"
        },
        "id": "nsUMXOAphVWB",
        "outputId": "0a4ed194-ca7b-40ea-d337-dbb176adcf7f"
      },
      "outputs": [
        {
          "name": "stdout",
          "output_type": "stream",
          "text": [
            "7\n"
          ]
        }
      ],
      "source": [
        "# Generamos un número entero aleatorio del 0 al 10\n",
        "m = random.randint(10)\n",
        "print(m)"
      ]
    },
    {
      "cell_type": "markdown",
      "metadata": {
        "id": "NRpnodAkhjDo"
      },
      "source": [
        "Para generar números reales aleatorios dentro del intervalo $[0, 1]$, usamos el método `.rand()`"
      ]
    },
    {
      "cell_type": "code",
      "execution_count": null,
      "metadata": {
        "colab": {
          "base_uri": "https://localhost:8080/"
        },
        "id": "ZONsA67fharJ",
        "outputId": "0bbc8937-7aeb-4e7e-8022-63dc4a33cf42"
      },
      "outputs": [
        {
          "name": "stdout",
          "output_type": "stream",
          "text": [
            "0.9872404246913139\n"
          ]
        }
      ],
      "source": [
        "# Generamos un número real aleatorio entre el 0 y el 1\n",
        "x = random.rand()\n",
        "print(x)"
      ]
    },
    {
      "cell_type": "markdown",
      "metadata": {
        "id": "-N1BS6noiFdf"
      },
      "source": [
        "#### Arrays aleatorios\n",
        "\n",
        "Podemos generar arrays aleatorios tanto con el método `.randint()` como con el método `.rand()`"
      ]
    },
    {
      "cell_type": "code",
      "execution_count": null,
      "metadata": {
        "colab": {
          "base_uri": "https://localhost:8080/"
        },
        "id": "_2aM6VEZh214",
        "outputId": "56991ef2-bc2a-4a5e-bc95-db9f2b315721"
      },
      "outputs": [
        {
          "name": "stdout",
          "output_type": "stream",
          "text": [
            "[ 0 18 73 87 82]\n"
          ]
        }
      ],
      "source": [
        "# Generamos un array 1D de 5 elementos enteros aleatorios\n",
        "a = random.randint(100, size = 5)\n",
        "print(a)"
      ]
    },
    {
      "cell_type": "code",
      "execution_count": null,
      "metadata": {
        "colab": {
          "base_uri": "https://localhost:8080/"
        },
        "id": "ulnO_Cvwib5l",
        "outputId": "a76e8a09-452f-4f4c-d2fb-1d7eccb1d2f0"
      },
      "outputs": [
        {
          "name": "stdout",
          "output_type": "stream",
          "text": [
            "[0.28538885 0.24082085 0.72590504]\n"
          ]
        }
      ],
      "source": [
        "# Generamos un array 1D de 3 elementos reales aleatorios\n",
        "b = random.rand(3)\n",
        "print(b)"
      ]
    },
    {
      "cell_type": "code",
      "execution_count": null,
      "metadata": {
        "colab": {
          "base_uri": "https://localhost:8080/"
        },
        "id": "O6-11x2fiifb",
        "outputId": "270555af-1d77-4d73-fc2f-c257a9f30da4"
      },
      "outputs": [
        {
          "name": "stdout",
          "output_type": "stream",
          "text": [
            "[[12 42 26 22]\n",
            " [35 26 34 27]\n",
            " [33 40 37 23]\n",
            " [41 18 42  7]\n",
            " [23 16 20 42]]\n"
          ]
        }
      ],
      "source": [
        "# Generamos un array 2D de 5 arrays 1D cada uno con 4 enteros aleatorios\n",
        "c = random.randint(50, size = (5, 4))\n",
        "print(c)"
      ]
    },
    {
      "cell_type": "code",
      "execution_count": null,
      "metadata": {
        "colab": {
          "base_uri": "https://localhost:8080/"
        },
        "id": "iXoNyurdisZn",
        "outputId": "0f8ac8c8-4ca3-4f1f-de67-d039251a2cc8"
      },
      "outputs": [
        {
          "name": "stdout",
          "output_type": "stream",
          "text": [
            "[[[0.46069412 0.0086092  0.24248074]\n",
            "  [0.88073955 0.10352765 0.17196375]\n",
            "  [0.49542079 0.62747938 0.64115075]\n",
            "  [0.38815409 0.01471381 0.67536626]]\n",
            "\n",
            " [[0.80869612 0.59833229 0.77580883]\n",
            "  [0.86167062 0.77539749 0.39963423]\n",
            "  [0.05566117 0.70641905 0.34602174]\n",
            "  [0.62572813 0.6268239  0.96415304]]]\n"
          ]
        }
      ],
      "source": [
        "# Generamos un array 3D de 2 arrays 2D cada uno con 4 arrays 1D\n",
        "#   cada uno con 3 reales aleatorios\n",
        "d = random.rand(2, 4, 3)\n",
        "print(d)"
      ]
    },
    {
      "cell_type": "markdown",
      "metadata": {
        "id": "Mm_4umkJjI_-"
      },
      "source": [
        "#### Elegir un elemento aleatorio de un array\n",
        "\n",
        "Dado un array, podemos elegir aleatoriamente un elemento suyo con el método `.choice()`"
      ]
    },
    {
      "cell_type": "code",
      "execution_count": null,
      "metadata": {
        "colab": {
          "base_uri": "https://localhost:8080/"
        },
        "id": "jZTvsIL0jA_V",
        "outputId": "585013fb-2aed-4574-cf7f-73e351f3970c"
      },
      "outputs": [
        {
          "name": "stdout",
          "output_type": "stream",
          "text": [
            "-4\n"
          ]
        }
      ],
      "source": [
        "x = np.array([1, 2, 3, 4, 5, -5, -4, -3, -2, -1])\n",
        "print(random.choice(x))"
      ]
    },
    {
      "cell_type": "markdown",
      "metadata": {
        "id": "yJrriJDgjh-r"
      },
      "source": [
        "El método `.choice()` también consta del parámetro `size`, con lo cual podemos generar un array aleatorio con los elementos de un array dado:"
      ]
    },
    {
      "cell_type": "code",
      "execution_count": null,
      "metadata": {
        "colab": {
          "base_uri": "https://localhost:8080/"
        },
        "id": "Zaq-KcLHjbjP",
        "outputId": "ae4c5449-beb6-436c-f8a9-41b98637042e"
      },
      "outputs": [
        {
          "name": "stdout",
          "output_type": "stream",
          "text": [
            "[[-1  5  5  5  4 -2]\n",
            " [ 1  2 -4  4 -5 -3]\n",
            " [ 2 -2  3 -2  1  5]]\n"
          ]
        }
      ],
      "source": [
        "print(random.choice(x, size = (3, 6)))"
      ]
    },
    {
      "cell_type": "markdown",
      "metadata": {
        "id": "zbOew4_Ij7lH"
      },
      "source": [
        "**¡Cuidado!** El método `.choice()` solamente toma como parámetro arrays unidimensionales"
      ]
    },
    {
      "cell_type": "markdown",
      "metadata": {
        "id": "STDkSuc9lE3F"
      },
      "source": [
        "Existe otro parámetro del método `.choice()` que nos permite modificar las probabilidades de cada elemento. Éste es el parámetro `p`, al que le tendremos que proporcionar una lista de probabilidades (todos los elementos deben ser menores o iguales a 1 y la suma de todos ellos debe ser 1).\n",
        "\n",
        "**Observación.** Por defecto, todos los elementos son equiprobables, es decir, tienen la misma probabilidad que es $\\frac{1}{n}$, siendo $n$ el número de elementos del array."
      ]
    },
    {
      "cell_type": "code",
      "execution_count": null,
      "metadata": {
        "colab": {
          "base_uri": "https://localhost:8080/"
        },
        "id": "oUK1Bv-rlXm7",
        "outputId": "8998dc6f-b056-416c-d8da-d66602639865"
      },
      "outputs": [
        {
          "name": "stdout",
          "output_type": "stream",
          "text": [
            "[[-4  4  2  1 -2  2]\n",
            " [-1  1 -2  4  1  1]]\n"
          ]
        }
      ],
      "source": [
        "x = np.array([1, 2, 3, 4, 5, -5, -4, -3, -2, -1])\n",
        "print(random.choice(x,\n",
        "                    p = [0.2, 0.2, 0.05, 0.05, 0.05, 0.05, 0.1, 0.1, 0.05, 0.15],\n",
        "                    size = (2, 6)))"
      ]
    },
    {
      "cell_type": "markdown",
      "metadata": {
        "id": "BtCUS1vgmBCr"
      },
      "source": [
        "En el chunk anterior se ha generado un array 2D con 2 arrays 1D cada uno con 6 elementos, donde las probabilidades para los elementos del array original son:\n",
        "\n",
        "* Los elementos `1` y `2` tienen probabilidad 0.2 de salir\n",
        "* El elemento `-1` tiene probabilidad 0.15\n",
        "* Los elementos `-4` y `-3` tienen probabilidad 0.1 de salir\n",
        "* Los elementos `3`, `4`, `5`, `6` y `-2` tienen probabilidad 0.05\n",
        "\n",
        "Todas las probabilidades se encuentran en el intervalo $[0, 1]$ y si las sumamos dan 1."
      ]
    },
    {
      "cell_type": "markdown",
      "metadata": {
        "id": "fRE51UGhqkCh"
      },
      "source": [
        "### Funciones universales\n",
        "\n",
        "Las funciones universales son aquellas que operan sobre el objeto ndarray\n",
        "\n",
        "Podemos comprobar si un método se trata de una función universal con la función `type`. Cuando se trata de una función universal, obtenemos que es de tipo `np.ufunc`"
      ]
    },
    {
      "cell_type": "code",
      "execution_count": null,
      "metadata": {
        "colab": {
          "base_uri": "https://localhost:8080/"
        },
        "id": "kySYHm3PsQvH",
        "outputId": "e235e14c-856a-43d8-eb39-c7568dce1eee"
      },
      "outputs": [
        {
          "name": "stdout",
          "output_type": "stream",
          "text": [
            "<class 'numpy.ufunc'>\n"
          ]
        }
      ],
      "source": [
        "# Es una función universal\n",
        "print(type(np.multiply))"
      ]
    },
    {
      "cell_type": "code",
      "execution_count": null,
      "metadata": {
        "colab": {
          "base_uri": "https://localhost:8080/"
        },
        "id": "a1E9M6IMs2Bt",
        "outputId": "62b8e629-f420-419f-c904-c2db6927f211"
      },
      "outputs": [
        {
          "data": {
            "text/plain": [
              "True"
            ]
          },
          "execution_count": 62,
          "metadata": {
            "tags": []
          },
          "output_type": "execute_result"
        }
      ],
      "source": [
        "type(np.multiply) == np.ufunc"
      ]
    },
    {
      "cell_type": "code",
      "execution_count": null,
      "metadata": {
        "colab": {
          "base_uri": "https://localhost:8080/"
        },
        "id": "6W7x51u9sLZD",
        "outputId": "7aa92544-accb-42eb-9fff-9aaed29f30e8"
      },
      "outputs": [
        {
          "name": "stdout",
          "output_type": "stream",
          "text": [
            "<class 'function'>\n"
          ]
        }
      ],
      "source": [
        "# No es una función universal\n",
        "print(type(np.concatenate))"
      ]
    },
    {
      "cell_type": "code",
      "execution_count": null,
      "metadata": {
        "colab": {
          "base_uri": "https://localhost:8080/"
        },
        "id": "a2pXuSfZs7J3",
        "outputId": "6d8d7cff-8543-4f98-837d-d129fb70511e"
      },
      "outputs": [
        {
          "data": {
            "text/plain": [
              "False"
            ]
          },
          "execution_count": 64,
          "metadata": {
            "tags": []
          },
          "output_type": "execute_result"
        }
      ],
      "source": [
        "type(np.concatenate) == np.ufunc"
      ]
    },
    {
      "cell_type": "markdown",
      "metadata": {
        "id": "sq0dnZcStDUF"
      },
      "source": [
        "#### Aritmética"
      ]
    },
    {
      "cell_type": "code",
      "execution_count": null,
      "metadata": {
        "id": "V0FwLLiMtig-"
      },
      "outputs": [],
      "source": [
        "a = np.array([12, 0, 7])\n",
        "b = np.array([8, 2, 5])"
      ]
    },
    {
      "cell_type": "markdown",
      "metadata": {
        "id": "wUY04PQXtG9U"
      },
      "source": [
        "El método `.add()` suma arrays elemento a elemento"
      ]
    },
    {
      "cell_type": "code",
      "execution_count": null,
      "metadata": {
        "colab": {
          "base_uri": "https://localhost:8080/"
        },
        "id": "DAGzTDjHsm8K",
        "outputId": "1b366206-7493-4bfe-ee38-434099ff342b"
      },
      "outputs": [
        {
          "name": "stdout",
          "output_type": "stream",
          "text": [
            "[20  2 12]\n"
          ]
        }
      ],
      "source": [
        "print(np.add(a, b))"
      ]
    },
    {
      "cell_type": "markdown",
      "metadata": {
        "id": "ndLenDpJtarZ"
      },
      "source": [
        "El método `.subtract()` resta arrays elemento a elemento\n"
      ]
    },
    {
      "cell_type": "code",
      "execution_count": null,
      "metadata": {
        "colab": {
          "base_uri": "https://localhost:8080/"
        },
        "id": "Gv_lwATztxEO",
        "outputId": "6d5aa22e-1911-4c44-b7e3-30e96fd37202"
      },
      "outputs": [
        {
          "name": "stdout",
          "output_type": "stream",
          "text": [
            "[ 4 -2  2]\n"
          ]
        }
      ],
      "source": [
        "print(np.subtract(a, b))"
      ]
    },
    {
      "cell_type": "markdown",
      "metadata": {
        "id": "5zjDL_TEt99L"
      },
      "source": [
        "El método `.multiply()` multiplica arrays elemento a elemento"
      ]
    },
    {
      "cell_type": "code",
      "execution_count": null,
      "metadata": {
        "colab": {
          "base_uri": "https://localhost:8080/"
        },
        "id": "TxW1U-RZtzCe",
        "outputId": "891e4af6-dcca-4dcd-fbfa-51a9a0d366f6"
      },
      "outputs": [
        {
          "name": "stdout",
          "output_type": "stream",
          "text": [
            "[96  0 35]\n"
          ]
        }
      ],
      "source": [
        "print(np.multiply(a, b))"
      ]
    },
    {
      "cell_type": "markdown",
      "metadata": {
        "id": "0bbljeruuXhi"
      },
      "source": [
        "El método `.divide()` divide arrays elemento a elemento"
      ]
    },
    {
      "cell_type": "code",
      "execution_count": null,
      "metadata": {
        "colab": {
          "base_uri": "https://localhost:8080/"
        },
        "id": "CjTsfUIAuVl0",
        "outputId": "a9a8b375-fe2a-4eef-9b24-838790264484"
      },
      "outputs": [
        {
          "name": "stdout",
          "output_type": "stream",
          "text": [
            "[1.5 0.  1.4]\n"
          ]
        }
      ],
      "source": [
        "print(np.divide(a, b))"
      ]
    },
    {
      "cell_type": "markdown",
      "metadata": {
        "id": "4nJ3rEhqupkX"
      },
      "source": [
        "El método `.power()` calcula la potencia del primer array elevado al segundo elemento a elemento"
      ]
    },
    {
      "cell_type": "code",
      "execution_count": null,
      "metadata": {
        "colab": {
          "base_uri": "https://localhost:8080/"
        },
        "id": "Bp3nbY0JufQk",
        "outputId": "d056fb56-db32-4c51-8e67-da0a9e84679c"
      },
      "outputs": [
        {
          "name": "stdout",
          "output_type": "stream",
          "text": [
            "[429981696         0     16807]\n"
          ]
        }
      ],
      "source": [
        "print(np.power(a, b))"
      ]
    },
    {
      "cell_type": "markdown",
      "metadata": {
        "id": "AI3bxfs-u8dA"
      },
      "source": [
        "Tanto el método `.mod()` como el método `.remainder()` calculan el resto de la división entera del primer array entre el segundo, elemento a elemento"
      ]
    },
    {
      "cell_type": "code",
      "execution_count": null,
      "metadata": {
        "colab": {
          "base_uri": "https://localhost:8080/"
        },
        "id": "QMg3YX-NuyLj",
        "outputId": "a8c931da-8cd3-4322-8ffd-8e6ff92afe89"
      },
      "outputs": [
        {
          "name": "stdout",
          "output_type": "stream",
          "text": [
            "[4 0 2]\n",
            "[4 0 2]\n"
          ]
        }
      ],
      "source": [
        "print(np.mod(a, b))\n",
        "print(np.remainder(a, b))"
      ]
    },
    {
      "cell_type": "markdown",
      "metadata": {
        "id": "2SKk39eGvaOe"
      },
      "source": [
        "El método `.divmod()` devuelve una tupla con 2 arrays, el primero contiene los cocientes y el segundo los restos de las divisiones enteras elemento a elemento"
      ]
    },
    {
      "cell_type": "code",
      "execution_count": null,
      "metadata": {
        "colab": {
          "base_uri": "https://localhost:8080/"
        },
        "id": "xxj-TwfxvJQP",
        "outputId": "e35cd1fb-c668-45b8-82f3-29b3e4f8a09a"
      },
      "outputs": [
        {
          "name": "stdout",
          "output_type": "stream",
          "text": [
            "(array([1, 0, 1]), array([4, 0, 2]))\n"
          ]
        }
      ],
      "source": [
        "print(np.divmod(a, b))"
      ]
    },
    {
      "cell_type": "markdown",
      "metadata": {
        "id": "pR3BhPcnv4AJ"
      },
      "source": [
        "El método `.absolute()` devuelve el valor absoluto de cada elemento de un array"
      ]
    },
    {
      "cell_type": "code",
      "execution_count": null,
      "metadata": {
        "colab": {
          "base_uri": "https://localhost:8080/"
        },
        "id": "HB4oQZw5vzt9",
        "outputId": "74c79c28-a798-44ef-c005-84f44a84fee3"
      },
      "outputs": [
        {
          "name": "stdout",
          "output_type": "stream",
          "text": [
            "[1 0 2 1 2]\n"
          ]
        }
      ],
      "source": [
        "print(np.absolute(np.array([-1, 0, -2, 1, 2])))"
      ]
    },
    {
      "cell_type": "markdown",
      "metadata": {
        "id": "AYlHpKkwfpXT"
      },
      "source": [
        "#### Redondeando decimales\n",
        "\n",
        "En `numpy` tenemos 5 formas de redondear los decimales de un número\n",
        "\n",
        "* `.trunc()` para truncar\n",
        "* `.fix()` también para truncar\n",
        "* `.round()` para redondear\n",
        "* `.floor()` para redondear a la baja\n",
        "* `.ceil()` para redondear a la alza"
      ]
    },
    {
      "cell_type": "code",
      "execution_count": null,
      "metadata": {
        "id": "QDh6w8rXwGOW"
      },
      "outputs": [],
      "source": [
        "a = np.array([-5.1777, 5.7778, 5.5234])"
      ]
    },
    {
      "cell_type": "code",
      "execution_count": null,
      "metadata": {
        "colab": {
          "base_uri": "https://localhost:8080/"
        },
        "id": "k00osHyRgZOU",
        "outputId": "e79aa666-5780-4b97-b5d6-912f999deef5"
      },
      "outputs": [
        {
          "name": "stdout",
          "output_type": "stream",
          "text": [
            "Si truncamos con .trunc(), obtendremos [-5.  5.  5.]\n",
            "Si truncamos con .fix(), obtendremos [-5.  5.  5.]\n"
          ]
        }
      ],
      "source": [
        "print(\"Si truncamos con .trunc(), obtendremos {}\".format(np.trunc(a)))\n",
        "print(\"Si truncamos con .fix(), obtendremos {}\".format(np.fix(a)))"
      ]
    },
    {
      "cell_type": "code",
      "execution_count": null,
      "metadata": {
        "colab": {
          "base_uri": "https://localhost:8080/"
        },
        "id": "6hAXO7fMgtnk",
        "outputId": "31e8f970-fdef-4f14-9978-758600ebc13f"
      },
      "outputs": [
        {
          "name": "stdout",
          "output_type": "stream",
          "text": [
            "Si rendondeamos con .around(), obtendremos [-5.  6.  6.]\n"
          ]
        }
      ],
      "source": [
        "print(\"Si rendondeamos con .around(), obtendremos {}\".format(np.around(a)))"
      ]
    },
    {
      "cell_type": "markdown",
      "metadata": {
        "id": "VrMrpkBCg81C"
      },
      "source": [
        "**Observación.** Como segundo parámetro, podemos indicar a cuántas cifras decimales queremos redondear"
      ]
    },
    {
      "cell_type": "code",
      "execution_count": null,
      "metadata": {
        "colab": {
          "base_uri": "https://localhost:8080/"
        },
        "id": "xjicgCI0g1xe",
        "outputId": "8f7ffa8a-0921-4e3e-97da-4f6fd2dd6d68"
      },
      "outputs": [
        {
          "name": "stdout",
          "output_type": "stream",
          "text": [
            "Si rendondeamos con .round() a 3 cifras decimales, obtendremos [-5.178  5.778  5.523]\n"
          ]
        }
      ],
      "source": [
        "print(\"Si rendondeamos con .round() a 3 cifras decimales, obtendremos {}\".\n",
        "      format(np.round(a, 3)))"
      ]
    },
    {
      "cell_type": "code",
      "execution_count": null,
      "metadata": {
        "colab": {
          "base_uri": "https://localhost:8080/"
        },
        "id": "xjgNAcYDhHp0",
        "outputId": "6af12dd8-9f4b-4916-d550-cf728474073d"
      },
      "outputs": [
        {
          "name": "stdout",
          "output_type": "stream",
          "text": [
            "Si rendondeamos a la baja con .floor(), obtendremos [-6.  5.  5.]\n"
          ]
        }
      ],
      "source": [
        "print(\"Si rendondeamos a la baja con .floor(), obtendremos {}\".format(np.floor(a)))"
      ]
    },
    {
      "cell_type": "code",
      "execution_count": null,
      "metadata": {
        "colab": {
          "base_uri": "https://localhost:8080/"
        },
        "id": "_fVSaRzYhM7e",
        "outputId": "8a67af45-5154-4d17-e67f-81dcc4290daf"
      },
      "outputs": [
        {
          "name": "stdout",
          "output_type": "stream",
          "text": [
            "Si rendondeamos con a la alza .ceil(), obtendremos [-5.  6.  6.]\n"
          ]
        }
      ],
      "source": [
        "print(\"Si rendondeamos con a la alza .ceil(), obtendremos {}\".format(np.ceil(a)))"
      ]
    },
    {
      "cell_type": "markdown",
      "metadata": {
        "id": "_vHqBMzPhVWh"
      },
      "source": [
        "#### Sumas y Diferencias\n",
        "\n",
        "Ya concoemos el método `.add()` que dados dos arrays los suma elemento a elemento"
      ]
    },
    {
      "cell_type": "code",
      "execution_count": null,
      "metadata": {
        "id": "VdG_u-juhQSf"
      },
      "outputs": [],
      "source": [
        "x = np.array([2, 3, 7])\n",
        "y = np.array([-1, 5, 0])"
      ]
    },
    {
      "cell_type": "code",
      "execution_count": null,
      "metadata": {
        "colab": {
          "base_uri": "https://localhost:8080/"
        },
        "id": "FDHZO1UhhqSK",
        "outputId": "da0e84b8-97ba-4d94-d0e1-d873f46c0aa6"
      },
      "outputs": [
        {
          "name": "stdout",
          "output_type": "stream",
          "text": [
            "[1 8 7]\n"
          ]
        }
      ],
      "source": [
        "print(np.add(x, y))"
      ]
    },
    {
      "cell_type": "markdown",
      "metadata": {
        "id": "1dh7Hty2h0d-"
      },
      "source": [
        "El método `.sum()` nos calcula la suma de los elementos de un array"
      ]
    },
    {
      "cell_type": "code",
      "execution_count": null,
      "metadata": {
        "colab": {
          "base_uri": "https://localhost:8080/"
        },
        "id": "Hk6fQhvehtBl",
        "outputId": "209fe1dc-d051-4175-d3b6-fd9ec1c1c239"
      },
      "outputs": [
        {
          "name": "stdout",
          "output_type": "stream",
          "text": [
            "La suma de los elementos de x es 12\n",
            "La suma de los elementos de y es 4\n"
          ]
        }
      ],
      "source": [
        "print(\"La suma de los elementos de x es\", np.sum(x))\n",
        "print(\"La suma de los elementos de y es\", np.sum(y))"
      ]
    },
    {
      "cell_type": "markdown",
      "metadata": {
        "id": "NmpOOboOiUkA"
      },
      "source": [
        "**Observación.** Cuando por parámetro pasamos un array multidimensional, volvemos a tener disponible el ya más que conocido parámetro `axis`, para seleccionar sobre qué eje queremos realizar la suma"
      ]
    },
    {
      "cell_type": "code",
      "execution_count": null,
      "metadata": {
        "colab": {
          "base_uri": "https://localhost:8080/"
        },
        "id": "DTBeNHbRiDka",
        "outputId": "e29e1e1b-783b-41df-8d1f-e1f758709409"
      },
      "outputs": [
        {
          "name": "stdout",
          "output_type": "stream",
          "text": [
            "\n",
            "La suma de los elementos de z sobre el axis 0  es\n",
            "[[ 4  9]\n",
            " [ 8 14]\n",
            " [14 21]\n",
            " [18 26]]\n",
            "\n",
            "La suma de los elementos de z sobre el axis 1  es\n",
            "[[16 20]\n",
            " [14 28]\n",
            " [14 22]]\n",
            "\n",
            "La suma de los elementos de z sobre el axis 2  es\n",
            "[[ 3  7 11 15]\n",
            " [ 6  9 12 15]\n",
            " [ 4  6 12 14]]\n",
            "\n",
            "La suma de todos los elementos de z es 114\n"
          ]
        }
      ],
      "source": [
        "z = np.array([[[1, 2], [3, 4], [5, 6], [7, 8]],\n",
        "              [[2, 4], [3, 6], [4, 8], [5, 10]],\n",
        "              [[1, 3], [2, 4], [5, 7], [6, 8]]])\n",
        "\n",
        "for i in range(z.ndim):\n",
        "  print(\"\\nLa suma de los elementos de z sobre el axis {}  es\\n{}\".format(i, np.sum(z, axis = i)))\n",
        "\n",
        "print(\"\\nLa suma de todos los elementos de z es\", np.sum(z))"
      ]
    },
    {
      "cell_type": "markdown",
      "metadata": {
        "id": "xFHeTdsejlpg"
      },
      "source": [
        "Para calcular la suma acumulada de los elementos de un array, disponemos del método `.cumsum()`"
      ]
    },
    {
      "cell_type": "code",
      "execution_count": null,
      "metadata": {
        "colab": {
          "base_uri": "https://localhost:8080/"
        },
        "id": "gb2ibXHqjs72",
        "outputId": "cd0a25af-a68b-4381-d055-6f4bc297e424"
      },
      "outputs": [
        {
          "name": "stdout",
          "output_type": "stream",
          "text": [
            "La suma acumulada de los elementos de x es [ 2  5 12]\n",
            "La suma acumulada de los elementos de y es [-1  4  4]\n"
          ]
        }
      ],
      "source": [
        "print(\"La suma acumulada de los elementos de x es\", np.cumsum(x))\n",
        "print(\"La suma acumulada de los elementos de y es\", np.cumsum(y))"
      ]
    },
    {
      "cell_type": "markdown",
      "metadata": {
        "id": "xPx64XfQj44p"
      },
      "source": [
        "**Observación.** Cuando por parámetro pasamos un array multidimensional, volvemos a tener disponible el ya más que conocido parámetro `axis`, para seleccionar sobre qué eje queremos realizar la suma acumulada"
      ]
    },
    {
      "cell_type": "code",
      "execution_count": null,
      "metadata": {
        "colab": {
          "base_uri": "https://localhost:8080/"
        },
        "id": "4RS6oyeYj-V3",
        "outputId": "97cfc35c-61c5-4ed9-d519-88e92ac62ac9"
      },
      "outputs": [
        {
          "name": "stdout",
          "output_type": "stream",
          "text": [
            "\n",
            "La suma acumulada de los elementos de z sobre el axis 0  es\n",
            "[[[ 1  2]\n",
            "  [ 3  4]\n",
            "  [ 5  6]\n",
            "  [ 7  8]]\n",
            "\n",
            " [[ 3  6]\n",
            "  [ 6 10]\n",
            "  [ 9 14]\n",
            "  [12 18]]\n",
            "\n",
            " [[ 4  9]\n",
            "  [ 8 14]\n",
            "  [14 21]\n",
            "  [18 26]]]\n",
            "\n",
            "La suma acumulada de los elementos de z sobre el axis 1  es\n",
            "[[[ 1  2]\n",
            "  [ 4  6]\n",
            "  [ 9 12]\n",
            "  [16 20]]\n",
            "\n",
            " [[ 2  4]\n",
            "  [ 5 10]\n",
            "  [ 9 18]\n",
            "  [14 28]]\n",
            "\n",
            " [[ 1  3]\n",
            "  [ 3  7]\n",
            "  [ 8 14]\n",
            "  [14 22]]]\n",
            "\n",
            "La suma acumulada de los elementos de z sobre el axis 2  es\n",
            "[[[ 1  3]\n",
            "  [ 3  7]\n",
            "  [ 5 11]\n",
            "  [ 7 15]]\n",
            "\n",
            " [[ 2  6]\n",
            "  [ 3  9]\n",
            "  [ 4 12]\n",
            "  [ 5 15]]\n",
            "\n",
            " [[ 1  4]\n",
            "  [ 2  6]\n",
            "  [ 5 12]\n",
            "  [ 6 14]]]\n",
            "\n",
            "La suma acumulada de todos los elementos de z es [  1   3   6  10  15  21  28  36  38  42  45  51  55  63  68  78  79  82\n",
            "  84  88  93 100 106 114]\n"
          ]
        }
      ],
      "source": [
        "z = np.array([[[1, 2], [3, 4], [5, 6], [7, 8]],\n",
        "              [[2, 4], [3, 6], [4, 8], [5, 10]],\n",
        "              [[1, 3], [2, 4], [5, 7], [6, 8]]])\n",
        "\n",
        "for i in range(z.ndim):\n",
        "  print(\"\\nLa suma acumulada de los elementos de z sobre el axis {}  es\\n{}\".format(i, np.cumsum(z, axis = i)))\n",
        "\n",
        "print(\"\\nLa suma acumulada de todos los elementos de z es\", np.cumsum(z))"
      ]
    },
    {
      "cell_type": "markdown",
      "metadata": {
        "id": "m4Dx-NaUkyo8"
      },
      "source": [
        "Para calcular las diferencias entre los elementos de un array, disponemos del método `.diff()`"
      ]
    },
    {
      "cell_type": "code",
      "execution_count": null,
      "metadata": {
        "colab": {
          "base_uri": "https://localhost:8080/"
        },
        "id": "IYRXRu0MkEI4",
        "outputId": "0fc7158a-c0b3-4637-c1cf-8ad2b53fc5d6"
      },
      "outputs": [
        {
          "name": "stdout",
          "output_type": "stream",
          "text": [
            "La diferencia de elementos sucesivos de x es [1 4]\n",
            "La diferencia de elementos sucesivos de y es [ 6 -5]\n"
          ]
        }
      ],
      "source": [
        "print(\"La diferencia de elementos sucesivos de x es\", np.diff(x))\n",
        "print(\"La diferencia de elementos sucesivos de y es\", np.diff(y))"
      ]
    },
    {
      "cell_type": "markdown",
      "metadata": {
        "id": "_opM_ONMlW1k"
      },
      "source": [
        "**Observación.** Cuando por parámetro pasamos un array multidimensional, volvemos a tener disponible el ya más que conocido parámetro `axis`, para seleccionar sobre qué eje queremos realizar la diferencia"
      ]
    },
    {
      "cell_type": "code",
      "execution_count": null,
      "metadata": {
        "colab": {
          "base_uri": "https://localhost:8080/"
        },
        "id": "iqVK9oeMlHNH",
        "outputId": "2cb1d2ba-38ce-49a0-9a22-f4df54bf40aa"
      },
      "outputs": [
        {
          "name": "stdout",
          "output_type": "stream",
          "text": [
            "\n",
            "La diferencia de los elementos sucesivos de z sobre el axis 0  es\n",
            "[[[ 1  2]\n",
            "  [ 0  2]\n",
            "  [-1  2]\n",
            "  [-2  2]]\n",
            "\n",
            " [[-1 -1]\n",
            "  [-1 -2]\n",
            "  [ 1 -1]\n",
            "  [ 1 -2]]]\n",
            "\n",
            "La diferencia de los elementos sucesivos de z sobre el axis 1  es\n",
            "[[[2 2]\n",
            "  [2 2]\n",
            "  [2 2]]\n",
            "\n",
            " [[1 2]\n",
            "  [1 2]\n",
            "  [1 2]]\n",
            "\n",
            " [[1 1]\n",
            "  [3 3]\n",
            "  [1 1]]]\n",
            "\n",
            "La diferencia de los elementos sucesivos de z sobre el axis 2  es\n",
            "[[[1]\n",
            "  [1]\n",
            "  [1]\n",
            "  [1]]\n",
            "\n",
            " [[2]\n",
            "  [3]\n",
            "  [4]\n",
            "  [5]]\n",
            "\n",
            " [[2]\n",
            "  [2]\n",
            "  [2]\n",
            "  [2]]]\n"
          ]
        }
      ],
      "source": [
        "z = np.array([[[1, 2], [3, 4], [5, 6], [7, 8]],\n",
        "              [[2, 4], [3, 6], [4, 8], [5, 10]],\n",
        "              [[1, 3], [2, 4], [5, 7], [6, 8]]])\n",
        "\n",
        "for i in range(z.ndim):\n",
        "  print(\"\\nLa diferencia de los elementos sucesivos de z sobre el axis {}  es\\n{}\".format(i, np.diff(z, axis = i)))"
      ]
    },
    {
      "cell_type": "markdown",
      "metadata": {
        "id": "_EYwUgE5whaq"
      },
      "source": [
        "El parámetro `n` nos permite elegir cuántas veces queremos calcular la diferencia entre los elementos sucesivos de un array:"
      ]
    },
    {
      "cell_type": "code",
      "execution_count": null,
      "metadata": {
        "colab": {
          "base_uri": "https://localhost:8080/"
        },
        "id": "XYMOSA8vwRdE",
        "outputId": "0654b8e8-cee4-4e75-83bf-e2c89b9b33f7"
      },
      "outputs": [
        {
          "name": "stdout",
          "output_type": "stream",
          "text": [
            "x = [2 3 7]\n",
            "Realizando la diferencia entre sus elementos sucesivos obtenemos [1 4]\n",
            "Realizando 2 veces la diferencia entre sus elementos sucesivos obtenemos [3]\n"
          ]
        }
      ],
      "source": [
        "print(\"x =\", x)\n",
        "print(\"Realizando la diferencia entre sus elementos sucesivos obtenemos\", np.diff(x))\n",
        "print(\"Realizando 2 veces la diferencia entre sus elementos sucesivos obtenemos\", np.diff(x, n = 2))"
      ]
    },
    {
      "cell_type": "code",
      "execution_count": null,
      "metadata": {
        "colab": {
          "base_uri": "https://localhost:8080/"
        },
        "id": "Lz55Sb10w75m",
        "outputId": "f9ce1f80-77fd-4780-d545-4d3398001ac0"
      },
      "outputs": [
        {
          "name": "stdout",
          "output_type": "stream",
          "text": [
            "y = [-1  5  0]\n",
            "Realizando la diferencia entre sus elementos sucesivos obtenemos [ 6 -5]\n",
            "Realizando 2 veces la diferencia entre sus elementos sucesivos obtenemos [-11]\n"
          ]
        }
      ],
      "source": [
        "print(\"y =\", y)\n",
        "print(\"Realizando la diferencia entre sus elementos sucesivos obtenemos\", np.diff(y))\n",
        "print(\"Realizando 2 veces la diferencia entre sus elementos sucesivos obtenemos\", np.diff(y, n = 2))"
      ]
    },
    {
      "cell_type": "markdown",
      "metadata": {
        "id": "cgVSH9eExLIg"
      },
      "source": [
        "#### Productos\n",
        "\n",
        "El método `.prod()` calcula el producto de los elementos de un array"
      ]
    },
    {
      "cell_type": "code",
      "execution_count": null,
      "metadata": {
        "colab": {
          "base_uri": "https://localhost:8080/"
        },
        "id": "oe5Jy23IxD_m",
        "outputId": "ed680902-e261-49bf-aca8-811275416d47"
      },
      "outputs": [
        {
          "data": {
            "text/plain": [
              "384"
            ]
          },
          "execution_count": 94,
          "metadata": {
            "tags": []
          },
          "output_type": "execute_result"
        }
      ],
      "source": [
        "a = np.array([2, 4, 6, 8])\n",
        "np.prod(a)"
      ]
    },
    {
      "cell_type": "markdown",
      "metadata": {
        "id": "gU7QCdfTxnEw"
      },
      "source": [
        "**Observación.** Cuando por parámetro pasamos un array multidimensional, volvemos a tener disponible el parámetro `axis`, para seleccionar sobre qué eje queremos realizar el producto de los elementos"
      ]
    },
    {
      "cell_type": "code",
      "execution_count": null,
      "metadata": {
        "colab": {
          "base_uri": "https://localhost:8080/"
        },
        "id": "DjdUhWonxdfy",
        "outputId": "1837e5c8-4e63-43b5-e2ac-beff42c02492"
      },
      "outputs": [
        {
          "name": "stdout",
          "output_type": "stream",
          "text": [
            "\n",
            "El producto de los elementos de b sobre el axis 0  es\n",
            "[[  -2  -24]\n",
            " [ -18  -96]\n",
            " [-100 -336]\n",
            " [-210 -640]]\n",
            "\n",
            "El producto de los elementos de b sobre el axis 1  es\n",
            "[[ 105  384]\n",
            " [ 120 1920]\n",
            " [  60  672]]\n",
            "\n",
            "El producto de los elementos de b sobre el axis 2  es\n",
            "[[  2  12  30  56]\n",
            " [ -8 -18 -32 -50]\n",
            " [ -3  -8 -35 -48]]\n",
            "\n",
            "El producto de todos los elementos de b es 374561832960000\n"
          ]
        }
      ],
      "source": [
        "b = np.array([[[1, 2], [3, 4], [5, 6], [7, 8]],\n",
        "              [[2, -4], [3, -6], [4, -8], [5, -10]],\n",
        "              [[-1, 3], [-2, 4], [-5, 7], [-6, 8]]])\n",
        "\n",
        "for i in range(b.ndim):\n",
        "  print(\"\\nEl producto de los elementos de b sobre el axis {}  es\\n{}\".format(i, np.prod(b, axis = i)))\n",
        "\n",
        "print(\"\\nEl producto de todos los elementos de b es\", np.prod(b))"
      ]
    },
    {
      "cell_type": "markdown",
      "metadata": {
        "id": "WDvO_syhyD3b"
      },
      "source": [
        "Con el método `.cumprod()` podemos calcular el producto acumulado de un array"
      ]
    },
    {
      "cell_type": "code",
      "execution_count": null,
      "metadata": {
        "colab": {
          "base_uri": "https://localhost:8080/"
        },
        "id": "yJOwTsxGx63e",
        "outputId": "4343f1f9-715b-442a-a556-47b7d3e7487a"
      },
      "outputs": [
        {
          "data": {
            "text/plain": [
              "array([  2,   8,  48, 384])"
            ]
          },
          "execution_count": 96,
          "metadata": {
            "tags": []
          },
          "output_type": "execute_result"
        }
      ],
      "source": [
        "a = np.array([2, 4, 6, 8])\n",
        "np.cumprod(a)"
      ]
    },
    {
      "cell_type": "markdown",
      "metadata": {
        "id": "RocoPakoyMyW"
      },
      "source": [
        "**Observación.** Cuando por parámetro pasamos un array multidimensional, volvemos a tener disponible el parámetro `axis`, para seleccionar sobre qué eje queremos realizar el producto de los elementos"
      ]
    },
    {
      "cell_type": "code",
      "execution_count": null,
      "metadata": {
        "colab": {
          "base_uri": "https://localhost:8080/"
        },
        "id": "DXBtyoJIySU7",
        "outputId": "997112d1-ca05-49f2-ca0f-0d79aa063063"
      },
      "outputs": [
        {
          "name": "stdout",
          "output_type": "stream",
          "text": [
            "\n",
            "El producto acumulado de los elementos de b sobre el axis 0  es\n",
            "[[[   1    2]\n",
            "  [   3    4]\n",
            "  [   5    6]\n",
            "  [   7    8]]\n",
            "\n",
            " [[   2   -8]\n",
            "  [   9  -24]\n",
            "  [  20  -48]\n",
            "  [  35  -80]]\n",
            "\n",
            " [[  -2  -24]\n",
            "  [ -18  -96]\n",
            "  [-100 -336]\n",
            "  [-210 -640]]]\n",
            "\n",
            "El producto acumulado de los elementos de b sobre el axis 1  es\n",
            "[[[   1    2]\n",
            "  [   3    8]\n",
            "  [  15   48]\n",
            "  [ 105  384]]\n",
            "\n",
            " [[   2   -4]\n",
            "  [   6   24]\n",
            "  [  24 -192]\n",
            "  [ 120 1920]]\n",
            "\n",
            " [[  -1    3]\n",
            "  [   2   12]\n",
            "  [ -10   84]\n",
            "  [  60  672]]]\n",
            "\n",
            "El producto acumulado de los elementos de b sobre el axis 2  es\n",
            "[[[  1   2]\n",
            "  [  3  12]\n",
            "  [  5  30]\n",
            "  [  7  56]]\n",
            "\n",
            " [[  2  -8]\n",
            "  [  3 -18]\n",
            "  [  4 -32]\n",
            "  [  5 -50]]\n",
            "\n",
            " [[ -1  -3]\n",
            "  [ -2  -8]\n",
            "  [ -5 -35]\n",
            "  [ -6 -48]]]\n",
            "\n",
            "El producto acumulado de todos los elementos de b es [              1               2               6              24\n",
            "             120             720            5040           40320\n",
            "           80640         -322560         -967680         5806080\n",
            "        23224320      -185794560      -928972800      9289728000\n",
            "     -9289728000    -27869184000     55738368000    222953472000\n",
            "  -1114767360000  -7803371520000  46820229120000 374561832960000]\n"
          ]
        }
      ],
      "source": [
        "b = np.array([[[1, 2], [3, 4], [5, 6], [7, 8]],\n",
        "              [[2, -4], [3, -6], [4, -8], [5, -10]],\n",
        "              [[-1, 3], [-2, 4], [-5, 7], [-6, 8]]])\n",
        "\n",
        "for i in range(b.ndim):\n",
        "  print(\"\\nEl producto acumulado de los elementos de b sobre el axis {}  es\\n{}\".format(i, np.cumprod(b, axis = i)))\n",
        "\n",
        "print(\"\\nEl producto acumulado de todos los elementos de b es\", np.cumprod(b))"
      ]
    },
    {
      "cell_type": "markdown",
      "metadata": {
        "id": "KdGK-yMUyd0W"
      },
      "source": [
        "#### Logaritmos\n",
        "\n",
        "Podemos calcular el logaritmo neperiano de todos los elementos de un array con el método `.log()`"
      ]
    },
    {
      "cell_type": "code",
      "execution_count": null,
      "metadata": {
        "colab": {
          "base_uri": "https://localhost:8080/"
        },
        "id": "zLj-NZExyW1j",
        "outputId": "1d5b59f3-bfdc-453b-dac7-e10e118ad455"
      },
      "outputs": [
        {
          "name": "stdout",
          "output_type": "stream",
          "text": [
            "[1.60943791 2.48490665 3.52636052 1.94591015 4.00733319]\n"
          ]
        }
      ],
      "source": [
        "a = np.array([5, 12, 34, 7, 55])\n",
        "print(np.log(a))"
      ]
    },
    {
      "cell_type": "markdown",
      "metadata": {
        "id": "ZWbqsRK4y0U4"
      },
      "source": [
        "`numpy` no ofrece ningún método que calcule logartimos en cualquier otra base que no sea `e`. Por eso, la creamos nosotros a partir del método `math.log()`"
      ]
    },
    {
      "cell_type": "code",
      "execution_count": null,
      "metadata": {
        "colab": {
          "base_uri": "https://localhost:8080/"
        },
        "id": "0VUsgjEeyuvA",
        "outputId": "7e83e835-ec18-47b4-dfd3-476278a53b92"
      },
      "outputs": [
        {
          "name": "stdout",
          "output_type": "stream",
          "text": [
            "[2.0 2.9999999999999996 1.6989700043360185 2.6989700043360183]\n"
          ]
        }
      ],
      "source": [
        "from math import log\n",
        "\n",
        "nplog = np.frompyfunc(log, 2, 1)\n",
        "print(nplog(np.array([100, 1000, 50, 500]), 10))"
      ]
    },
    {
      "cell_type": "markdown",
      "metadata": {
        "id": "u23Pa-FUzcs5"
      },
      "source": [
        "#### MCM y MCD\n",
        "\n",
        "Podemos calcular el Mínimo Común Múltiplo de los elementos de un array con el método `.lcm.reduce()`"
      ]
    },
    {
      "cell_type": "code",
      "execution_count": null,
      "metadata": {
        "colab": {
          "base_uri": "https://localhost:8080/"
        },
        "id": "ltJpkd54zRAJ",
        "outputId": "a756d3f1-521f-49d1-bff9-8c9468f484a5"
      },
      "outputs": [
        {
          "data": {
            "text/plain": [
              "60"
            ]
          },
          "execution_count": 101,
          "metadata": {
            "tags": []
          },
          "output_type": "execute_result"
        }
      ],
      "source": [
        "a = np.array([2, 3, 5, 12])\n",
        "np.lcm.reduce(a)"
      ]
    },
    {
      "cell_type": "markdown",
      "metadata": {
        "id": "oSwX7URr0M-X"
      },
      "source": [
        "Podemos calcular el Máximo Común Divisor de los elementos de un array con el método `.gcd.reduce()`"
      ]
    },
    {
      "cell_type": "code",
      "execution_count": null,
      "metadata": {
        "colab": {
          "base_uri": "https://localhost:8080/"
        },
        "id": "wPyfNSg1zyOp",
        "outputId": "7f9aef53-6341-444b-bc94-a546d424bf3d"
      },
      "outputs": [
        {
          "data": {
            "text/plain": [
              "3"
            ]
          },
          "execution_count": 102,
          "metadata": {
            "tags": []
          },
          "output_type": "execute_result"
        }
      ],
      "source": [
        "b = np.array([15, 12, 27])\n",
        "np.gcd.reduce(b)"
      ]
    }
  ],
  "metadata": {
    "colab": {
      "provenance": [],
      "toc_visible": true
    },
    "kernelspec": {
      "display_name": "Python 3",
      "name": "python3"
    },
    "language_info": {
      "codemirror_mode": {
        "name": "ipython",
        "version": 3
      },
      "file_extension": ".py",
      "mimetype": "text/x-python",
      "name": "python",
      "nbconvert_exporter": "python",
      "pygments_lexer": "ipython3",
      "version": "3.12.4"
    }
  },
  "nbformat": 4,
  "nbformat_minor": 0
}
