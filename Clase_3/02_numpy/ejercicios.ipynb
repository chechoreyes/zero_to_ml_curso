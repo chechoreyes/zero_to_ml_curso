{
 "cells": [
  {
   "cell_type": "markdown",
   "metadata": {},
   "source": [
    "# Ejercicios Numpy"
   ]
  },
  {
   "cell_type": "code",
   "execution_count": null,
   "metadata": {},
   "outputs": [],
   "source": [
    "# 0. Importe la libreria numpy"
   ]
  },
  {
   "cell_type": "code",
   "execution_count": null,
   "metadata": {},
   "outputs": [],
   "source": [
    "# 1. \n",
    "\n",
    "# Array unidimensional\n",
    "array_1d = np.array()\n",
    "print(\"Array unidimensional:\")\n",
    "print(array_1d)\n",
    "\n",
    "# Array bidimensional\n",
    "array_2d = np.array()\n",
    "print(\"\\nArray bidimensional:\")\n",
    "print(array_2d)"
   ]
  }
 ],
 "metadata": {
  "language_info": {
   "name": "python"
  }
 },
 "nbformat": 4,
 "nbformat_minor": 2
}
