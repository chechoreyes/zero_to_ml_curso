{
 "cells": [
  {
   "cell_type": "markdown",
   "metadata": {},
   "source": [
    "# Ejercicios Numpy"
   ]
  },
  {
   "cell_type": "code",
   "execution_count": null,
   "metadata": {},
   "outputs": [],
   "source": [
    "# 0. Importe la libreria numpy\n",
    "import  as "
   ]
  },
  {
   "cell_type": "code",
   "execution_count": null,
   "metadata": {},
   "outputs": [],
   "source": [
    "# 1.Cree un array unidimensional y otro bidimensional\n",
    "\n",
    "# Array unidimensional\n",
    "array_1d = np.array()\n",
    "print(\"Array unidimensional:\")\n",
    "print(array_1d)\n",
    "\n",
    "# Array bidimensional\n",
    "array_2d = np.array()\n",
    "print(\"\\nArray bidimensional:\")\n",
    "print(array_2d)"
   ]
  },
  {
   "cell_type": "code",
   "execution_count": null,
   "metadata": {},
   "outputs": [],
   "source": [
    "# 2.Crear un vector con valores dentro del rango 10 a 49\n",
    "a = np.arange()\n",
    "a"
   ]
  },
  {
   "cell_type": "code",
   "execution_count": null,
   "metadata": {},
   "outputs": [],
   "source": [
    "# 3.Crear una matriz 3x3 con valores de 0 a 8\n",
    "np.arange().reshape()"
   ]
  },
  {
   "cell_type": "code",
   "execution_count": null,
   "metadata": {},
   "outputs": [],
   "source": [
    "# 4. Crear una matriz identidad de 6x6\n",
    "np.(6)"
   ]
  },
  {
   "cell_type": "code",
   "execution_count": null,
   "metadata": {},
   "outputs": [],
   "source": [
    "# 5. Crear una matriz con valores al azar con forma 3x3x3\n",
    "r = np.random.random((3,3,3))\n",
    "r\n",
    "\n"
   ]
  },
  {
   "cell_type": "code",
   "execution_count": null,
   "metadata": {},
   "outputs": [],
   "source": [
    "# 6. Crear dos arreglos al azar A y B, verificar si son iguales\n",
    "a = \n",
    "b = \n",
    "\n",
    "a == b \n",
    "np.array_equal(a,b)"
   ]
  }
 ],
 "metadata": {
  "kernelspec": {
   "display_name": "base",
   "language": "python",
   "name": "python3"
  },
  "language_info": {
   "name": "python",
   "version": "3.12.4"
  }
 },
 "nbformat": 4,
 "nbformat_minor": 2
}
