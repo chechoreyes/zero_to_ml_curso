{
  "cells": [
    {
      "cell_type": "markdown",
      "metadata": {
        "id": "jRr0Ik-m0vG2"
      },
      "source": [
        "# Dataframes con el módulo `pandas`"
      ]
    },
    {
      "cell_type": "markdown",
      "metadata": {
        "id": "oRm92QuMzLgP"
      },
      "source": [
        "## Introducción\n",
        "\n",
        "**Dataframe.** Es una estructura bidimensional mutable de datos con los ejes etiquetados donde\n",
        "\n",
        "- cada fila representa una observación diferente\n",
        "- cada columna representa una variable diferente\n",
        "\n",
        "En `Python`, para definir un dataframe, en primer lugar necesitamos importar el módulo `pandas`."
      ]
    },
    {
      "cell_type": "code",
      "execution_count": null,
      "metadata": {},
      "outputs": [],
      "source": [
        "%pip install pandas"
      ]
    },
    {
      "cell_type": "code",
      "execution_count": 2,
      "metadata": {
        "id": "vkv8i5UWzObk"
      },
      "outputs": [],
      "source": [
        "import pandas as pd"
      ]
    },
    {
      "cell_type": "markdown",
      "metadata": {
        "id": "CzE9DYo1z7as"
      },
      "source": [
        "A continuación, si queremos un dataframe de 5 filas y 2 columnas, podemos hacerlo a partir de un diccionario, una lista de listas, una lista de diccionarios, etc.\n",
        "\n"
      ]
    },
    {
      "cell_type": "markdown",
      "metadata": {
        "id": "AvNvzjXMFvZj"
      },
      "source": [
        "---\n",
        "\n",
        "#### Ejemplo 1\n",
        "\n",
        "Vamos a crear un dataframe de 5 filas y 2 columnas a partir de un diccionario.\n",
        "\n",
        "Para ello, primero creamos un diccionario donde las claves serán los nombres de las columnas y los valores serán listas, con tantos elementos como número de filas queramos.\n",
        "\n",
        "Finalmente, convertimos ese diccionario a dataframe con la función `DataFrame()` de `pandas`:"
      ]
    },
    {
      "cell_type": "code",
      "execution_count": 8,
      "metadata": {
        "colab": {
          "base_uri": "https://localhost:8080/"
        },
        "id": "m_EKIBvn0VJY",
        "outputId": "0792d451-1cf2-485f-bb8c-2593db1ec78d"
      },
      "outputs": [
        {
          "name": "stdout",
          "output_type": "stream",
          "text": [
            "   x   y\n",
            "0  1   2\n",
            "1  2   4\n",
            "2  3   6\n",
            "3  4   8\n",
            "4  5  10\n"
          ]
        }
      ],
      "source": [
        "data = {\"x\": [1, 2, 3, 4, 5], \"y\": [2, 4, 6, 8, 10]}\n",
        "df1 = pd.DataFrame(data = data)\n",
        "print(df1)"
      ]
    },
    {
      "cell_type": "code",
      "execution_count": 4,
      "metadata": {},
      "outputs": [
        {
          "data": {
            "text/html": [
              "<div>\n",
              "<style scoped>\n",
              "    .dataframe tbody tr th:only-of-type {\n",
              "        vertical-align: middle;\n",
              "    }\n",
              "\n",
              "    .dataframe tbody tr th {\n",
              "        vertical-align: top;\n",
              "    }\n",
              "\n",
              "    .dataframe thead th {\n",
              "        text-align: right;\n",
              "    }\n",
              "</style>\n",
              "<table border=\"1\" class=\"dataframe\">\n",
              "  <thead>\n",
              "    <tr style=\"text-align: right;\">\n",
              "      <th></th>\n",
              "      <th>x</th>\n",
              "      <th>y</th>\n",
              "    </tr>\n",
              "  </thead>\n",
              "  <tbody>\n",
              "    <tr>\n",
              "      <th>0</th>\n",
              "      <td>1</td>\n",
              "      <td>2</td>\n",
              "    </tr>\n",
              "    <tr>\n",
              "      <th>1</th>\n",
              "      <td>2</td>\n",
              "      <td>4</td>\n",
              "    </tr>\n",
              "    <tr>\n",
              "      <th>2</th>\n",
              "      <td>3</td>\n",
              "      <td>6</td>\n",
              "    </tr>\n",
              "    <tr>\n",
              "      <th>3</th>\n",
              "      <td>4</td>\n",
              "      <td>8</td>\n",
              "    </tr>\n",
              "    <tr>\n",
              "      <th>4</th>\n",
              "      <td>5</td>\n",
              "      <td>10</td>\n",
              "    </tr>\n",
              "  </tbody>\n",
              "</table>\n",
              "</div>"
            ],
            "text/plain": [
              "   x   y\n",
              "0  1   2\n",
              "1  2   4\n",
              "2  3   6\n",
              "3  4   8\n",
              "4  5  10"
            ]
          },
          "execution_count": 4,
          "metadata": {},
          "output_type": "execute_result"
        }
      ],
      "source": [
        "df1"
      ]
    },
    {
      "cell_type": "markdown",
      "metadata": {
        "id": "vDgNHv-x0v_f"
      },
      "source": [
        "Como habíamos dicho, hemos creado un dataframe de 5 filas y dos columnas, llamadas `x` e `y` respectivamente.\n",
        "\n",
        "**Observación.** Como resultado del `print()`, no solamente hemos obtenido las 5 filas y 2 columnas, sino que hay una columna adicional de 5 números ordenados verticalmete del 0 al 4. Se trata simplemente del nombre de cada fila, que por defecto es el índice de cada fila. El 0 indica la primera fila; el 1, la segunda; y así, sucesivamente."
      ]
    },
    {
      "cell_type": "markdown",
      "metadata": {
        "id": "krL33ISC7E6X"
      },
      "source": [
        "---\n",
        "\n",
        "#### Ejemplo 2\n",
        "\n",
        "Vamos a crear el mismo dataframe de 5 filas y 2 columnas, pero esta vez a partir de una lista de listas.\n",
        "\n",
        "En este caso, podemos hacerlo directamente con la función `DataFrame()` de `pandas`, usando los parámetros `data` y `columns`"
      ]
    },
    {
      "cell_type": "code",
      "execution_count": 6,
      "metadata": {
        "colab": {
          "base_uri": "https://localhost:8080/"
        },
        "id": "ABwFzslm8SZz",
        "outputId": "026607cf-612b-422e-cbf7-0bec602144ed"
      },
      "outputs": [
        {
          "data": {
            "text/html": [
              "<div>\n",
              "<style scoped>\n",
              "    .dataframe tbody tr th:only-of-type {\n",
              "        vertical-align: middle;\n",
              "    }\n",
              "\n",
              "    .dataframe tbody tr th {\n",
              "        vertical-align: top;\n",
              "    }\n",
              "\n",
              "    .dataframe thead th {\n",
              "        text-align: right;\n",
              "    }\n",
              "</style>\n",
              "<table border=\"1\" class=\"dataframe\">\n",
              "  <thead>\n",
              "    <tr style=\"text-align: right;\">\n",
              "      <th></th>\n",
              "      <th>x</th>\n",
              "      <th>y</th>\n",
              "    </tr>\n",
              "  </thead>\n",
              "  <tbody>\n",
              "    <tr>\n",
              "      <th>0</th>\n",
              "      <td>1</td>\n",
              "      <td>2</td>\n",
              "    </tr>\n",
              "    <tr>\n",
              "      <th>1</th>\n",
              "      <td>2</td>\n",
              "      <td>4</td>\n",
              "    </tr>\n",
              "    <tr>\n",
              "      <th>2</th>\n",
              "      <td>3</td>\n",
              "      <td>6</td>\n",
              "    </tr>\n",
              "    <tr>\n",
              "      <th>3</th>\n",
              "      <td>4</td>\n",
              "      <td>8</td>\n",
              "    </tr>\n",
              "    <tr>\n",
              "      <th>4</th>\n",
              "      <td>5</td>\n",
              "      <td>10</td>\n",
              "    </tr>\n",
              "  </tbody>\n",
              "</table>\n",
              "</div>"
            ],
            "text/plain": [
              "   x   y\n",
              "0  1   2\n",
              "1  2   4\n",
              "2  3   6\n",
              "3  4   8\n",
              "4  5  10"
            ]
          },
          "execution_count": 6,
          "metadata": {},
          "output_type": "execute_result"
        }
      ],
      "source": [
        "df2 = pd.DataFrame(data = [[1, 2], [2, 4], [3, 6], [4, 8], [5, 10]],\n",
        "                   columns = [\"x\", \"y\"])\n",
        "df2"
      ]
    },
    {
      "cell_type": "markdown",
      "metadata": {
        "id": "Yeh47W6X88em"
      },
      "source": [
        "Al parámetro `data` le hemos proporcionado una lista de 5 listas, donde cada una de las sublistas tiene 2 elementos: el perteneciente a la primera columna en la posición 0, y el perteneciente a la segunda columna en la posición 1.\n",
        "\n",
        "Al parámetro `columns` le hemos proporcionado el nombre de las 2 columnas.\n",
        "\n"
      ]
    },
    {
      "cell_type": "markdown",
      "metadata": {
        "id": "HybHvVmgFyqR"
      },
      "source": [
        "---\n",
        "\n",
        "#### Ejemplo 3\n",
        "\n",
        "Vamos a crear el mismo dataframe de 5 filas y 2 columnas, con la diferencia de que vamos a modificar el nombre de las filas.\n",
        "\n",
        "Lo haremos a partir del diccionario `data` y utilizaremos el parámetro `index` de la función `DataFrame()` de `pandas`"
      ]
    },
    {
      "cell_type": "code",
      "execution_count": 9,
      "metadata": {
        "colab": {
          "base_uri": "https://localhost:8080/"
        },
        "id": "I3oxHYOYGlrp",
        "outputId": "9b50acb3-e41a-41af-ea76-0a9b35f748df"
      },
      "outputs": [
        {
          "name": "stdout",
          "output_type": "stream",
          "text": [
            "      x   y\n",
            "obs1  1   2\n",
            "obs2  2   4\n",
            "obs3  3   6\n",
            "obs4  4   8\n",
            "obs5  5  10\n"
          ]
        }
      ],
      "source": [
        "df3 = pd.DataFrame(data = data, index = [\"obs1\", \"obs2\", \"obs3\", \"obs4\", \"obs5\"])\n",
        "print(df3)"
      ]
    },
    {
      "cell_type": "markdown",
      "metadata": {
        "id": "d9xyInznHI1z"
      },
      "source": [
        "En este caso, al parámetro `index` le hemos pasado una lista con 5 strings.\n",
        "\n",
        "**¡Cuidado!.** Al construir un dataframe a partir de un diccionario (o cualquier objeto de `Python` que contenga algún diccionario), los nombres de las columnas son las claves del diccionario. Si quisiésemos cambiarlos con el parámetro `columns` directamente, nos pasaría lo siguiente:"
      ]
    },
    {
      "cell_type": "code",
      "execution_count": 12,
      "metadata": {
        "colab": {
          "base_uri": "https://localhost:8080/"
        },
        "id": "6R5KdedOhKl7",
        "outputId": "59205ac8-e56b-4755-96a3-0f447c3c1378"
      },
      "outputs": [
        {
          "name": "stdout",
          "output_type": "stream",
          "text": [
            "   a  b    c\n",
            "0  1  4  NaN\n",
            "1  2  5  NaN\n",
            "2  3  6  NaN\n"
          ]
        }
      ],
      "source": [
        "d = {\"a\": [1, 2, 3],\n",
        "     \"b\": [4, 5, 6],\n",
        "     \"b1\": [7, 8, 9]}\n",
        "\n",
        "df = pd.DataFrame(d, columns = [\"a\", \"b\", \"c\"])\n",
        "print(df)"
      ]
    },
    {
      "cell_type": "markdown",
      "metadata": {
        "id": "lVjW7VwvdK74"
      },
      "source": [
        "**Observación.** Si queremos crear un dataframe a partir de un diccionario, pero queremos menos columnas que total de claves tiene el diccionario, no hay problema, siempre y cuando los nombres de las columnas indicados coincidan con las claves del diccionario"
      ]
    },
    {
      "cell_type": "code",
      "execution_count": null,
      "metadata": {
        "colab": {
          "base_uri": "https://localhost:8080/"
        },
        "id": "Dn3BDqaydb49",
        "outputId": "69664a42-489b-4404-a42c-866f9aea8682"
      },
      "outputs": [],
      "source": [
        "# Construimos un dataframe solo con las columnas a y b del diccionario d\n",
        "df = pd.DataFrame(d, columns = [\"a\", \"b\"])\n",
        "print(df)"
      ]
    },
    {
      "cell_type": "markdown",
      "metadata": {
        "id": "GJQ0IW1IHlnY"
      },
      "source": [
        "---\n",
        "\n",
        "#### Ejemplo 4\n",
        "\n",
        "Vamos a crear el mismo dataframe de 5 filas y 2 columnas, esta vez a partir de una lista de diccionarios."
      ]
    },
    {
      "cell_type": "code",
      "execution_count": null,
      "metadata": {
        "colab": {
          "base_uri": "https://localhost:8080/"
        },
        "id": "ysI7SD72HrtT",
        "outputId": "90cd3f01-c62a-4f8a-ba5c-d8469f84aff3"
      },
      "outputs": [],
      "source": [
        "data = [{\"x\": 1, \"y\": 2},\n",
        "        {\"x\": 2, \"y\": 4},\n",
        "        {\"x\": 3, \"y\": 6},\n",
        "        {\"x\": 4, \"y\": 8},\n",
        "        {\"x\": 5, \"y\": 10}]\n",
        "df4 = pd.DataFrame(data = data)\n",
        "print(df4)"
      ]
    },
    {
      "cell_type": "markdown",
      "metadata": {
        "id": "NTFXFO9rJAX9"
      },
      "source": [
        "---\n",
        "\n",
        "#### Ejemplo 5\n",
        "\n",
        "Incluso podemos crear un dataframe haciendo uso de la función `zip()`.\n",
        "\n",
        "Para ello, a partir de dos listas, creamos una lista de tuplas, que es la que proporcionamos al parámetro `data` de la función `DataFrame()` para construir el dataframe."
      ]
    },
    {
      "cell_type": "code",
      "execution_count": 15,
      "metadata": {
        "colab": {
          "base_uri": "https://localhost:8080/"
        },
        "id": "jL_afP7TJRC9",
        "outputId": "3a3e25b9-3b59-480b-b0ee-c82e3c8351e1"
      },
      "outputs": [
        {
          "name": "stdout",
          "output_type": "stream",
          "text": [
            "[(1, 2), (2, 4), (3, 6), (4, 8), (5, 10)]\n"
          ]
        }
      ],
      "source": [
        "x = [1, 2, 3, 4, 5]\n",
        "y = [2, 4, 6, 8, 10]\n",
        "\n",
        "data = list(zip(x, y))\n",
        "print(data)"
      ]
    },
    {
      "cell_type": "code",
      "execution_count": 17,
      "metadata": {
        "colab": {
          "base_uri": "https://localhost:8080/"
        },
        "id": "91QYVOZka3mH",
        "outputId": "4a21852f-8d3e-441e-e725-37b3554453bb"
      },
      "outputs": [
        {
          "data": {
            "text/html": [
              "<div>\n",
              "<style scoped>\n",
              "    .dataframe tbody tr th:only-of-type {\n",
              "        vertical-align: middle;\n",
              "    }\n",
              "\n",
              "    .dataframe tbody tr th {\n",
              "        vertical-align: top;\n",
              "    }\n",
              "\n",
              "    .dataframe thead th {\n",
              "        text-align: right;\n",
              "    }\n",
              "</style>\n",
              "<table border=\"1\" class=\"dataframe\">\n",
              "  <thead>\n",
              "    <tr style=\"text-align: right;\">\n",
              "      <th></th>\n",
              "      <th>x</th>\n",
              "      <th>y</th>\n",
              "    </tr>\n",
              "  </thead>\n",
              "  <tbody>\n",
              "    <tr>\n",
              "      <th>0</th>\n",
              "      <td>1</td>\n",
              "      <td>2</td>\n",
              "    </tr>\n",
              "    <tr>\n",
              "      <th>1</th>\n",
              "      <td>2</td>\n",
              "      <td>4</td>\n",
              "    </tr>\n",
              "    <tr>\n",
              "      <th>2</th>\n",
              "      <td>3</td>\n",
              "      <td>6</td>\n",
              "    </tr>\n",
              "    <tr>\n",
              "      <th>3</th>\n",
              "      <td>4</td>\n",
              "      <td>8</td>\n",
              "    </tr>\n",
              "    <tr>\n",
              "      <th>4</th>\n",
              "      <td>5</td>\n",
              "      <td>10</td>\n",
              "    </tr>\n",
              "  </tbody>\n",
              "</table>\n",
              "</div>"
            ],
            "text/plain": [
              "   x   y\n",
              "0  1   2\n",
              "1  2   4\n",
              "2  3   6\n",
              "3  4   8\n",
              "4  5  10"
            ]
          },
          "execution_count": 17,
          "metadata": {},
          "output_type": "execute_result"
        }
      ],
      "source": [
        "df5 = pd.DataFrame(data, columns = [\"x\", \"y\"])\n",
        "df5"
      ]
    },
    {
      "cell_type": "markdown",
      "metadata": {
        "id": "QamdL4IdbiKe"
      },
      "source": [
        "---\n",
        "\n",
        "### Creando dataframes con `.from_dict()`\n",
        "\n",
        "Para construir dataframes a partir de un diccionario, existe el método `.from_dict()`\n",
        "\n"
      ]
    },
    {
      "cell_type": "code",
      "execution_count": null,
      "metadata": {
        "colab": {
          "base_uri": "https://localhost:8080/"
        },
        "id": "tu2DZI3Oes1T",
        "outputId": "cf69c355-0e80-43c2-ef49-4d11a9a6b1cc"
      },
      "outputs": [],
      "source": [
        "d = {\"a\": [1, 2, 3],\n",
        "     \"b\": [4, 5, 6],\n",
        "     \"b1\": [7, 8, 9]}\n",
        "\n",
        "df = pd.DataFrame.from_dict(d)\n",
        "print(df)"
      ]
    },
    {
      "cell_type": "markdown",
      "metadata": {
        "id": "oYMvrpFYewHo"
      },
      "source": [
        "Lo interesante de este método es que podemos crear un dataframe a partir de un diccionario donde cada clave represente una fila (observación) diferente, gracias al parámetro `orient`"
      ]
    },
    {
      "cell_type": "code",
      "execution_count": 18,
      "metadata": {
        "colab": {
          "base_uri": "https://localhost:8080/"
        },
        "id": "GU19b_zVe1pH",
        "outputId": "42d23a11-95f9-433c-871c-4b4ef3920654"
      },
      "outputs": [
        {
          "name": "stdout",
          "output_type": "stream",
          "text": [
            "       A  B  C\n",
            "fila1  1  4  7\n",
            "fila2  2  5  8\n",
            "fila3  3  6  9\n"
          ]
        }
      ],
      "source": [
        "d = {\"fila1\": [1, 4, 7],\n",
        "     \"fila2\": [2, 5, 8],\n",
        "     \"fila3\": [3, 6, 9]}\n",
        "\n",
        "df = pd.DataFrame.from_dict(d, orient = \"index\", columns = [\"A\", \"B\", \"C\"])\n",
        "print(df)"
      ]
    },
    {
      "cell_type": "markdown",
      "metadata": {
        "id": "YO01wR1kf5KR"
      },
      "source": [
        "**¡Cuidado!** Para poder usar el parámetro `columns` del método `.from_dict()`, necesitamos que el parámetro `orient` valga `\"index\"`.\n",
        "\n",
        "**Observación.** Si no indicásemos el parámetro `orient`, por defecto vale `\"columns\"`, con lo cual el diccionario suministrado a `data` sería interpretado del siguiente modo: cada clave representaría una columna diferente, tal cual ocurría cuando no usábamos el método `.from_dict()`. Si por el contrario indicamos que `orient = \"index\"`, lo que estamos haciendo es decirle a `Python` que cada clave del diccionario representa una fila (observación) diferente."
      ]
    },
    {
      "cell_type": "markdown",
      "metadata": {
        "id": "3xiB1bfy7D9S"
      },
      "source": [
        "### Dimensiones del dataframe\n",
        "\n",
        "Con el método `.shape` podemos calcular las dimensiones (número de filas y columnas) del dataframe."
      ]
    },
    {
      "cell_type": "code",
      "execution_count": 19,
      "metadata": {
        "colab": {
          "base_uri": "https://localhost:8080/"
        },
        "id": "bwhQk0cg0tcc",
        "outputId": "cd9fc467-f954-4d29-c906-bb3ae2307d14"
      },
      "outputs": [
        {
          "data": {
            "text/plain": [
              "(3, 3)"
            ]
          },
          "execution_count": 19,
          "metadata": {},
          "output_type": "execute_result"
        }
      ],
      "source": [
        "df.shape"
      ]
    },
    {
      "cell_type": "markdown",
      "metadata": {
        "id": "pFVM6qtl5Kny"
      },
      "source": [
        "Como resultado obtenemos una tupla donde el primer elemento es el número de filas, que en nuestro caso es 5, mientras que el segundo elemento es el número de columnas, que en nuestro ejemplo era 2."
      ]
    },
    {
      "cell_type": "code",
      "execution_count": 20,
      "metadata": {
        "colab": {
          "base_uri": "https://localhost:8080/"
        },
        "id": "XhPq7Rhh5Fa0",
        "outputId": "a2e47c42-8222-45de-a8d4-f36f49798e7c"
      },
      "outputs": [
        {
          "name": "stdout",
          "output_type": "stream",
          "text": [
            "El número de filas de df es 3\n",
            "El número de columnas de df es 3\n"
          ]
        }
      ],
      "source": [
        "nrows = df.shape[0]\n",
        "ncols = df.shape[1]\n",
        "print(\"El número de filas de df es\", nrows)\n",
        "print(\"El número de columnas de df es\", ncols)"
      ]
    },
    {
      "cell_type": "markdown",
      "metadata": {
        "id": "0f6xlsMwoRI7"
      },
      "source": [
        "Con el método `.size` calculamos el número total de valores que tienes el dataframe (número de filas por número de columnas)"
      ]
    },
    {
      "cell_type": "code",
      "execution_count": 21,
      "metadata": {
        "colab": {
          "base_uri": "https://localhost:8080/"
        },
        "id": "rRU9BaF3oXWt",
        "outputId": "6bfa7267-dd26-4760-80a5-a5f6edafdb9c"
      },
      "outputs": [
        {
          "data": {
            "text/plain": [
              "9"
            ]
          },
          "execution_count": 21,
          "metadata": {},
          "output_type": "execute_result"
        }
      ],
      "source": [
        "df.size"
      ]
    },
    {
      "cell_type": "code",
      "execution_count": 23,
      "metadata": {
        "colab": {
          "base_uri": "https://localhost:8080/"
        },
        "id": "JYXYrdSbocIM",
        "outputId": "6fc9bdfc-502b-45ea-9709-46f5deb9f454"
      },
      "outputs": [
        {
          "data": {
            "text/plain": [
              "9"
            ]
          },
          "execution_count": 23,
          "metadata": {},
          "output_type": "execute_result"
        }
      ],
      "source": [
        "df.shape[0] * df.shape[1]"
      ]
    },
    {
      "cell_type": "markdown",
      "metadata": {
        "id": "qkBbRgoboq1H"
      },
      "source": [
        "Finalmente, con el método `.ndim` calculamos el número de dimensiones que tiene el dataframe. Éste siempre valdrá 2, pues consta de filas y columnas."
      ]
    },
    {
      "cell_type": "code",
      "execution_count": 24,
      "metadata": {
        "colab": {
          "base_uri": "https://localhost:8080/"
        },
        "id": "fcHRVmduoz5f",
        "outputId": "cc47beeb-e21d-4bf3-bef0-12b0be05a9c3"
      },
      "outputs": [
        {
          "data": {
            "text/plain": [
              "2"
            ]
          },
          "execution_count": 24,
          "metadata": {},
          "output_type": "execute_result"
        }
      ],
      "source": [
        "df.ndim"
      ]
    },
    {
      "cell_type": "markdown",
      "metadata": {
        "id": "6DnwlUzv_A_W"
      },
      "source": [
        "## Subdataframes\n",
        "\n",
        "**Subdataframe.** Dado un dataframe, un subdataframe no es más que la selección de unas filas y columnas en particular.\n",
        "\n",
        "\n"
      ]
    },
    {
      "cell_type": "markdown",
      "metadata": {
        "id": "IpLxwABND5ck"
      },
      "source": [
        "### Columnas\n",
        "\n",
        "Dado un dataframe, podemos seleccionar una columna en particular de diversas formas:\n",
        "\n",
        "- Indicando el nombre de la columna entre claudators, `[]`\n",
        "- Con el método `.columns[]`\n",
        "- Con el método `.loc[]` (por nombre o etiqueta)\n",
        "- Con el método `.iloc[]` (por posición)"
      ]
    },
    {
      "cell_type": "code",
      "execution_count": 25,
      "metadata": {
        "id": "pAbva67f5l8x"
      },
      "outputs": [],
      "source": [
        "fdata = {\"Name\": [\"Alicia\", \"Bill\", \"Carlos\", \"Diana\"],\n",
        "        \"Age\": [22, 28, 19, 34],\n",
        "        \"Pet\": [True, False, False, True],\n",
        "        \"Height\": [157, 190, 175, 164],\n",
        "        \"Birthday\": [\"Mayo\", \"Junio\", \"Agosto\", \"Diciembre\"]}\n",
        "df = pd.DataFrame(data = fdata, index = [\"obs1\", \"obs2\", \"obs3\", \"obs4\"])"
      ]
    },
    {
      "cell_type": "code",
      "execution_count": 26,
      "metadata": {
        "colab": {
          "base_uri": "https://localhost:8080/",
          "height": 173
        },
        "id": "JcS8AClbttzJ",
        "outputId": "b8ce28bd-4d3b-4f34-b6aa-780ceae2b3ff"
      },
      "outputs": [
        {
          "data": {
            "text/html": [
              "<div>\n",
              "<style scoped>\n",
              "    .dataframe tbody tr th:only-of-type {\n",
              "        vertical-align: middle;\n",
              "    }\n",
              "\n",
              "    .dataframe tbody tr th {\n",
              "        vertical-align: top;\n",
              "    }\n",
              "\n",
              "    .dataframe thead th {\n",
              "        text-align: right;\n",
              "    }\n",
              "</style>\n",
              "<table border=\"1\" class=\"dataframe\">\n",
              "  <thead>\n",
              "    <tr style=\"text-align: right;\">\n",
              "      <th></th>\n",
              "      <th>Name</th>\n",
              "      <th>Age</th>\n",
              "      <th>Pet</th>\n",
              "      <th>Height</th>\n",
              "      <th>Birthday</th>\n",
              "    </tr>\n",
              "  </thead>\n",
              "  <tbody>\n",
              "    <tr>\n",
              "      <th>obs1</th>\n",
              "      <td>Alicia</td>\n",
              "      <td>22</td>\n",
              "      <td>True</td>\n",
              "      <td>157</td>\n",
              "      <td>Mayo</td>\n",
              "    </tr>\n",
              "    <tr>\n",
              "      <th>obs2</th>\n",
              "      <td>Bill</td>\n",
              "      <td>28</td>\n",
              "      <td>False</td>\n",
              "      <td>190</td>\n",
              "      <td>Junio</td>\n",
              "    </tr>\n",
              "    <tr>\n",
              "      <th>obs3</th>\n",
              "      <td>Carlos</td>\n",
              "      <td>19</td>\n",
              "      <td>False</td>\n",
              "      <td>175</td>\n",
              "      <td>Agosto</td>\n",
              "    </tr>\n",
              "    <tr>\n",
              "      <th>obs4</th>\n",
              "      <td>Diana</td>\n",
              "      <td>34</td>\n",
              "      <td>True</td>\n",
              "      <td>164</td>\n",
              "      <td>Diciembre</td>\n",
              "    </tr>\n",
              "  </tbody>\n",
              "</table>\n",
              "</div>"
            ],
            "text/plain": [
              "        Name  Age    Pet  Height   Birthday\n",
              "obs1  Alicia   22   True     157       Mayo\n",
              "obs2    Bill   28  False     190      Junio\n",
              "obs3  Carlos   19  False     175     Agosto\n",
              "obs4   Diana   34   True     164  Diciembre"
            ]
          },
          "execution_count": 26,
          "metadata": {},
          "output_type": "execute_result"
        }
      ],
      "source": [
        "df"
      ]
    },
    {
      "cell_type": "code",
      "execution_count": 27,
      "metadata": {},
      "outputs": [
        {
          "data": {
            "text/plain": [
              "(4, 5)"
            ]
          },
          "execution_count": 27,
          "metadata": {},
          "output_type": "execute_result"
        }
      ],
      "source": [
        "df.shape"
      ]
    },
    {
      "cell_type": "code",
      "execution_count": 28,
      "metadata": {
        "colab": {
          "base_uri": "https://localhost:8080/"
        },
        "id": "Qr9shpSqBnwl",
        "outputId": "ffe81104-9a59-4807-d2ec-88e6e713b8c3"
      },
      "outputs": [
        {
          "name": "stdout",
          "output_type": "stream",
          "text": [
            "obs1         Mayo\n",
            "obs2        Junio\n",
            "obs3       Agosto\n",
            "obs4    Diciembre\n",
            "Name: Birthday, dtype: object\n"
          ]
        }
      ],
      "source": [
        "# Seleccionamos la columna Birthday por nombre\n",
        "print(df[\"Birthday\"])"
      ]
    },
    {
      "cell_type": "code",
      "execution_count": 29,
      "metadata": {
        "colab": {
          "base_uri": "https://localhost:8080/"
        },
        "id": "V5MuhltaiUhI",
        "outputId": "e7d05db4-3eb0-4b84-f1ae-6c479b447250"
      },
      "outputs": [
        {
          "name": "stdout",
          "output_type": "stream",
          "text": [
            "obs1         Mayo\n",
            "obs2        Junio\n",
            "obs3       Agosto\n",
            "obs4    Diciembre\n",
            "Name: Birthday, dtype: object\n"
          ]
        }
      ],
      "source": [
        "# Seleccionamos la columna Birthday con el método .columns[]\n",
        "print(df[df.columns[4]])"
      ]
    },
    {
      "cell_type": "code",
      "execution_count": 32,
      "metadata": {
        "colab": {
          "base_uri": "https://localhost:8080/"
        },
        "id": "kdxXwOdhin38",
        "outputId": "e6b6fce2-22dd-43dc-c77b-8f6cfdd865f2"
      },
      "outputs": [
        {
          "name": "stdout",
          "output_type": "stream",
          "text": [
            "obs1         Mayo\n",
            "obs2        Junio\n",
            "obs3       Agosto\n",
            "obs4    Diciembre\n",
            "Name: Birthday, dtype: object\n"
          ]
        }
      ],
      "source": [
        "# Seleccionamos la columna Birthday con el método .loc[]\n",
        "print(df.loc[:, \"Birthday\"])"
      ]
    },
    {
      "cell_type": "markdown",
      "metadata": {
        "id": "kVE4Fzt6i0tc"
      },
      "source": [
        "**Observación.** Al método `.loc[]` le hemos indicado que tome todas las filas con `:` en la primera posición y la columna `\"Birthday\"` directamente indicando su nommbre en la segunda posición."
      ]
    },
    {
      "cell_type": "code",
      "execution_count": 33,
      "metadata": {
        "colab": {
          "base_uri": "https://localhost:8080/"
        },
        "id": "b_eJaoFTjcLe",
        "outputId": "5337c42f-e380-443d-8dc9-730c766477f3"
      },
      "outputs": [
        {
          "name": "stdout",
          "output_type": "stream",
          "text": [
            "obs1         Mayo\n",
            "obs2        Junio\n",
            "obs3       Agosto\n",
            "obs4    Diciembre\n",
            "Name: Birthday, dtype: object\n"
          ]
        }
      ],
      "source": [
        "# Seleccionamos la columna Birthday con el método .iloc[]\n",
        "print(df.iloc[:, 4])"
      ]
    },
    {
      "cell_type": "markdown",
      "metadata": {
        "id": "2zwhzm14juKv"
      },
      "source": [
        "**Observación.** Al método `.iloc[]` le hemos indicado que tome todas las filas con `:` en la primera posición y la columna `\"Birthday\"` indicando el índice que ocupa como columna."
      ]
    },
    {
      "cell_type": "markdown",
      "metadata": {
        "id": "W3lMDNFZCjJp"
      },
      "source": [
        "Si quisiésemos seleccionar más de una columna, podríamos hacerlo con todas las opciones enumeradas anteriormente, con ligeras modificaciones en algunos casos:"
      ]
    },
    {
      "cell_type": "code",
      "execution_count": 36,
      "metadata": {
        "colab": {
          "base_uri": "https://localhost:8080/"
        },
        "id": "-9TEHYAb__2L",
        "outputId": "99c9d6d6-f525-4281-b615-1a68ecaaa7b7"
      },
      "outputs": [
        {
          "data": {
            "text/html": [
              "<div>\n",
              "<style scoped>\n",
              "    .dataframe tbody tr th:only-of-type {\n",
              "        vertical-align: middle;\n",
              "    }\n",
              "\n",
              "    .dataframe tbody tr th {\n",
              "        vertical-align: top;\n",
              "    }\n",
              "\n",
              "    .dataframe thead th {\n",
              "        text-align: right;\n",
              "    }\n",
              "</style>\n",
              "<table border=\"1\" class=\"dataframe\">\n",
              "  <thead>\n",
              "    <tr style=\"text-align: right;\">\n",
              "      <th></th>\n",
              "      <th>Name</th>\n",
              "      <th>Age</th>\n",
              "      <th>Birthday</th>\n",
              "    </tr>\n",
              "  </thead>\n",
              "  <tbody>\n",
              "    <tr>\n",
              "      <th>obs1</th>\n",
              "      <td>Alicia</td>\n",
              "      <td>22</td>\n",
              "      <td>Mayo</td>\n",
              "    </tr>\n",
              "    <tr>\n",
              "      <th>obs2</th>\n",
              "      <td>Bill</td>\n",
              "      <td>28</td>\n",
              "      <td>Junio</td>\n",
              "    </tr>\n",
              "    <tr>\n",
              "      <th>obs3</th>\n",
              "      <td>Carlos</td>\n",
              "      <td>19</td>\n",
              "      <td>Agosto</td>\n",
              "    </tr>\n",
              "    <tr>\n",
              "      <th>obs4</th>\n",
              "      <td>Diana</td>\n",
              "      <td>34</td>\n",
              "      <td>Diciembre</td>\n",
              "    </tr>\n",
              "  </tbody>\n",
              "</table>\n",
              "</div>"
            ],
            "text/plain": [
              "        Name  Age   Birthday\n",
              "obs1  Alicia   22       Mayo\n",
              "obs2    Bill   28      Junio\n",
              "obs3  Carlos   19     Agosto\n",
              "obs4   Diana   34  Diciembre"
            ]
          },
          "execution_count": 36,
          "metadata": {},
          "output_type": "execute_result"
        }
      ],
      "source": [
        "# Seleccionamos las columnas Name y Age por nombre\n",
        "df[[\"Name\", \"Age\", \"Birthday\"]]"
      ]
    },
    {
      "cell_type": "code",
      "execution_count": 38,
      "metadata": {
        "colab": {
          "base_uri": "https://localhost:8080/"
        },
        "id": "ySYYe4Q1kq_c",
        "outputId": "726b24ab-cf13-4481-81f0-2434a68639a4"
      },
      "outputs": [
        {
          "name": "stdout",
          "output_type": "stream",
          "text": [
            "        Name  Age    Pet\n",
            "obs1  Alicia   22   True\n",
            "obs2    Bill   28  False\n",
            "obs3  Carlos   19  False\n",
            "obs4   Diana   34   True\n"
          ]
        }
      ],
      "source": [
        "# Seleccionamos las columnas Name y Age con el método .columns[]\n",
        "print(df[df.columns[[0, 1, 2]]])"
      ]
    },
    {
      "cell_type": "markdown",
      "metadata": {
        "id": "Cgh2YNKx8S86"
      },
      "source": [
        "**Observación.** Además, como estas dos columnas están seguidas en nuestro dataframe, podríamos también usar la sintaxis siguiente no solo en esta opción, sino también en el resto de opciones que hemos visto."
      ]
    },
    {
      "cell_type": "code",
      "execution_count": 40,
      "metadata": {
        "colab": {
          "base_uri": "https://localhost:8080/"
        },
        "id": "WyTEhpVD87UC",
        "outputId": "43644168-88b8-48bf-b402-e0155e20e6a6"
      },
      "outputs": [
        {
          "data": {
            "text/html": [
              "<div>\n",
              "<style scoped>\n",
              "    .dataframe tbody tr th:only-of-type {\n",
              "        vertical-align: middle;\n",
              "    }\n",
              "\n",
              "    .dataframe tbody tr th {\n",
              "        vertical-align: top;\n",
              "    }\n",
              "\n",
              "    .dataframe thead th {\n",
              "        text-align: right;\n",
              "    }\n",
              "</style>\n",
              "<table border=\"1\" class=\"dataframe\">\n",
              "  <thead>\n",
              "    <tr style=\"text-align: right;\">\n",
              "      <th></th>\n",
              "      <th>Name</th>\n",
              "      <th>Age</th>\n",
              "    </tr>\n",
              "  </thead>\n",
              "  <tbody>\n",
              "    <tr>\n",
              "      <th>obs1</th>\n",
              "      <td>Alicia</td>\n",
              "      <td>22</td>\n",
              "    </tr>\n",
              "    <tr>\n",
              "      <th>obs2</th>\n",
              "      <td>Bill</td>\n",
              "      <td>28</td>\n",
              "    </tr>\n",
              "    <tr>\n",
              "      <th>obs3</th>\n",
              "      <td>Carlos</td>\n",
              "      <td>19</td>\n",
              "    </tr>\n",
              "    <tr>\n",
              "      <th>obs4</th>\n",
              "      <td>Diana</td>\n",
              "      <td>34</td>\n",
              "    </tr>\n",
              "  </tbody>\n",
              "</table>\n",
              "</div>"
            ],
            "text/plain": [
              "        Name  Age\n",
              "obs1  Alicia   22\n",
              "obs2    Bill   28\n",
              "obs3  Carlos   19\n",
              "obs4   Diana   34"
            ]
          },
          "execution_count": 40,
          "metadata": {},
          "output_type": "execute_result"
        }
      ],
      "source": [
        "df[df.columns[0:2]]"
      ]
    },
    {
      "cell_type": "code",
      "execution_count": null,
      "metadata": {
        "colab": {
          "base_uri": "https://localhost:8080/"
        },
        "id": "HNgNTg3xk3Dm",
        "outputId": "183d23c6-bcdd-4d8a-e37f-8ce1ffe557c4"
      },
      "outputs": [],
      "source": [
        "# Seleccionamos las columnas Name y Age con el método .loc[]\n",
        "print(df.loc[:, [\"Name\", \"Age\"]])"
      ]
    },
    {
      "cell_type": "code",
      "execution_count": null,
      "metadata": {
        "colab": {
          "base_uri": "https://localhost:8080/"
        },
        "id": "avF57fxC9Eow",
        "outputId": "69b5a4b1-3d30-4924-a001-34d3327752c6"
      },
      "outputs": [],
      "source": [
        "print(df.loc[:, \"Name\":\"Age\"])"
      ]
    },
    {
      "cell_type": "markdown",
      "metadata": {
        "id": "WCb8qdq29Ro0"
      },
      "source": [
        "**¡Cuidado!** Como podemos ver, al usar `:` con strings, el indicado a la derecha sí que es incluido."
      ]
    },
    {
      "cell_type": "code",
      "execution_count": null,
      "metadata": {
        "colab": {
          "base_uri": "https://localhost:8080/"
        },
        "id": "GZVT0OVJk7oh",
        "outputId": "6f4b5ef9-2968-44d1-c6de-ee7c372f7b86"
      },
      "outputs": [],
      "source": [
        "# Seleccionamos las columnas Name y Age con el método .iloc[]\n",
        "print(df.iloc[:, [0, 1]])"
      ]
    },
    {
      "cell_type": "code",
      "execution_count": null,
      "metadata": {
        "colab": {
          "base_uri": "https://localhost:8080/"
        },
        "id": "PzzCldja9Lem",
        "outputId": "76d6c4ac-f350-4e7b-9858-3397a73f805d"
      },
      "outputs": [],
      "source": [
        "print(df.iloc[:, 0:2])"
      ]
    },
    {
      "cell_type": "markdown",
      "metadata": {
        "id": "pMs1hrzkAZDy"
      },
      "source": [
        "### Filas\n",
        "\n",
        "Dado un dataframe, podemos seleccionar una fila en particular de diversas formas:\n",
        "\n",
        "- Con el método `.loc[]` (por nombre o etiqueta)\n",
        "- Con el método `.iloc[]` (por posición)\n"
      ]
    },
    {
      "cell_type": "code",
      "execution_count": 41,
      "metadata": {},
      "outputs": [
        {
          "data": {
            "text/html": [
              "<div>\n",
              "<style scoped>\n",
              "    .dataframe tbody tr th:only-of-type {\n",
              "        vertical-align: middle;\n",
              "    }\n",
              "\n",
              "    .dataframe tbody tr th {\n",
              "        vertical-align: top;\n",
              "    }\n",
              "\n",
              "    .dataframe thead th {\n",
              "        text-align: right;\n",
              "    }\n",
              "</style>\n",
              "<table border=\"1\" class=\"dataframe\">\n",
              "  <thead>\n",
              "    <tr style=\"text-align: right;\">\n",
              "      <th></th>\n",
              "      <th>Name</th>\n",
              "      <th>Age</th>\n",
              "      <th>Pet</th>\n",
              "      <th>Height</th>\n",
              "      <th>Birthday</th>\n",
              "    </tr>\n",
              "  </thead>\n",
              "  <tbody>\n",
              "    <tr>\n",
              "      <th>obs1</th>\n",
              "      <td>Alicia</td>\n",
              "      <td>22</td>\n",
              "      <td>True</td>\n",
              "      <td>157</td>\n",
              "      <td>Mayo</td>\n",
              "    </tr>\n",
              "    <tr>\n",
              "      <th>obs2</th>\n",
              "      <td>Bill</td>\n",
              "      <td>28</td>\n",
              "      <td>False</td>\n",
              "      <td>190</td>\n",
              "      <td>Junio</td>\n",
              "    </tr>\n",
              "    <tr>\n",
              "      <th>obs3</th>\n",
              "      <td>Carlos</td>\n",
              "      <td>19</td>\n",
              "      <td>False</td>\n",
              "      <td>175</td>\n",
              "      <td>Agosto</td>\n",
              "    </tr>\n",
              "    <tr>\n",
              "      <th>obs4</th>\n",
              "      <td>Diana</td>\n",
              "      <td>34</td>\n",
              "      <td>True</td>\n",
              "      <td>164</td>\n",
              "      <td>Diciembre</td>\n",
              "    </tr>\n",
              "  </tbody>\n",
              "</table>\n",
              "</div>"
            ],
            "text/plain": [
              "        Name  Age    Pet  Height   Birthday\n",
              "obs1  Alicia   22   True     157       Mayo\n",
              "obs2    Bill   28  False     190      Junio\n",
              "obs3  Carlos   19  False     175     Agosto\n",
              "obs4   Diana   34   True     164  Diciembre"
            ]
          },
          "execution_count": 41,
          "metadata": {},
          "output_type": "execute_result"
        }
      ],
      "source": [
        "df"
      ]
    },
    {
      "cell_type": "code",
      "execution_count": 42,
      "metadata": {
        "colab": {
          "base_uri": "https://localhost:8080/"
        },
        "id": "fiF6cG_YANvS",
        "outputId": "03cffb7b-ce35-431f-b294-8c3def6bcad1"
      },
      "outputs": [
        {
          "name": "stdout",
          "output_type": "stream",
          "text": [
            "Name        Alicia\n",
            "Age             22\n",
            "Pet           True\n",
            "Height         157\n",
            "Birthday      Mayo\n",
            "Name: obs1, dtype: object\n"
          ]
        }
      ],
      "source": [
        "# Seleccionamos la primera observación (obs1) con el método .loc[]\n",
        "print(df.loc[\"obs1\"])"
      ]
    },
    {
      "cell_type": "code",
      "execution_count": 44,
      "metadata": {},
      "outputs": [
        {
          "data": {
            "text/plain": [
              "pandas.core.frame.DataFrame"
            ]
          },
          "execution_count": 44,
          "metadata": {},
          "output_type": "execute_result"
        }
      ],
      "source": [
        "type(df)"
      ]
    },
    {
      "cell_type": "code",
      "execution_count": 43,
      "metadata": {
        "colab": {
          "base_uri": "https://localhost:8080/"
        },
        "id": "y7bMo_h4zXUv",
        "outputId": "03ca39a1-19f9-46f6-cabb-5a7ace98772b"
      },
      "outputs": [
        {
          "data": {
            "text/plain": [
              "pandas.core.series.Series"
            ]
          },
          "execution_count": 43,
          "metadata": {},
          "output_type": "execute_result"
        }
      ],
      "source": [
        "type(df.loc[\"obs1\"])"
      ]
    },
    {
      "cell_type": "code",
      "execution_count": 45,
      "metadata": {
        "colab": {
          "base_uri": "https://localhost:8080/"
        },
        "id": "03TdxNIMCjSy",
        "outputId": "7901a303-a783-4827-a7be-532ba11a1941"
      },
      "outputs": [
        {
          "name": "stdout",
          "output_type": "stream",
          "text": [
            "Name            Diana\n",
            "Age                34\n",
            "Pet              True\n",
            "Height            164\n",
            "Birthday    Diciembre\n",
            "Name: obs4, dtype: object\n"
          ]
        }
      ],
      "source": [
        "# Seleccionamos la última observación con el método .iloc[]\n",
        "print(df.iloc[-1])"
      ]
    },
    {
      "cell_type": "markdown",
      "metadata": {
        "id": "V5r_-BGvDPON"
      },
      "source": [
        "Si quisiésemos seleccionar más de una fila, podríamos hacerlo con todas las opciones enumeradas anteriormente, con ligeras modificaciones en algunos casos:"
      ]
    },
    {
      "cell_type": "code",
      "execution_count": 46,
      "metadata": {
        "colab": {
          "base_uri": "https://localhost:8080/"
        },
        "id": "F1QV_QGOApNp",
        "outputId": "009b5e67-c3a3-4751-af41-16cdf3621fdf"
      },
      "outputs": [
        {
          "name": "stdout",
          "output_type": "stream",
          "text": [
            "        Name  Age    Pet  Height Birthday\n",
            "obs2    Bill   28  False     190    Junio\n",
            "obs3  Carlos   19  False     175   Agosto\n"
          ]
        }
      ],
      "source": [
        "# Seleccionamos la segunda y tercera observación con el método .loc[]\n",
        "print(df.loc[[\"obs2\",\"obs3\"]])"
      ]
    },
    {
      "cell_type": "markdown",
      "metadata": {
        "id": "YGkfAP8dGDm6"
      },
      "source": [
        "**Observación.** Además, como estas dos filas están seguidas en nuestro dataframe, podríamos también usar la sintaxis siguiente no solo en esta opción, sino también en el resto de opciones que hemos visto."
      ]
    },
    {
      "cell_type": "code",
      "execution_count": 47,
      "metadata": {
        "colab": {
          "base_uri": "https://localhost:8080/"
        },
        "id": "R5RuVXu0DJdv",
        "outputId": "3a679ae9-aacd-45d8-9dfe-c6bcd38c5428"
      },
      "outputs": [
        {
          "name": "stdout",
          "output_type": "stream",
          "text": [
            "        Name  Age    Pet  Height Birthday\n",
            "obs2    Bill   28  False     190    Junio\n",
            "obs3  Carlos   19  False     175   Agosto\n"
          ]
        }
      ],
      "source": [
        "print(df.loc[\"obs2\":\"obs3\"])"
      ]
    },
    {
      "cell_type": "code",
      "execution_count": null,
      "metadata": {
        "colab": {
          "base_uri": "https://localhost:8080/"
        },
        "id": "cO2e2wthGHih",
        "outputId": "6ed19c6a-fba4-4662-b21a-dadba4445a2f"
      },
      "outputs": [],
      "source": [
        "# Seleccionamos la segunda y tercera observación con el método .iloc[]\n",
        "print(df.iloc[[1, 2]])"
      ]
    },
    {
      "cell_type": "code",
      "execution_count": null,
      "metadata": {
        "colab": {
          "base_uri": "https://localhost:8080/"
        },
        "id": "kHYKLgPtGbZ0",
        "outputId": "d5212e14-c853-4998-f644-25611d9c152d"
      },
      "outputs": [],
      "source": [
        "print(df.iloc[1:3])"
      ]
    },
    {
      "cell_type": "markdown",
      "metadata": {
        "id": "WZUgKnO2GouS"
      },
      "source": [
        "### Filas y columnas\n",
        "\n",
        "Para seleccionar un elemento en concreto, hay que indicar la fila y la columna y lo podemos hacer de dos formas:\n",
        "\n",
        "- Con el método `.loc[]` (por nombre o etiqueta)\n",
        "- Con el método `.iloc[]` (por índice)"
      ]
    },
    {
      "cell_type": "code",
      "execution_count": 49,
      "metadata": {},
      "outputs": [
        {
          "data": {
            "text/html": [
              "<div>\n",
              "<style scoped>\n",
              "    .dataframe tbody tr th:only-of-type {\n",
              "        vertical-align: middle;\n",
              "    }\n",
              "\n",
              "    .dataframe tbody tr th {\n",
              "        vertical-align: top;\n",
              "    }\n",
              "\n",
              "    .dataframe thead th {\n",
              "        text-align: right;\n",
              "    }\n",
              "</style>\n",
              "<table border=\"1\" class=\"dataframe\">\n",
              "  <thead>\n",
              "    <tr style=\"text-align: right;\">\n",
              "      <th></th>\n",
              "      <th>Name</th>\n",
              "      <th>Age</th>\n",
              "      <th>Pet</th>\n",
              "      <th>Height</th>\n",
              "      <th>Birthday</th>\n",
              "    </tr>\n",
              "  </thead>\n",
              "  <tbody>\n",
              "    <tr>\n",
              "      <th>obs1</th>\n",
              "      <td>Alicia</td>\n",
              "      <td>22</td>\n",
              "      <td>True</td>\n",
              "      <td>157</td>\n",
              "      <td>Mayo</td>\n",
              "    </tr>\n",
              "    <tr>\n",
              "      <th>obs2</th>\n",
              "      <td>Bill</td>\n",
              "      <td>28</td>\n",
              "      <td>False</td>\n",
              "      <td>190</td>\n",
              "      <td>Junio</td>\n",
              "    </tr>\n",
              "    <tr>\n",
              "      <th>obs3</th>\n",
              "      <td>Carlos</td>\n",
              "      <td>19</td>\n",
              "      <td>False</td>\n",
              "      <td>175</td>\n",
              "      <td>Agosto</td>\n",
              "    </tr>\n",
              "    <tr>\n",
              "      <th>obs4</th>\n",
              "      <td>Diana</td>\n",
              "      <td>34</td>\n",
              "      <td>True</td>\n",
              "      <td>164</td>\n",
              "      <td>Diciembre</td>\n",
              "    </tr>\n",
              "  </tbody>\n",
              "</table>\n",
              "</div>"
            ],
            "text/plain": [
              "        Name  Age    Pet  Height   Birthday\n",
              "obs1  Alicia   22   True     157       Mayo\n",
              "obs2    Bill   28  False     190      Junio\n",
              "obs3  Carlos   19  False     175     Agosto\n",
              "obs4   Diana   34   True     164  Diciembre"
            ]
          },
          "execution_count": 49,
          "metadata": {},
          "output_type": "execute_result"
        }
      ],
      "source": [
        "df"
      ]
    },
    {
      "cell_type": "code",
      "execution_count": 48,
      "metadata": {
        "colab": {
          "base_uri": "https://localhost:8080/"
        },
        "id": "9fyuXkNqG7q1",
        "outputId": "f87e29a7-55f5-4f81-b23e-0641dea1776a"
      },
      "outputs": [
        {
          "name": "stdout",
          "output_type": "stream",
          "text": [
            "28\n"
          ]
        }
      ],
      "source": [
        "# Seleccionamos la edad de la segunda observación con el método .loc[]\n",
        "print(df.loc[\"obs2\", \"Age\"])"
      ]
    },
    {
      "cell_type": "code",
      "execution_count": 51,
      "metadata": {
        "colab": {
          "base_uri": "https://localhost:8080/"
        },
        "id": "ygBCSbl8HGXR",
        "outputId": "c95388a2-2563-4b43-e931-90f1cd5f03ba"
      },
      "outputs": [
        {
          "name": "stdout",
          "output_type": "stream",
          "text": [
            "190\n"
          ]
        }
      ],
      "source": [
        "# Seleccionamos la edad de la segunda observación con el método .iloc[]\n",
        "print(df.iloc[1, 3])"
      ]
    },
    {
      "cell_type": "markdown",
      "metadata": {
        "id": "H0r-SDLNHQEp"
      },
      "source": [
        "Si queremos seleccionar un subconjunto de filas y columnas, podemos utilizar los dos métodos anteriores"
      ]
    },
    {
      "cell_type": "code",
      "execution_count": 52,
      "metadata": {
        "colab": {
          "base_uri": "https://localhost:8080/"
        },
        "id": "XMhhTmUBHV7N",
        "outputId": "e9f9000d-6aff-4a08-c547-cceacc5d12b7"
      },
      "outputs": [
        {
          "name": "stdout",
          "output_type": "stream",
          "text": [
            "        Name Birthday\n",
            "obs2    Bill    Junio\n",
            "obs3  Carlos   Agosto\n"
          ]
        }
      ],
      "source": [
        "# Seleccionamos la segunda y tercera fila y las columnas nombre y cumpleaños\n",
        "# Con el método .loc[]\n",
        "print(df.loc[\"obs2\":\"obs3\", [\"Name\", \"Birthday\"]])"
      ]
    },
    {
      "cell_type": "code",
      "execution_count": 54,
      "metadata": {
        "colab": {
          "base_uri": "https://localhost:8080/"
        },
        "id": "BWnsPa3dHxYE",
        "outputId": "bec59956-a041-4669-99da-f563798b3d8a"
      },
      "outputs": [
        {
          "name": "stdout",
          "output_type": "stream",
          "text": [
            "        Name Birthday\n",
            "obs2    Bill    Junio\n",
            "obs3  Carlos   Agosto\n"
          ]
        }
      ],
      "source": [
        "# Con el método .iloc[]\n",
        "print(df.iloc[1:3, [0, 4]])"
      ]
    },
    {
      "cell_type": "code",
      "execution_count": 55,
      "metadata": {},
      "outputs": [
        {
          "data": {
            "text/html": [
              "<div>\n",
              "<style scoped>\n",
              "    .dataframe tbody tr th:only-of-type {\n",
              "        vertical-align: middle;\n",
              "    }\n",
              "\n",
              "    .dataframe tbody tr th {\n",
              "        vertical-align: top;\n",
              "    }\n",
              "\n",
              "    .dataframe thead th {\n",
              "        text-align: right;\n",
              "    }\n",
              "</style>\n",
              "<table border=\"1\" class=\"dataframe\">\n",
              "  <thead>\n",
              "    <tr style=\"text-align: right;\">\n",
              "      <th></th>\n",
              "      <th>Name</th>\n",
              "      <th>Age</th>\n",
              "      <th>Pet</th>\n",
              "      <th>Height</th>\n",
              "      <th>Birthday</th>\n",
              "    </tr>\n",
              "  </thead>\n",
              "  <tbody>\n",
              "    <tr>\n",
              "      <th>obs1</th>\n",
              "      <td>Alicia</td>\n",
              "      <td>22</td>\n",
              "      <td>True</td>\n",
              "      <td>157</td>\n",
              "      <td>Mayo</td>\n",
              "    </tr>\n",
              "    <tr>\n",
              "      <th>obs2</th>\n",
              "      <td>Bill</td>\n",
              "      <td>28</td>\n",
              "      <td>False</td>\n",
              "      <td>190</td>\n",
              "      <td>Junio</td>\n",
              "    </tr>\n",
              "    <tr>\n",
              "      <th>obs3</th>\n",
              "      <td>Carlos</td>\n",
              "      <td>19</td>\n",
              "      <td>False</td>\n",
              "      <td>175</td>\n",
              "      <td>Agosto</td>\n",
              "    </tr>\n",
              "    <tr>\n",
              "      <th>obs4</th>\n",
              "      <td>Diana</td>\n",
              "      <td>34</td>\n",
              "      <td>True</td>\n",
              "      <td>164</td>\n",
              "      <td>Diciembre</td>\n",
              "    </tr>\n",
              "  </tbody>\n",
              "</table>\n",
              "</div>"
            ],
            "text/plain": [
              "        Name  Age    Pet  Height   Birthday\n",
              "obs1  Alicia   22   True     157       Mayo\n",
              "obs2    Bill   28  False     190      Junio\n",
              "obs3  Carlos   19  False     175     Agosto\n",
              "obs4   Diana   34   True     164  Diciembre"
            ]
          },
          "execution_count": 55,
          "metadata": {},
          "output_type": "execute_result"
        }
      ],
      "source": [
        "df"
      ]
    },
    {
      "cell_type": "code",
      "execution_count": 56,
      "metadata": {},
      "outputs": [
        {
          "data": {
            "text/html": [
              "<div>\n",
              "<style scoped>\n",
              "    .dataframe tbody tr th:only-of-type {\n",
              "        vertical-align: middle;\n",
              "    }\n",
              "\n",
              "    .dataframe tbody tr th {\n",
              "        vertical-align: top;\n",
              "    }\n",
              "\n",
              "    .dataframe thead th {\n",
              "        text-align: right;\n",
              "    }\n",
              "</style>\n",
              "<table border=\"1\" class=\"dataframe\">\n",
              "  <thead>\n",
              "    <tr style=\"text-align: right;\">\n",
              "      <th></th>\n",
              "      <th>Pet</th>\n",
              "      <th>Height</th>\n",
              "      <th>Birthday</th>\n",
              "    </tr>\n",
              "  </thead>\n",
              "  <tbody>\n",
              "    <tr>\n",
              "      <th>obs3</th>\n",
              "      <td>False</td>\n",
              "      <td>175</td>\n",
              "      <td>Agosto</td>\n",
              "    </tr>\n",
              "    <tr>\n",
              "      <th>obs4</th>\n",
              "      <td>True</td>\n",
              "      <td>164</td>\n",
              "      <td>Diciembre</td>\n",
              "    </tr>\n",
              "  </tbody>\n",
              "</table>\n",
              "</div>"
            ],
            "text/plain": [
              "        Pet  Height   Birthday\n",
              "obs3  False     175     Agosto\n",
              "obs4   True     164  Diciembre"
            ]
          },
          "execution_count": 56,
          "metadata": {},
          "output_type": "execute_result"
        }
      ],
      "source": [
        "# Filas indices 2 y 3\n",
        "# Columnas indices 2 a la 4\n",
        "\n",
        "df.loc[\"obs3\":\"obs4\",[\"Pet\", \"Height\", \"Birthday\"]]"
      ]
    },
    {
      "cell_type": "code",
      "execution_count": 58,
      "metadata": {},
      "outputs": [
        {
          "data": {
            "text/html": [
              "<div>\n",
              "<style scoped>\n",
              "    .dataframe tbody tr th:only-of-type {\n",
              "        vertical-align: middle;\n",
              "    }\n",
              "\n",
              "    .dataframe tbody tr th {\n",
              "        vertical-align: top;\n",
              "    }\n",
              "\n",
              "    .dataframe thead th {\n",
              "        text-align: right;\n",
              "    }\n",
              "</style>\n",
              "<table border=\"1\" class=\"dataframe\">\n",
              "  <thead>\n",
              "    <tr style=\"text-align: right;\">\n",
              "      <th></th>\n",
              "      <th>Pet</th>\n",
              "      <th>Height</th>\n",
              "      <th>Birthday</th>\n",
              "    </tr>\n",
              "  </thead>\n",
              "  <tbody>\n",
              "    <tr>\n",
              "      <th>obs3</th>\n",
              "      <td>False</td>\n",
              "      <td>175</td>\n",
              "      <td>Agosto</td>\n",
              "    </tr>\n",
              "    <tr>\n",
              "      <th>obs4</th>\n",
              "      <td>True</td>\n",
              "      <td>164</td>\n",
              "      <td>Diciembre</td>\n",
              "    </tr>\n",
              "  </tbody>\n",
              "</table>\n",
              "</div>"
            ],
            "text/plain": [
              "        Pet  Height   Birthday\n",
              "obs3  False     175     Agosto\n",
              "obs4   True     164  Diciembre"
            ]
          },
          "execution_count": 58,
          "metadata": {},
          "output_type": "execute_result"
        }
      ],
      "source": [
        "df.iloc[2:4, 2:5]"
      ]
    },
    {
      "cell_type": "markdown",
      "metadata": {
        "id": "TTihV0RoiDGe"
      },
      "source": [
        "## Métodos de dataframes\n",
        "\n",
        "El método `.head()` sirve para visualizar las primeras filas del dataframe. Por defecto, se nos mostrarán las 5 primeras\n",
        "\n"
      ]
    },
    {
      "cell_type": "code",
      "execution_count": 59,
      "metadata": {
        "id": "HOX3_zoya1Ns"
      },
      "outputs": [],
      "source": [
        "import pandas as pd"
      ]
    },
    {
      "cell_type": "code",
      "execution_count": 60,
      "metadata": {
        "id": "j-OlV-37uOq2"
      },
      "outputs": [],
      "source": [
        "d = {\"fruit\": [\"sandía\", \"melón\", \"manzana\", \"cerezas\", \"plátano\", \"pera\", \"melocotón\", \"fresas\"],\n",
        "     \"count\": [1, 1, 6, 10, 3, 6, 4, 10]}\n",
        "\n",
        "df = pd.DataFrame(d)"
      ]
    },
    {
      "cell_type": "code",
      "execution_count": 61,
      "metadata": {},
      "outputs": [
        {
          "data": {
            "text/html": [
              "<div>\n",
              "<style scoped>\n",
              "    .dataframe tbody tr th:only-of-type {\n",
              "        vertical-align: middle;\n",
              "    }\n",
              "\n",
              "    .dataframe tbody tr th {\n",
              "        vertical-align: top;\n",
              "    }\n",
              "\n",
              "    .dataframe thead th {\n",
              "        text-align: right;\n",
              "    }\n",
              "</style>\n",
              "<table border=\"1\" class=\"dataframe\">\n",
              "  <thead>\n",
              "    <tr style=\"text-align: right;\">\n",
              "      <th></th>\n",
              "      <th>fruit</th>\n",
              "      <th>count</th>\n",
              "    </tr>\n",
              "  </thead>\n",
              "  <tbody>\n",
              "    <tr>\n",
              "      <th>0</th>\n",
              "      <td>sandía</td>\n",
              "      <td>1</td>\n",
              "    </tr>\n",
              "    <tr>\n",
              "      <th>1</th>\n",
              "      <td>melón</td>\n",
              "      <td>1</td>\n",
              "    </tr>\n",
              "    <tr>\n",
              "      <th>2</th>\n",
              "      <td>manzana</td>\n",
              "      <td>6</td>\n",
              "    </tr>\n",
              "    <tr>\n",
              "      <th>3</th>\n",
              "      <td>cerezas</td>\n",
              "      <td>10</td>\n",
              "    </tr>\n",
              "    <tr>\n",
              "      <th>4</th>\n",
              "      <td>plátano</td>\n",
              "      <td>3</td>\n",
              "    </tr>\n",
              "    <tr>\n",
              "      <th>5</th>\n",
              "      <td>pera</td>\n",
              "      <td>6</td>\n",
              "    </tr>\n",
              "    <tr>\n",
              "      <th>6</th>\n",
              "      <td>melocotón</td>\n",
              "      <td>4</td>\n",
              "    </tr>\n",
              "    <tr>\n",
              "      <th>7</th>\n",
              "      <td>fresas</td>\n",
              "      <td>10</td>\n",
              "    </tr>\n",
              "  </tbody>\n",
              "</table>\n",
              "</div>"
            ],
            "text/plain": [
              "       fruit  count\n",
              "0     sandía      1\n",
              "1      melón      1\n",
              "2    manzana      6\n",
              "3    cerezas     10\n",
              "4    plátano      3\n",
              "5       pera      6\n",
              "6  melocotón      4\n",
              "7     fresas     10"
            ]
          },
          "execution_count": 61,
          "metadata": {},
          "output_type": "execute_result"
        }
      ],
      "source": [
        "df"
      ]
    },
    {
      "cell_type": "code",
      "execution_count": null,
      "metadata": {},
      "outputs": [],
      "source": []
    },
    {
      "cell_type": "code",
      "execution_count": 64,
      "metadata": {
        "colab": {
          "base_uri": "https://localhost:8080/",
          "height": 204
        },
        "id": "FyLoCSgmuRR2",
        "outputId": "07363696-8931-48ee-b839-eb3b346202b2"
      },
      "outputs": [
        {
          "data": {
            "text/html": [
              "<div>\n",
              "<style scoped>\n",
              "    .dataframe tbody tr th:only-of-type {\n",
              "        vertical-align: middle;\n",
              "    }\n",
              "\n",
              "    .dataframe tbody tr th {\n",
              "        vertical-align: top;\n",
              "    }\n",
              "\n",
              "    .dataframe thead th {\n",
              "        text-align: right;\n",
              "    }\n",
              "</style>\n",
              "<table border=\"1\" class=\"dataframe\">\n",
              "  <thead>\n",
              "    <tr style=\"text-align: right;\">\n",
              "      <th></th>\n",
              "      <th>fruit</th>\n",
              "      <th>count</th>\n",
              "    </tr>\n",
              "  </thead>\n",
              "  <tbody>\n",
              "    <tr>\n",
              "      <th>0</th>\n",
              "      <td>sandía</td>\n",
              "      <td>1</td>\n",
              "    </tr>\n",
              "    <tr>\n",
              "      <th>1</th>\n",
              "      <td>melón</td>\n",
              "      <td>1</td>\n",
              "    </tr>\n",
              "    <tr>\n",
              "      <th>2</th>\n",
              "      <td>manzana</td>\n",
              "      <td>6</td>\n",
              "    </tr>\n",
              "    <tr>\n",
              "      <th>3</th>\n",
              "      <td>cerezas</td>\n",
              "      <td>10</td>\n",
              "    </tr>\n",
              "    <tr>\n",
              "      <th>4</th>\n",
              "      <td>plátano</td>\n",
              "      <td>3</td>\n",
              "    </tr>\n",
              "  </tbody>\n",
              "</table>\n",
              "</div>"
            ],
            "text/plain": [
              "     fruit  count\n",
              "0   sandía      1\n",
              "1    melón      1\n",
              "2  manzana      6\n",
              "3  cerezas     10\n",
              "4  plátano      3"
            ]
          },
          "execution_count": 64,
          "metadata": {},
          "output_type": "execute_result"
        }
      ],
      "source": [
        "df.head()"
      ]
    },
    {
      "cell_type": "markdown",
      "metadata": {
        "id": "_ASYV8dcuakX"
      },
      "source": [
        "Si queremos que se nos muestre un número determinado de filas, tenemos que indicarlo por parámetro:"
      ]
    },
    {
      "cell_type": "code",
      "execution_count": 65,
      "metadata": {
        "colab": {
          "base_uri": "https://localhost:8080/",
          "height": 142
        },
        "id": "4UQXfyUXufvw",
        "outputId": "ba781c4f-bbb5-4d62-ed75-7338cf713f7c"
      },
      "outputs": [
        {
          "data": {
            "text/html": [
              "<div>\n",
              "<style scoped>\n",
              "    .dataframe tbody tr th:only-of-type {\n",
              "        vertical-align: middle;\n",
              "    }\n",
              "\n",
              "    .dataframe tbody tr th {\n",
              "        vertical-align: top;\n",
              "    }\n",
              "\n",
              "    .dataframe thead th {\n",
              "        text-align: right;\n",
              "    }\n",
              "</style>\n",
              "<table border=\"1\" class=\"dataframe\">\n",
              "  <thead>\n",
              "    <tr style=\"text-align: right;\">\n",
              "      <th></th>\n",
              "      <th>fruit</th>\n",
              "      <th>count</th>\n",
              "    </tr>\n",
              "  </thead>\n",
              "  <tbody>\n",
              "    <tr>\n",
              "      <th>0</th>\n",
              "      <td>sandía</td>\n",
              "      <td>1</td>\n",
              "    </tr>\n",
              "    <tr>\n",
              "      <th>1</th>\n",
              "      <td>melón</td>\n",
              "      <td>1</td>\n",
              "    </tr>\n",
              "    <tr>\n",
              "      <th>2</th>\n",
              "      <td>manzana</td>\n",
              "      <td>6</td>\n",
              "    </tr>\n",
              "  </tbody>\n",
              "</table>\n",
              "</div>"
            ],
            "text/plain": [
              "     fruit  count\n",
              "0   sandía      1\n",
              "1    melón      1\n",
              "2  manzana      6"
            ]
          },
          "execution_count": 65,
          "metadata": {},
          "output_type": "execute_result"
        }
      ],
      "source": [
        "df.head(3)"
      ]
    },
    {
      "cell_type": "code",
      "execution_count": 66,
      "metadata": {
        "colab": {
          "base_uri": "https://localhost:8080/",
          "height": 235
        },
        "id": "LHZTZuZ2vNlf",
        "outputId": "053a14b5-a810-4b97-9b0a-5734f6880cf3"
      },
      "outputs": [
        {
          "data": {
            "text/html": [
              "<div>\n",
              "<style scoped>\n",
              "    .dataframe tbody tr th:only-of-type {\n",
              "        vertical-align: middle;\n",
              "    }\n",
              "\n",
              "    .dataframe tbody tr th {\n",
              "        vertical-align: top;\n",
              "    }\n",
              "\n",
              "    .dataframe thead th {\n",
              "        text-align: right;\n",
              "    }\n",
              "</style>\n",
              "<table border=\"1\" class=\"dataframe\">\n",
              "  <thead>\n",
              "    <tr style=\"text-align: right;\">\n",
              "      <th></th>\n",
              "      <th>fruit</th>\n",
              "      <th>count</th>\n",
              "    </tr>\n",
              "  </thead>\n",
              "  <tbody>\n",
              "    <tr>\n",
              "      <th>0</th>\n",
              "      <td>sandía</td>\n",
              "      <td>1</td>\n",
              "    </tr>\n",
              "    <tr>\n",
              "      <th>1</th>\n",
              "      <td>melón</td>\n",
              "      <td>1</td>\n",
              "    </tr>\n",
              "    <tr>\n",
              "      <th>2</th>\n",
              "      <td>manzana</td>\n",
              "      <td>6</td>\n",
              "    </tr>\n",
              "    <tr>\n",
              "      <th>3</th>\n",
              "      <td>cerezas</td>\n",
              "      <td>10</td>\n",
              "    </tr>\n",
              "    <tr>\n",
              "      <th>4</th>\n",
              "      <td>plátano</td>\n",
              "      <td>3</td>\n",
              "    </tr>\n",
              "    <tr>\n",
              "      <th>5</th>\n",
              "      <td>pera</td>\n",
              "      <td>6</td>\n",
              "    </tr>\n",
              "  </tbody>\n",
              "</table>\n",
              "</div>"
            ],
            "text/plain": [
              "     fruit  count\n",
              "0   sandía      1\n",
              "1    melón      1\n",
              "2  manzana      6\n",
              "3  cerezas     10\n",
              "4  plátano      3\n",
              "5     pera      6"
            ]
          },
          "execution_count": 66,
          "metadata": {},
          "output_type": "execute_result"
        }
      ],
      "source": [
        "df.head(6)"
      ]
    },
    {
      "cell_type": "markdown",
      "metadata": {
        "id": "QEVTf0ODvam9"
      },
      "source": [
        "El método `.tail()` sirve para visualizar las últimas filas del dataframe. Por defecto, se nos mostrarán las 5 últimas"
      ]
    },
    {
      "cell_type": "code",
      "execution_count": 67,
      "metadata": {
        "colab": {
          "base_uri": "https://localhost:8080/",
          "height": 204
        },
        "id": "jp2Hit--vePy",
        "outputId": "3a56733b-4eae-48fb-dd0c-0e35129127a9"
      },
      "outputs": [
        {
          "data": {
            "text/html": [
              "<div>\n",
              "<style scoped>\n",
              "    .dataframe tbody tr th:only-of-type {\n",
              "        vertical-align: middle;\n",
              "    }\n",
              "\n",
              "    .dataframe tbody tr th {\n",
              "        vertical-align: top;\n",
              "    }\n",
              "\n",
              "    .dataframe thead th {\n",
              "        text-align: right;\n",
              "    }\n",
              "</style>\n",
              "<table border=\"1\" class=\"dataframe\">\n",
              "  <thead>\n",
              "    <tr style=\"text-align: right;\">\n",
              "      <th></th>\n",
              "      <th>fruit</th>\n",
              "      <th>count</th>\n",
              "    </tr>\n",
              "  </thead>\n",
              "  <tbody>\n",
              "    <tr>\n",
              "      <th>3</th>\n",
              "      <td>cerezas</td>\n",
              "      <td>10</td>\n",
              "    </tr>\n",
              "    <tr>\n",
              "      <th>4</th>\n",
              "      <td>plátano</td>\n",
              "      <td>3</td>\n",
              "    </tr>\n",
              "    <tr>\n",
              "      <th>5</th>\n",
              "      <td>pera</td>\n",
              "      <td>6</td>\n",
              "    </tr>\n",
              "    <tr>\n",
              "      <th>6</th>\n",
              "      <td>melocotón</td>\n",
              "      <td>4</td>\n",
              "    </tr>\n",
              "    <tr>\n",
              "      <th>7</th>\n",
              "      <td>fresas</td>\n",
              "      <td>10</td>\n",
              "    </tr>\n",
              "  </tbody>\n",
              "</table>\n",
              "</div>"
            ],
            "text/plain": [
              "       fruit  count\n",
              "3    cerezas     10\n",
              "4    plátano      3\n",
              "5       pera      6\n",
              "6  melocotón      4\n",
              "7     fresas     10"
            ]
          },
          "execution_count": 67,
          "metadata": {},
          "output_type": "execute_result"
        }
      ],
      "source": [
        "df.tail()"
      ]
    },
    {
      "cell_type": "markdown",
      "metadata": {
        "id": "agV-B6bOvfjY"
      },
      "source": [
        "Si queremos que se nos muestre un número determinado de filas, tenemos que indicarlo por parámetro:"
      ]
    },
    {
      "cell_type": "code",
      "execution_count": null,
      "metadata": {
        "colab": {
          "base_uri": "https://localhost:8080/",
          "height": 142
        },
        "id": "gW5hK9RyvjQv",
        "outputId": "d73ce7cc-3c92-4477-a7d3-4587d5171606"
      },
      "outputs": [],
      "source": [
        "df.tail(3)"
      ]
    },
    {
      "cell_type": "code",
      "execution_count": null,
      "metadata": {
        "colab": {
          "base_uri": "https://localhost:8080/",
          "height": 235
        },
        "id": "35TWHRKWvkzJ",
        "outputId": "e2ae56ad-8205-4a17-e2b2-13b968bb1770"
      },
      "outputs": [],
      "source": [
        "df.tail(6)"
      ]
    },
    {
      "cell_type": "markdown",
      "metadata": {
        "id": "2OuoALJbtMvd"
      },
      "source": [
        "El método `.copy()` nos sirve para realizar una copia de un dataframe.\n",
        "\n",
        "Si simplemente realizamos"
      ]
    },
    {
      "cell_type": "code",
      "execution_count": null,
      "metadata": {
        "id": "a6Y_G7IstSsp"
      },
      "outputs": [],
      "source": [
        "fruits = df"
      ]
    },
    {
      "cell_type": "code",
      "execution_count": null,
      "metadata": {},
      "outputs": [],
      "source": []
    },
    {
      "cell_type": "markdown",
      "metadata": {
        "id": "zE7fCRcptWcg"
      },
      "source": [
        "El dataframe llamado `fruits` es solo una referencia del dataframe original `df` pues si realizamos algún cambio en `fruits`, se realiza también en `df`"
      ]
    },
    {
      "cell_type": "code",
      "execution_count": null,
      "metadata": {
        "colab": {
          "base_uri": "https://localhost:8080/",
          "height": 297
        },
        "id": "1sjIssb9tVzk",
        "outputId": "22d0681c-9a5a-4581-9896-e333e2386b8c"
      },
      "outputs": [],
      "source": [
        "fruits.iloc[6, 0] = \"naranja\"\n",
        "fruits"
      ]
    },
    {
      "cell_type": "code",
      "execution_count": null,
      "metadata": {
        "colab": {
          "base_uri": "https://localhost:8080/",
          "height": 297
        },
        "id": "qWhG8llytu7U",
        "outputId": "713f9f3b-2939-4417-cf04-d2f032ba65cd"
      },
      "outputs": [],
      "source": [
        "df"
      ]
    },
    {
      "cell_type": "markdown",
      "metadata": {
        "id": "pupjqFbTt4JP"
      },
      "source": [
        "En cambio, si `fruits` es definido como"
      ]
    },
    {
      "cell_type": "code",
      "execution_count": null,
      "metadata": {
        "id": "kTCMd_C3t3Ay"
      },
      "outputs": [],
      "source": [
        "fruits = df.copy()"
      ]
    },
    {
      "cell_type": "markdown",
      "metadata": {
        "id": "cFzqXBlHt_94"
      },
      "source": [
        "entonces ahora sí es una copia independiente del dataframe original y por muchos cambios que hagamos sobre dicha copia, el original se mantiene intacto"
      ]
    },
    {
      "cell_type": "code",
      "execution_count": null,
      "metadata": {
        "colab": {
          "base_uri": "https://localhost:8080/",
          "height": 297
        },
        "id": "r-PR_s-QuHOz",
        "outputId": "008f9737-e9f2-46f3-ed15-a773b9e531fe"
      },
      "outputs": [],
      "source": [
        "fruits.iloc[6, 0] = \"nectarina\"\n",
        "fruits"
      ]
    },
    {
      "cell_type": "code",
      "execution_count": null,
      "metadata": {
        "colab": {
          "base_uri": "https://localhost:8080/",
          "height": 297
        },
        "id": "QfYAVXznuLfn",
        "outputId": "5c5cee9d-36e3-4a93-e8e0-79a40a8ea4a1"
      },
      "outputs": [],
      "source": [
        "df"
      ]
    },
    {
      "cell_type": "markdown",
      "metadata": {
        "id": "stf4jgh1f4iq"
      },
      "source": [
        "El método `.rename()` se puede utilizar tanto para cambiar las etiquetas de las filas como los nombres de las columnas.\n",
        "\n",
        "**¡Cuidado!** Para que los cambios se guarden en el dataframe original, necesitamos indicar `inplace = True`, de lo contrario, lo único que estamos haciendo es duplicar el dataframe, cambiando el nombre de las filas o columnas"
      ]
    },
    {
      "cell_type": "code",
      "execution_count": 68,
      "metadata": {
        "colab": {
          "base_uri": "https://localhost:8080/",
          "height": 297
        },
        "id": "ZV8KNFZhfj3S",
        "outputId": "8e0810b3-a786-4fb4-98dc-7af74e83be23"
      },
      "outputs": [
        {
          "data": {
            "text/html": [
              "<div>\n",
              "<style scoped>\n",
              "    .dataframe tbody tr th:only-of-type {\n",
              "        vertical-align: middle;\n",
              "    }\n",
              "\n",
              "    .dataframe tbody tr th {\n",
              "        vertical-align: top;\n",
              "    }\n",
              "\n",
              "    .dataframe thead th {\n",
              "        text-align: right;\n",
              "    }\n",
              "</style>\n",
              "<table border=\"1\" class=\"dataframe\">\n",
              "  <thead>\n",
              "    <tr style=\"text-align: right;\">\n",
              "      <th></th>\n",
              "      <th>fruit</th>\n",
              "      <th>count</th>\n",
              "    </tr>\n",
              "  </thead>\n",
              "  <tbody>\n",
              "    <tr>\n",
              "      <th>0</th>\n",
              "      <td>sandía</td>\n",
              "      <td>1</td>\n",
              "    </tr>\n",
              "    <tr>\n",
              "      <th>1</th>\n",
              "      <td>melón</td>\n",
              "      <td>1</td>\n",
              "    </tr>\n",
              "    <tr>\n",
              "      <th>2</th>\n",
              "      <td>manzana</td>\n",
              "      <td>6</td>\n",
              "    </tr>\n",
              "    <tr>\n",
              "      <th>3</th>\n",
              "      <td>cerezas</td>\n",
              "      <td>10</td>\n",
              "    </tr>\n",
              "    <tr>\n",
              "      <th>4</th>\n",
              "      <td>plátano</td>\n",
              "      <td>3</td>\n",
              "    </tr>\n",
              "    <tr>\n",
              "      <th>5</th>\n",
              "      <td>pera</td>\n",
              "      <td>6</td>\n",
              "    </tr>\n",
              "    <tr>\n",
              "      <th>6</th>\n",
              "      <td>melocotón</td>\n",
              "      <td>4</td>\n",
              "    </tr>\n",
              "    <tr>\n",
              "      <th>7</th>\n",
              "      <td>fresas</td>\n",
              "      <td>10</td>\n",
              "    </tr>\n",
              "  </tbody>\n",
              "</table>\n",
              "</div>"
            ],
            "text/plain": [
              "       fruit  count\n",
              "0     sandía      1\n",
              "1      melón      1\n",
              "2    manzana      6\n",
              "3    cerezas     10\n",
              "4    plátano      3\n",
              "5       pera      6\n",
              "6  melocotón      4\n",
              "7     fresas     10"
            ]
          },
          "execution_count": 68,
          "metadata": {},
          "output_type": "execute_result"
        }
      ],
      "source": [
        "df.rename(columns = {\"fruit\": \"fruta\",\n",
        "                     \"count\": \"cantidad\"})\n",
        "df"
      ]
    },
    {
      "cell_type": "code",
      "execution_count": 69,
      "metadata": {},
      "outputs": [
        {
          "data": {
            "text/html": [
              "<div>\n",
              "<style scoped>\n",
              "    .dataframe tbody tr th:only-of-type {\n",
              "        vertical-align: middle;\n",
              "    }\n",
              "\n",
              "    .dataframe tbody tr th {\n",
              "        vertical-align: top;\n",
              "    }\n",
              "\n",
              "    .dataframe thead th {\n",
              "        text-align: right;\n",
              "    }\n",
              "</style>\n",
              "<table border=\"1\" class=\"dataframe\">\n",
              "  <thead>\n",
              "    <tr style=\"text-align: right;\">\n",
              "      <th></th>\n",
              "      <th>fruit</th>\n",
              "      <th>count</th>\n",
              "    </tr>\n",
              "  </thead>\n",
              "  <tbody>\n",
              "    <tr>\n",
              "      <th>0</th>\n",
              "      <td>sandía</td>\n",
              "      <td>1</td>\n",
              "    </tr>\n",
              "    <tr>\n",
              "      <th>1</th>\n",
              "      <td>melón</td>\n",
              "      <td>1</td>\n",
              "    </tr>\n",
              "    <tr>\n",
              "      <th>2</th>\n",
              "      <td>manzana</td>\n",
              "      <td>6</td>\n",
              "    </tr>\n",
              "    <tr>\n",
              "      <th>3</th>\n",
              "      <td>cerezas</td>\n",
              "      <td>10</td>\n",
              "    </tr>\n",
              "    <tr>\n",
              "      <th>4</th>\n",
              "      <td>plátano</td>\n",
              "      <td>3</td>\n",
              "    </tr>\n",
              "    <tr>\n",
              "      <th>5</th>\n",
              "      <td>pera</td>\n",
              "      <td>6</td>\n",
              "    </tr>\n",
              "    <tr>\n",
              "      <th>6</th>\n",
              "      <td>melocotón</td>\n",
              "      <td>4</td>\n",
              "    </tr>\n",
              "    <tr>\n",
              "      <th>7</th>\n",
              "      <td>fresas</td>\n",
              "      <td>10</td>\n",
              "    </tr>\n",
              "  </tbody>\n",
              "</table>\n",
              "</div>"
            ],
            "text/plain": [
              "       fruit  count\n",
              "0     sandía      1\n",
              "1      melón      1\n",
              "2    manzana      6\n",
              "3    cerezas     10\n",
              "4    plátano      3\n",
              "5       pera      6\n",
              "6  melocotón      4\n",
              "7     fresas     10"
            ]
          },
          "execution_count": 69,
          "metadata": {},
          "output_type": "execute_result"
        }
      ],
      "source": [
        "df"
      ]
    },
    {
      "cell_type": "code",
      "execution_count": 70,
      "metadata": {
        "colab": {
          "base_uri": "https://localhost:8080/",
          "height": 297
        },
        "id": "NviVtPewhDPk",
        "outputId": "9c4a4ae7-19f1-413b-a320-95026092cb0b"
      },
      "outputs": [
        {
          "data": {
            "text/html": [
              "<div>\n",
              "<style scoped>\n",
              "    .dataframe tbody tr th:only-of-type {\n",
              "        vertical-align: middle;\n",
              "    }\n",
              "\n",
              "    .dataframe tbody tr th {\n",
              "        vertical-align: top;\n",
              "    }\n",
              "\n",
              "    .dataframe thead th {\n",
              "        text-align: right;\n",
              "    }\n",
              "</style>\n",
              "<table border=\"1\" class=\"dataframe\">\n",
              "  <thead>\n",
              "    <tr style=\"text-align: right;\">\n",
              "      <th></th>\n",
              "      <th>fruta</th>\n",
              "      <th>cantidad</th>\n",
              "    </tr>\n",
              "  </thead>\n",
              "  <tbody>\n",
              "    <tr>\n",
              "      <th>0</th>\n",
              "      <td>sandía</td>\n",
              "      <td>1</td>\n",
              "    </tr>\n",
              "    <tr>\n",
              "      <th>1</th>\n",
              "      <td>melón</td>\n",
              "      <td>1</td>\n",
              "    </tr>\n",
              "    <tr>\n",
              "      <th>2</th>\n",
              "      <td>manzana</td>\n",
              "      <td>6</td>\n",
              "    </tr>\n",
              "    <tr>\n",
              "      <th>3</th>\n",
              "      <td>cerezas</td>\n",
              "      <td>10</td>\n",
              "    </tr>\n",
              "    <tr>\n",
              "      <th>4</th>\n",
              "      <td>plátano</td>\n",
              "      <td>3</td>\n",
              "    </tr>\n",
              "    <tr>\n",
              "      <th>5</th>\n",
              "      <td>pera</td>\n",
              "      <td>6</td>\n",
              "    </tr>\n",
              "    <tr>\n",
              "      <th>6</th>\n",
              "      <td>melocotón</td>\n",
              "      <td>4</td>\n",
              "    </tr>\n",
              "    <tr>\n",
              "      <th>7</th>\n",
              "      <td>fresas</td>\n",
              "      <td>10</td>\n",
              "    </tr>\n",
              "  </tbody>\n",
              "</table>\n",
              "</div>"
            ],
            "text/plain": [
              "       fruta  cantidad\n",
              "0     sandía         1\n",
              "1      melón         1\n",
              "2    manzana         6\n",
              "3    cerezas        10\n",
              "4    plátano         3\n",
              "5       pera         6\n",
              "6  melocotón         4\n",
              "7     fresas        10"
            ]
          },
          "execution_count": 70,
          "metadata": {},
          "output_type": "execute_result"
        }
      ],
      "source": [
        "# Cambiamos el nombre de las columnas al dataframe original\n",
        "df.rename(columns = {\"fruit\": \"fruta\",\n",
        "                     \"count\": \"cantidad\"},\n",
        "          inplace = True)\n",
        "df"
      ]
    },
    {
      "cell_type": "code",
      "execution_count": 71,
      "metadata": {
        "colab": {
          "base_uri": "https://localhost:8080/",
          "height": 297
        },
        "id": "TVLRAKLrhS7y",
        "outputId": "b9a14005-c5c8-4c2b-83aa-d438d2f2fbc2"
      },
      "outputs": [
        {
          "data": {
            "text/html": [
              "<div>\n",
              "<style scoped>\n",
              "    .dataframe tbody tr th:only-of-type {\n",
              "        vertical-align: middle;\n",
              "    }\n",
              "\n",
              "    .dataframe tbody tr th {\n",
              "        vertical-align: top;\n",
              "    }\n",
              "\n",
              "    .dataframe thead th {\n",
              "        text-align: right;\n",
              "    }\n",
              "</style>\n",
              "<table border=\"1\" class=\"dataframe\">\n",
              "  <thead>\n",
              "    <tr style=\"text-align: right;\">\n",
              "      <th></th>\n",
              "      <th>fruta</th>\n",
              "      <th>cantidad</th>\n",
              "    </tr>\n",
              "  </thead>\n",
              "  <tbody>\n",
              "    <tr>\n",
              "      <th>0</th>\n",
              "      <td>sandía</td>\n",
              "      <td>1</td>\n",
              "    </tr>\n",
              "    <tr>\n",
              "      <th>1</th>\n",
              "      <td>melón</td>\n",
              "      <td>1</td>\n",
              "    </tr>\n",
              "    <tr>\n",
              "      <th>2</th>\n",
              "      <td>manzana</td>\n",
              "      <td>6</td>\n",
              "    </tr>\n",
              "    <tr>\n",
              "      <th>3</th>\n",
              "      <td>cerezas</td>\n",
              "      <td>10</td>\n",
              "    </tr>\n",
              "    <tr>\n",
              "      <th>4</th>\n",
              "      <td>plátano</td>\n",
              "      <td>3</td>\n",
              "    </tr>\n",
              "    <tr>\n",
              "      <th>5</th>\n",
              "      <td>pera</td>\n",
              "      <td>6</td>\n",
              "    </tr>\n",
              "    <tr>\n",
              "      <th>6</th>\n",
              "      <td>melocotón</td>\n",
              "      <td>4</td>\n",
              "    </tr>\n",
              "    <tr>\n",
              "      <th>7</th>\n",
              "      <td>fresas</td>\n",
              "      <td>10</td>\n",
              "    </tr>\n",
              "  </tbody>\n",
              "</table>\n",
              "</div>"
            ],
            "text/plain": [
              "       fruta  cantidad\n",
              "0     sandía         1\n",
              "1      melón         1\n",
              "2    manzana         6\n",
              "3    cerezas        10\n",
              "4    plátano         3\n",
              "5       pera         6\n",
              "6  melocotón         4\n",
              "7     fresas        10"
            ]
          },
          "execution_count": 71,
          "metadata": {},
          "output_type": "execute_result"
        }
      ],
      "source": [
        "df.rename(index = {0: \"obs1\",\n",
        "                   1: \"obs2\",\n",
        "                   7: \"obs8\"})\n",
        "df"
      ]
    },
    {
      "cell_type": "code",
      "execution_count": 72,
      "metadata": {
        "colab": {
          "base_uri": "https://localhost:8080/",
          "height": 297
        },
        "id": "KfhHzUdVhgnV",
        "outputId": "0f7d59cd-dcb2-47b4-9136-38bdda3da92b"
      },
      "outputs": [
        {
          "data": {
            "text/html": [
              "<div>\n",
              "<style scoped>\n",
              "    .dataframe tbody tr th:only-of-type {\n",
              "        vertical-align: middle;\n",
              "    }\n",
              "\n",
              "    .dataframe tbody tr th {\n",
              "        vertical-align: top;\n",
              "    }\n",
              "\n",
              "    .dataframe thead th {\n",
              "        text-align: right;\n",
              "    }\n",
              "</style>\n",
              "<table border=\"1\" class=\"dataframe\">\n",
              "  <thead>\n",
              "    <tr style=\"text-align: right;\">\n",
              "      <th></th>\n",
              "      <th>fruta</th>\n",
              "      <th>cantidad</th>\n",
              "    </tr>\n",
              "  </thead>\n",
              "  <tbody>\n",
              "    <tr>\n",
              "      <th>obs1</th>\n",
              "      <td>sandía</td>\n",
              "      <td>1</td>\n",
              "    </tr>\n",
              "    <tr>\n",
              "      <th>obs2</th>\n",
              "      <td>melón</td>\n",
              "      <td>1</td>\n",
              "    </tr>\n",
              "    <tr>\n",
              "      <th>2</th>\n",
              "      <td>manzana</td>\n",
              "      <td>6</td>\n",
              "    </tr>\n",
              "    <tr>\n",
              "      <th>3</th>\n",
              "      <td>cerezas</td>\n",
              "      <td>10</td>\n",
              "    </tr>\n",
              "    <tr>\n",
              "      <th>4</th>\n",
              "      <td>plátano</td>\n",
              "      <td>3</td>\n",
              "    </tr>\n",
              "    <tr>\n",
              "      <th>5</th>\n",
              "      <td>pera</td>\n",
              "      <td>6</td>\n",
              "    </tr>\n",
              "    <tr>\n",
              "      <th>6</th>\n",
              "      <td>melocotón</td>\n",
              "      <td>4</td>\n",
              "    </tr>\n",
              "    <tr>\n",
              "      <th>obs8</th>\n",
              "      <td>fresas</td>\n",
              "      <td>10</td>\n",
              "    </tr>\n",
              "  </tbody>\n",
              "</table>\n",
              "</div>"
            ],
            "text/plain": [
              "          fruta  cantidad\n",
              "obs1     sandía         1\n",
              "obs2      melón         1\n",
              "2       manzana         6\n",
              "3       cerezas        10\n",
              "4       plátano         3\n",
              "5          pera         6\n",
              "6     melocotón         4\n",
              "obs8     fresas        10"
            ]
          },
          "execution_count": 72,
          "metadata": {},
          "output_type": "execute_result"
        }
      ],
      "source": [
        "# Cambiamos el nombre de las filas al dataframe original\n",
        "df.rename(index = {0: \"obs1\",\n",
        "                   1: \"obs2\",\n",
        "                   7: \"obs8\"},\n",
        "          inplace = True)\n",
        "df"
      ]
    },
    {
      "cell_type": "markdown",
      "metadata": {
        "id": "cpTQqgEhhv0O"
      },
      "source": [
        "Con el método `.columns` también podemos cambiar el nombre de las columnas:"
      ]
    },
    {
      "cell_type": "code",
      "execution_count": null,
      "metadata": {
        "colab": {
          "base_uri": "https://localhost:8080/"
        },
        "id": "vqnMuDXUdKuX",
        "outputId": "08acafd3-ae04-4ad7-e87a-03a904e9ca37"
      },
      "outputs": [],
      "source": [
        "df.columns"
      ]
    },
    {
      "cell_type": "code",
      "execution_count": null,
      "metadata": {
        "colab": {
          "base_uri": "https://localhost:8080/",
          "height": 297
        },
        "id": "Y1qyF18Ph0t8",
        "outputId": "f4b85470-a1a4-4fc8-d22f-aca0acc66c8e"
      },
      "outputs": [],
      "source": [
        "df.columns = [\"FRUTA\", \"CANTIDAD\"]\n",
        "df"
      ]
    },
    {
      "cell_type": "markdown",
      "metadata": {
        "id": "_wSzo6necHGd"
      },
      "source": [
        "El método `.insert()` inserta una nueva columna a un dataframe existente"
      ]
    },
    {
      "cell_type": "code",
      "execution_count": null,
      "metadata": {
        "colab": {
          "base_uri": "https://localhost:8080/",
          "height": 297
        },
        "id": "a45FeQOjcVYH",
        "outputId": "a2593985-b08f-46a1-aec2-39d9caece312"
      },
      "outputs": [],
      "source": [
        "df.insert(loc = 2, column = \"PRECIO\", value = [2.50, 2.00, 0.35, 0.10, 0.35, 0.20, 0.15, 0.05])\n",
        "df"
      ]
    },
    {
      "cell_type": "markdown",
      "metadata": {
        "id": "beeiQaxdcutS"
      },
      "source": [
        "Al parámetro `loc` le indicamos el índice que ocupará la nueva columna; al parámetro `column` le pasamos el nombre de la nueva columna; y al parámetro `value`, los valores para cada una de las filas.\n",
        "\n",
        "**Observación.** Si al parámetro `loc` le pasamos un índice ya ocupado por otra columna, se desplazan la columna existente y las de índices superiores un índice a la derecha.\n",
        "\n",
        "**Observación.** Si al parámetro `value` solo le pasamos un valor, éste será el mismo para todas las filas\n"
      ]
    },
    {
      "cell_type": "code",
      "execution_count": null,
      "metadata": {
        "colab": {
          "base_uri": "https://localhost:8080/",
          "height": 297
        },
        "id": "p6J3DPxEdBXx",
        "outputId": "18cc1ba3-ef5a-4e56-b827-808fd6a0217f"
      },
      "outputs": [],
      "source": [
        "df.insert(1, \"COLOR\", \"rojo\")\n",
        "df"
      ]
    },
    {
      "cell_type": "markdown",
      "metadata": {
        "id": "qyii6EaOi5L2"
      },
      "source": [
        "El método `.drop()` nos permite borrar las filas o columnas que indiquemos\n",
        "\n",
        "**¡Cuidado!** De nuevo, si queremos aplicar directamente los cambios al dataframe original, necesitamos indicar `inplace = True`"
      ]
    },
    {
      "cell_type": "code",
      "execution_count": null,
      "metadata": {
        "colab": {
          "base_uri": "https://localhost:8080/",
          "height": 235
        },
        "id": "Sqc3fqrEjCdb",
        "outputId": "752f04c2-34fe-45b7-f0f4-c36e2cbeaccf"
      },
      "outputs": [],
      "source": [
        "# Eliminamos filas (axis = 0) por etiqueta\n",
        "df_dropped = df.drop(labels = [\"obs1\", 4], axis = 0)\n",
        "df_dropped"
      ]
    },
    {
      "cell_type": "code",
      "execution_count": null,
      "metadata": {
        "colab": {
          "base_uri": "https://localhost:8080/",
          "height": 297
        },
        "id": "_QRk4b9Nj50v",
        "outputId": "43bee636-9a53-4a81-eecf-b3847d8be76f"
      },
      "outputs": [],
      "source": [
        "# Eliminamos columnas (axis = 1) por etiqueta\n",
        "df_dropped = df.drop(labels = [\"COLOR\", \"PRECIO\"], axis = 1)\n",
        "df_dropped"
      ]
    },
    {
      "cell_type": "markdown",
      "metadata": {
        "id": "N0Ml5Wp4k9Up"
      },
      "source": [
        "El método `.pop()` elimina la columna que indiquemos por parámetro"
      ]
    },
    {
      "cell_type": "code",
      "execution_count": null,
      "metadata": {
        "colab": {
          "base_uri": "https://localhost:8080/",
          "height": 297
        },
        "id": "78bRr9kdk8q9",
        "outputId": "3b57b5b3-6af3-4158-88b6-cf84920887e4"
      },
      "outputs": [],
      "source": [
        "column_popped = df.pop(\"COLOR\")\n",
        "df"
      ]
    },
    {
      "cell_type": "code",
      "execution_count": null,
      "metadata": {
        "colab": {
          "base_uri": "https://localhost:8080/"
        },
        "id": "6UhYBnb5enHN",
        "outputId": "dd461fec-7ea4-45a3-e343-8df5e569a4e9"
      },
      "outputs": [],
      "source": [
        "column_popped"
      ]
    },
    {
      "cell_type": "code",
      "execution_count": null,
      "metadata": {
        "colab": {
          "base_uri": "https://localhost:8080/",
          "height": 297
        },
        "id": "eVdRUCYVlfrS",
        "outputId": "cb311e5a-5e33-4052-8619-c8f1f92f99b3"
      },
      "outputs": [],
      "source": [
        "# Volvemos a añadir la columna recientemente eliminada al final del dataframe con una sintaxis que no habíamos visto todavía\n",
        "df[\"COLOR\"] = column_popped\n",
        "df"
      ]
    },
    {
      "cell_type": "markdown",
      "metadata": {
        "id": "mXLRTOqcpHRw"
      },
      "source": [
        "El método `.rank()` devuelve un ranking.\n",
        "\n",
        "Si por ejemplo queremos un ranking por fruta, el método `.rank()` nos devolverá una columna de posiciones correspondientes a la posición que ocupa cada fruta si estas son ordenadas alfabéticamente\n",
        "\n",
        "**Observación.** El ranking empieza siempre en 1."
      ]
    },
    {
      "cell_type": "code",
      "execution_count": null,
      "metadata": {
        "colab": {
          "base_uri": "https://localhost:8080/",
          "height": 297
        },
        "id": "VyBohYxEpc_0",
        "outputId": "c083034e-614a-4aff-d414-0afc1d3c80e1"
      },
      "outputs": [],
      "source": [
        "df[\"RANKING_FRUTA\"] = df[\"FRUTA\"].rank()\n",
        "df"
      ]
    },
    {
      "cell_type": "markdown",
      "metadata": {
        "id": "pyZ1Ufj6pzak"
      },
      "source": [
        "Con el parámetro `ascending`, que por defecto vale `True`, podemos indicar si queremos que el ranking sea en orden ascendente o descendente."
      ]
    },
    {
      "cell_type": "code",
      "execution_count": null,
      "metadata": {
        "colab": {
          "base_uri": "https://localhost:8080/",
          "height": 297
        },
        "id": "3PiJF7ODp8sb",
        "outputId": "6b86462b-6615-485d-fc15-1c67ea15df81"
      },
      "outputs": [],
      "source": [
        "df[\"RANKING_PRECIO\"] = df[\"PRECIO\"].rank(ascending = False)\n",
        "df"
      ]
    },
    {
      "cell_type": "markdown",
      "metadata": {
        "id": "5y9xuAJLdaty"
      },
      "source": [
        "El método `.nunique()` devuelve el conteo de cuántos valores únicos hay en cada columna"
      ]
    },
    {
      "cell_type": "code",
      "execution_count": null,
      "metadata": {
        "colab": {
          "base_uri": "https://localhost:8080/"
        },
        "id": "f-IkkjDcd5ua",
        "outputId": "110dfe15-e195-4c77-9fe4-67f780721964"
      },
      "outputs": [],
      "source": [
        "df.nunique()"
      ]
    },
    {
      "cell_type": "markdown",
      "metadata": {
        "id": "Xk4VRyileHiV"
      },
      "source": [
        "Dada una columna de un dataframe, el método `.unique()` devuelve un array con los valores únicos de dicha columna"
      ]
    },
    {
      "cell_type": "code",
      "execution_count": null,
      "metadata": {
        "colab": {
          "base_uri": "https://localhost:8080/"
        },
        "id": "W1d_o9pyeKMf",
        "outputId": "dc88a896-bc56-4ab5-923a-df6493eaad5e"
      },
      "outputs": [],
      "source": [
        "df[\"COLOR\"].unique()"
      ]
    },
    {
      "cell_type": "code",
      "execution_count": null,
      "metadata": {
        "colab": {
          "base_uri": "https://localhost:8080/"
        },
        "id": "mS-a5lVyfd80",
        "outputId": "a0ef7ef6-39a7-4dca-d497-0e9a670aef9a"
      },
      "outputs": [],
      "source": [
        "df[\"PRECIO\"].unique()"
      ]
    },
    {
      "cell_type": "markdown",
      "metadata": {
        "id": "__YcIhX5uXvx"
      },
      "source": [
        "El método `.duplicated()` nos ayuda a analizar los valores duplicados. El parámetro `keep` sirve para controlar como proceder con los valores duplicados:\n",
        "\n",
        "  * `first`: considera la primera aparición del valor repetido como único y el resto como duplicados\n",
        "  * `last`: considera la última aparición del valor repetido como único y el resto como duplicados\n",
        "  * `False`: considera todos los repetidos iguales como duplicados"
      ]
    },
    {
      "cell_type": "code",
      "execution_count": null,
      "metadata": {
        "colab": {
          "base_uri": "https://localhost:8080/",
          "height": 235
        },
        "id": "T-WmkAIYvViX",
        "outputId": "e1db7dab-1698-4382-eb39-76c86ba4fd7d"
      },
      "outputs": [],
      "source": [
        "bool_duplicated = df[\"CANTIDAD\"].duplicated(keep = False)\n",
        "df[bool_duplicated]"
      ]
    },
    {
      "cell_type": "markdown",
      "metadata": {
        "id": "bJjWs0JMwcmX"
      },
      "source": [
        "El método `.drop_duplicates()` elimina los duplicados del dataframe. De nuevo, volvemos a tener el parámetro `keep` y el parámetro `subset` sirve para indicar las columnas a las que queremos aplicar el método:\n",
        "\n",
        "**Observación.** Para que los cambios sean llevados a cabo en el dataframe original, habrá que indicar `inplace = True`"
      ]
    },
    {
      "cell_type": "code",
      "execution_count": null,
      "metadata": {
        "colab": {
          "base_uri": "https://localhost:8080/",
          "height": 204
        },
        "id": "IsSYk7uAwiyw",
        "outputId": "11a6c524-a826-4afc-c48d-e9bdfc2225ed"
      },
      "outputs": [],
      "source": [
        "df_without_duplicates = df.drop_duplicates(subset = \"CANTIDAD\",\n",
        "                                           keep = \"first\")\n",
        "df_without_duplicates"
      ]
    },
    {
      "cell_type": "markdown",
      "metadata": {
        "id": "-LzqOeGTngCu"
      },
      "source": [
        "El método `.nsmallest()` nos devuelve las $n$ filas con menor valor de la columna que indiquemos por parámetro"
      ]
    },
    {
      "cell_type": "code",
      "execution_count": null,
      "metadata": {
        "colab": {
          "base_uri": "https://localhost:8080/",
          "height": 142
        },
        "id": "XMWCvgrSnoCZ",
        "outputId": "2bbfdeee-1b8d-42f7-a557-174402bda143"
      },
      "outputs": [],
      "source": [
        "# Queremos las 3 observaciones con menor precio\n",
        "df.nsmallest(3, \"PRECIO\")"
      ]
    },
    {
      "cell_type": "markdown",
      "metadata": {
        "id": "bkhiv3i4nxyL"
      },
      "source": [
        "El método `.largest()` nos devuelve las $n$ filas con mayor valor de la columna que indiquemos por parámetro"
      ]
    },
    {
      "cell_type": "code",
      "execution_count": null,
      "metadata": {
        "colab": {
          "base_uri": "https://localhost:8080/",
          "height": 204
        },
        "id": "NSXFMBn7n5Oc",
        "outputId": "04c4a023-deb1-4da5-8aed-6f65e22870ea"
      },
      "outputs": [],
      "source": [
        "# Queremos las 5 observaciones con mayor cantidad\n",
        "df.nlargest(5, \"CANTIDAD\")"
      ]
    },
    {
      "cell_type": "markdown",
      "metadata": {
        "id": "LQvL59Puim0_"
      },
      "source": [
        "El método `.dtypes` nos indica de qué tipo es cada columna del dataframe"
      ]
    },
    {
      "cell_type": "code",
      "execution_count": null,
      "metadata": {
        "colab": {
          "base_uri": "https://localhost:8080/"
        },
        "id": "wY6BPqm7igZT",
        "outputId": "03053ff4-292d-4142-a5c5-a1a9d0180871"
      },
      "outputs": [],
      "source": [
        "df.dtypes"
      ]
    },
    {
      "cell_type": "markdown",
      "metadata": {
        "id": "W_TMN3KkCx9K"
      },
      "source": [
        "## Bucles y dataframes\n",
        "\n",
        "Para iterar sobre las filas de un dataframe, podemos utilizar los métodos:\n",
        "\n",
        "- `.iterrows()`\n",
        "- `.itertuples()`"
      ]
    },
    {
      "cell_type": "code",
      "execution_count": null,
      "metadata": {
        "colab": {
          "base_uri": "https://localhost:8080/",
          "height": 142
        },
        "id": "cYWyadM8Awgu",
        "outputId": "18886993-6312-4996-c6b3-7f68a339d520"
      },
      "outputs": [],
      "source": [
        "d = {\"name\": [\"Juan Gabriel\", \"María\", \"Ricardo\"],\n",
        "     \"surname\": [\"Gomila\", \"Santos\", \"Alberich\"],\n",
        "     \"gender\": [\"m\", \"f\", \"m\"]}\n",
        "\n",
        "df = pd.DataFrame(d)\n",
        "df"
      ]
    },
    {
      "cell_type": "markdown",
      "metadata": {
        "id": "9lxbougnwQrt"
      },
      "source": [
        "Usamos `.iterrows()` para obtener el índice de cada fila junto al contenido de cada una:"
      ]
    },
    {
      "cell_type": "code",
      "execution_count": null,
      "metadata": {
        "colab": {
          "base_uri": "https://localhost:8080/"
        },
        "id": "e7gxzJa1wYjx",
        "outputId": "437bc65e-faee-4ac5-fd12-e450c2314fed"
      },
      "outputs": [],
      "source": [
        "for i, j in df.iterrows():\n",
        "  print(\"Índice de la fila: {},\\n\\nContenido de la fila:\\n{}\".format(i, j), end = \"\\n\\n\\n\")"
      ]
    },
    {
      "cell_type": "markdown",
      "metadata": {
        "id": "-Bp6m13WyL3b"
      },
      "source": [
        "Usamos `.itertuples()` para obtener una tupla con toda la información de cada fila:"
      ]
    },
    {
      "cell_type": "code",
      "execution_count": null,
      "metadata": {
        "colab": {
          "base_uri": "https://localhost:8080/"
        },
        "id": "6Ex5HXBqyNpy",
        "outputId": "78e01375-86f0-4394-9a55-14e62dbb14c9"
      },
      "outputs": [],
      "source": [
        "for i in df.itertuples():\n",
        "  print(\"Contenido de la fila:\\n{}\".format(i), end = \"\\n\\n\")"
      ]
    },
    {
      "cell_type": "markdown",
      "metadata": {
        "id": "dZMKBALnyzGS"
      },
      "source": [
        "Para iterar sobre las columnas de un dataframe,\n",
        "\n",
        "- creamos una lista de las columnas del dataframe y luego iterarmos sobre esa lista para obtener la información de esas columnas\n",
        "- usamos el métood `.iteritems()`"
      ]
    },
    {
      "cell_type": "markdown",
      "metadata": {
        "id": "ZmEYFHAJbk0Q"
      },
      "source": [
        "Creamos la lista de columnas e iteramos sobre esta:"
      ]
    },
    {
      "cell_type": "code",
      "execution_count": null,
      "metadata": {
        "colab": {
          "base_uri": "https://localhost:8080/"
        },
        "id": "ByqW1kRGy8nk",
        "outputId": "6a65d62b-4f88-4ad2-e8a9-6f3d2c04e43e"
      },
      "outputs": [],
      "source": [
        "columns = list(df)\n",
        "print(columns)"
      ]
    },
    {
      "cell_type": "code",
      "execution_count": null,
      "metadata": {
        "colab": {
          "base_uri": "https://localhost:8080/"
        },
        "id": "Y3Lbe1I-zAp0",
        "outputId": "16e426d6-b1f8-4dc9-af4a-2ff78303db47"
      },
      "outputs": [],
      "source": [
        "for c in columns:\n",
        "  print(\"Columna {}:\\n{}\".format(c, df[c]), end = \"\\n\\n\")"
      ]
    },
    {
      "cell_type": "markdown",
      "metadata": {
        "id": "xfS3zZC9bpaI"
      },
      "source": [
        "Usamos `.iteritems()` para obtener el nombre de cada columna junto al contenido de cada una:"
      ]
    },
    {
      "cell_type": "code",
      "execution_count": null,
      "metadata": {
        "colab": {
          "base_uri": "https://localhost:8080/"
        },
        "id": "7OrFiaLExu51",
        "outputId": "ab7d7667-e884-44fb-f568-075cafefda13"
      },
      "outputs": [],
      "source": [
        "for i, j in df.iteritems():\n",
        "  print(\"Nombre de la columna: {},\\n\\nContenido de la columna:\\n{}\".format(i, j), end = \"\\n\\n\\n\")"
      ]
    },
    {
      "cell_type": "markdown",
      "metadata": {
        "id": "eKe_O_NCEBr1"
      },
      "source": [
        "## Dataframes a partir de archivos CSV\n",
        "\n",
        "Podemos guardar la información de un archivo csv en un dataframe usando la función `read_csv()`.\n",
        "\n",
        "El archivo puede\n",
        "\n",
        "- estar guardado en nuestro directorio de trabajo\n",
        "- proceder de una url\n",
        "\n"
      ]
    },
    {
      "cell_type": "markdown",
      "metadata": {
        "id": "FhhT25yyEOzP"
      },
      "source": [
        "### Desde directorio de trabajo\n",
        "\n",
        "Vamos a cargar el archivo llamado `characters-simpsons.csv` que tenemos guardado en la carpeta.\n",
        "\n",
        "A continuación, usaremos la función `read_csv()`"
      ]
    },
    {
      "cell_type": "code",
      "execution_count": null,
      "metadata": {
        "colab": {
          "base_uri": "https://localhost:8080/",
          "height": 204
        },
        "id": "loTznG-mNFvZ",
        "outputId": "f64f5918-2259-4286-b202-284818d7dc8d"
      },
      "outputs": [],
      "source": [
        "simpsons_df = pd.read_csv(\"characters-simpsons.csv\")\n",
        "simpsons_df.head()"
      ]
    },
    {
      "cell_type": "code",
      "execution_count": null,
      "metadata": {
        "colab": {
          "base_uri": "https://localhost:8080/",
          "height": 204
        },
        "id": "8X4Lbhe0vwFo",
        "outputId": "85aa7cd1-99a5-4a8a-a5b2-bbcfcf6e5363"
      },
      "outputs": [],
      "source": [
        "simpsons_df.tail()"
      ]
    },
    {
      "cell_type": "markdown",
      "metadata": {
        "id": "gZn1SRCnJsjD"
      },
      "source": [
        "### Desde url\n",
        "\n",
        "Vamos a cargar el archivo que contiene la frecuencia de aparición de las letras del alfabeto inglés. Este archivo se llama letter_frequency.csv procede de la siguiente [url](https://people.sc.fsu.edu/~jburkardt/data/csv/letter_frequency.csv)"
      ]
    },
    {
      "cell_type": "code",
      "execution_count": 12,
      "metadata": {
        "colab": {
          "base_uri": "https://localhost:8080/",
          "height": 855
        },
        "id": "vo2Na3e9EEWU",
        "outputId": "33f5af44-489b-482c-fe39-d41fa8403848"
      },
      "outputs": [
        {
          "data": {
            "text/html": [
              "<div>\n",
              "<style scoped>\n",
              "    .dataframe tbody tr th:only-of-type {\n",
              "        vertical-align: middle;\n",
              "    }\n",
              "\n",
              "    .dataframe tbody tr th {\n",
              "        vertical-align: top;\n",
              "    }\n",
              "\n",
              "    .dataframe thead th {\n",
              "        text-align: right;\n",
              "    }\n",
              "</style>\n",
              "<table border=\"1\" class=\"dataframe\">\n",
              "  <thead>\n",
              "    <tr style=\"text-align: right;\">\n",
              "      <th></th>\n",
              "      <th>Letra</th>\n",
              "      <th>Frecuencia</th>\n",
              "      <th>Porcentaje</th>\n",
              "    </tr>\n",
              "  </thead>\n",
              "  <tbody>\n",
              "    <tr>\n",
              "      <th>0</th>\n",
              "      <td>\"A\"</td>\n",
              "      <td>24373121</td>\n",
              "      <td>8.1</td>\n",
              "    </tr>\n",
              "    <tr>\n",
              "      <th>1</th>\n",
              "      <td>\"B\"</td>\n",
              "      <td>4762938</td>\n",
              "      <td>1.6</td>\n",
              "    </tr>\n",
              "    <tr>\n",
              "      <th>2</th>\n",
              "      <td>\"C\"</td>\n",
              "      <td>8982417</td>\n",
              "      <td>3.0</td>\n",
              "    </tr>\n",
              "    <tr>\n",
              "      <th>3</th>\n",
              "      <td>\"D\"</td>\n",
              "      <td>10805580</td>\n",
              "      <td>3.6</td>\n",
              "    </tr>\n",
              "    <tr>\n",
              "      <th>4</th>\n",
              "      <td>\"E\"</td>\n",
              "      <td>37907119</td>\n",
              "      <td>12.6</td>\n",
              "    </tr>\n",
              "    <tr>\n",
              "      <th>5</th>\n",
              "      <td>\"F\"</td>\n",
              "      <td>7486889</td>\n",
              "      <td>2.5</td>\n",
              "    </tr>\n",
              "    <tr>\n",
              "      <th>6</th>\n",
              "      <td>\"G\"</td>\n",
              "      <td>5143059</td>\n",
              "      <td>1.7</td>\n",
              "    </tr>\n",
              "    <tr>\n",
              "      <th>7</th>\n",
              "      <td>\"H\"</td>\n",
              "      <td>18058207</td>\n",
              "      <td>6.0</td>\n",
              "    </tr>\n",
              "    <tr>\n",
              "      <th>8</th>\n",
              "      <td>\"I\"</td>\n",
              "      <td>21820970</td>\n",
              "      <td>7.3</td>\n",
              "    </tr>\n",
              "    <tr>\n",
              "      <th>9</th>\n",
              "      <td>\"J\"</td>\n",
              "      <td>474021</td>\n",
              "      <td>0.2</td>\n",
              "    </tr>\n",
              "    <tr>\n",
              "      <th>10</th>\n",
              "      <td>\"K\"</td>\n",
              "      <td>1720909</td>\n",
              "      <td>0.6</td>\n",
              "    </tr>\n",
              "    <tr>\n",
              "      <th>11</th>\n",
              "      <td>\"L\"</td>\n",
              "      <td>11730498</td>\n",
              "      <td>3.9</td>\n",
              "    </tr>\n",
              "    <tr>\n",
              "      <th>12</th>\n",
              "      <td>\"M\"</td>\n",
              "      <td>7391366</td>\n",
              "      <td>2.5</td>\n",
              "    </tr>\n",
              "    <tr>\n",
              "      <th>13</th>\n",
              "      <td>\"N\"</td>\n",
              "      <td>21402466</td>\n",
              "      <td>7.1</td>\n",
              "    </tr>\n",
              "    <tr>\n",
              "      <th>14</th>\n",
              "      <td>\"O\"</td>\n",
              "      <td>23215532</td>\n",
              "      <td>7.7</td>\n",
              "    </tr>\n",
              "    <tr>\n",
              "      <th>15</th>\n",
              "      <td>\"P\"</td>\n",
              "      <td>5719422</td>\n",
              "      <td>1.9</td>\n",
              "    </tr>\n",
              "    <tr>\n",
              "      <th>16</th>\n",
              "      <td>\"Q\"</td>\n",
              "      <td>297237</td>\n",
              "      <td>0.1</td>\n",
              "    </tr>\n",
              "    <tr>\n",
              "      <th>17</th>\n",
              "      <td>\"R\"</td>\n",
              "      <td>17897352</td>\n",
              "      <td>5.9</td>\n",
              "    </tr>\n",
              "    <tr>\n",
              "      <th>18</th>\n",
              "      <td>\"S\"</td>\n",
              "      <td>19059775</td>\n",
              "      <td>6.3</td>\n",
              "    </tr>\n",
              "    <tr>\n",
              "      <th>19</th>\n",
              "      <td>\"T\"</td>\n",
              "      <td>28691274</td>\n",
              "      <td>9.5</td>\n",
              "    </tr>\n",
              "    <tr>\n",
              "      <th>20</th>\n",
              "      <td>\"U\"</td>\n",
              "      <td>8022379</td>\n",
              "      <td>2.7</td>\n",
              "    </tr>\n",
              "    <tr>\n",
              "      <th>21</th>\n",
              "      <td>\"V\"</td>\n",
              "      <td>2835696</td>\n",
              "      <td>0.9</td>\n",
              "    </tr>\n",
              "    <tr>\n",
              "      <th>22</th>\n",
              "      <td>\"W\"</td>\n",
              "      <td>6505294</td>\n",
              "      <td>2.2</td>\n",
              "    </tr>\n",
              "    <tr>\n",
              "      <th>23</th>\n",
              "      <td>\"X\"</td>\n",
              "      <td>562732</td>\n",
              "      <td>0.2</td>\n",
              "    </tr>\n",
              "    <tr>\n",
              "      <th>24</th>\n",
              "      <td>\"Y\"</td>\n",
              "      <td>5910495</td>\n",
              "      <td>2.0</td>\n",
              "    </tr>\n",
              "    <tr>\n",
              "      <th>25</th>\n",
              "      <td>\"Z\"</td>\n",
              "      <td>93172</td>\n",
              "      <td>0.0</td>\n",
              "    </tr>\n",
              "  </tbody>\n",
              "</table>\n",
              "</div>"
            ],
            "text/plain": [
              "      Letra  Frecuencia  Porcentaje\n",
              "0       \"A\"    24373121         8.1\n",
              "1       \"B\"     4762938         1.6\n",
              "2       \"C\"     8982417         3.0\n",
              "3       \"D\"    10805580         3.6\n",
              "4       \"E\"    37907119        12.6\n",
              "5       \"F\"     7486889         2.5\n",
              "6       \"G\"     5143059         1.7\n",
              "7       \"H\"    18058207         6.0\n",
              "8       \"I\"    21820970         7.3\n",
              "9       \"J\"      474021         0.2\n",
              "10      \"K\"     1720909         0.6\n",
              "11      \"L\"    11730498         3.9\n",
              "12      \"M\"     7391366         2.5\n",
              "13      \"N\"    21402466         7.1\n",
              "14      \"O\"    23215532         7.7\n",
              "15      \"P\"     5719422         1.9\n",
              "16      \"Q\"      297237         0.1\n",
              "17      \"R\"    17897352         5.9\n",
              "18      \"S\"    19059775         6.3\n",
              "19      \"T\"    28691274         9.5\n",
              "20      \"U\"     8022379         2.7\n",
              "21      \"V\"     2835696         0.9\n",
              "22      \"W\"     6505294         2.2\n",
              "23      \"X\"      562732         0.2\n",
              "24      \"Y\"     5910495         2.0\n",
              "25      \"Z\"       93172         0.0"
            ]
          },
          "execution_count": 12,
          "metadata": {},
          "output_type": "execute_result"
        }
      ],
      "source": [
        "letters_freq_df = pd.read_csv(\"https://people.sc.fsu.edu/~jburkardt/data/csv/letter_frequency.csv\")\n",
        "letters_freq_df.columns = [\"Letra\", \"Frecuencia\", \"Porcentaje\"]\n",
        "letters_freq_df"
      ]
    },
    {
      "cell_type": "markdown",
      "metadata": {
        "id": "bGG2HI9rfC1m"
      },
      "source": [
        "## Dataframes a partir de archivos JSON\n",
        "\n",
        "Podemos guardar la información de un archivo json en un dataframe usando el método `.read_json()`.\n",
        "\n",
        "El archivo puede\n",
        "\n",
        "- estar guardado en nuestro directorio de trabajo\n",
        "- proceder de una url"
      ]
    },
    {
      "cell_type": "markdown",
      "metadata": {
        "id": "_fr_ELGcfd-f"
      },
      "source": [
        "### Desde directorio de trabajo\n",
        "\n",
        "Vamos a cargar el archivo llamado `json_index_example.json` que tenemos guardado."
      ]
    },
    {
      "cell_type": "code",
      "execution_count": null,
      "metadata": {
        "colab": {
          "base_uri": "https://localhost:8080/",
          "height": 204
        },
        "id": "sv57DNxfgS2D",
        "outputId": "20ef0eb7-fcb1-4e27-82bf-89cae68f9fd8"
      },
      "outputs": [],
      "source": [
        "quiz_index = pd.read_json(\"json_index_example.json\", orient = \"index\")\n",
        "quiz_index.head()"
      ]
    },
    {
      "cell_type": "markdown",
      "metadata": {
        "id": "Hn4uKmlxlfP5"
      },
      "source": [
        "#### El parámetro `orient`\n",
        "\n",
        "En el caso de archivos json, podría darse que no tuvieran la misma configuración que nuestro ejemplo, `json_index_example.json` cuya orientación se corresponde con `index`.\n",
        "\n",
        "El parámetro `orient` del método `.read_json()` admite otras opciones como `columns` o `values`.\n",
        "\n",
        "Veamos ambos casos con los ficheros `json_columns_example.json` y `json_values_example.json`, respectivamente."
      ]
    },
    {
      "cell_type": "code",
      "execution_count": null,
      "metadata": {
        "colab": {
          "base_uri": "https://localhost:8080/",
          "height": 204
        },
        "id": "7Z2_LMYOmtPg",
        "outputId": "e3474e4d-336c-452e-d0e1-0913a1f1f202"
      },
      "outputs": [],
      "source": [
        "# Orientación con index\n",
        "quiz_columns = pd.read_json(\"json_columns_example.json\",\n",
        "                    orient = \"columns\")\n",
        "quiz_columns.head()"
      ]
    },
    {
      "cell_type": "code",
      "execution_count": null,
      "metadata": {
        "colab": {
          "base_uri": "https://localhost:8080/",
          "height": 204
        },
        "id": "8zWeorrCmtfz",
        "outputId": "46d78019-6bf3-4b4a-ce11-c5cf1ee59909"
      },
      "outputs": [],
      "source": [
        "# Orientación con values\n",
        "quiz_values = pd.read_json(\"json_values_example.json\",\n",
        "                           orient = \"values\")\n",
        "quiz_values.head()"
      ]
    },
    {
      "cell_type": "markdown",
      "metadata": {
        "id": "t_5yFZLnsu5k"
      },
      "source": [
        "### Desde url\n",
        "\n",
        "Vamos a cargar el archivo json que procede de la siguiente [url](https://api.exchangerate-api.com/v4/latest/USD)"
      ]
    },
    {
      "cell_type": "code",
      "execution_count": null,
      "metadata": {
        "colab": {
          "base_uri": "https://localhost:8080/",
          "height": 204
        },
        "id": "QtlgdkjiswOu",
        "outputId": "ba0b48e8-953a-4540-f8f7-9f9f19d6ebe1"
      },
      "outputs": [],
      "source": [
        "from_url = pd.read_json(\"https://api.exchangerate-api.com/v4/latest/USD\")\n",
        "from_url.head()"
      ]
    },
    {
      "cell_type": "markdown",
      "metadata": {
        "id": "ynzYveXLiJII"
      },
      "source": [
        "## Tratamiento de datos faltantes\n",
        "\n"
      ]
    },
    {
      "cell_type": "markdown",
      "metadata": {
        "id": "JVYik9vyiUJR"
      },
      "source": [
        "Los datos faltantes, o en inglés, Missing Data, se dan cuando no hay información para uno o más elementos.\n",
        "\n",
        "Éste es un problema muy común en la vida real.\n",
        "\n",
        "En la librería `pandas`, identificamos los missing data con valores `NA` (Not Available) o `NaN` (Not a Number).\n",
        "\n",
        "Para identificar valores fanltantes en un dataframe de `pandas` , podemos usar los métodos `.isnull()` o `.notnull()`"
      ]
    },
    {
      "cell_type": "code",
      "execution_count": null,
      "metadata": {
        "colab": {
          "base_uri": "https://localhost:8080/",
          "height": 204
        },
        "id": "rhsnXoxAJW3t",
        "outputId": "89e12285-b822-454f-8407-9ab71053af22"
      },
      "outputs": [],
      "source": [
        "# Nos devuelve True allí donde hay un dato faltante\n",
        "simpsons_df.isnull().head()"
      ]
    },
    {
      "cell_type": "code",
      "execution_count": null,
      "metadata": {
        "colab": {
          "base_uri": "https://localhost:8080/",
          "height": 204
        },
        "id": "mZEAaSPToCbm",
        "outputId": "494e25af-71de-45c5-82ad-e4aaa537dc7b"
      },
      "outputs": [],
      "source": [
        "# Nos devuelve False allí donde hay un dato faltante\n",
        "simpsons_df.notnull().head()"
      ]
    },
    {
      "cell_type": "markdown",
      "metadata": {
        "id": "DxkM3VPnoY8j"
      },
      "source": [
        "Existen muchas técnicas para tratar con valores faltantes: se sustituyen por la media, por la mediana, se elimina la observación, se interpolan... nosotros no entraremos en detalle en ese aspecto. Simplemente veremos los métodos de `Python` que podemos utilizar para tratar con valores faltantes:\n",
        "\n",
        "- `.fillna()`\n",
        "- `.replace()`\n",
        "- `.interpolate()`\n",
        "- `.dropna()`"
      ]
    },
    {
      "cell_type": "markdown",
      "metadata": {
        "id": "OrxcVXROo1No"
      },
      "source": [
        "El método `.fillna()` sustituye los valores faltantes por el valor que indiquemos por parámetro"
      ]
    },
    {
      "cell_type": "code",
      "execution_count": 4,
      "metadata": {
        "id": "qXHDJfnwp72S"
      },
      "outputs": [],
      "source": [
        "# Necesitamos la librería numpy para crear un dataframe con valores NaN\n",
        "import numpy as np\n",
        "import pandas as pd"
      ]
    },
    {
      "cell_type": "code",
      "execution_count": 5,
      "metadata": {
        "colab": {
          "base_uri": "https://localhost:8080/",
          "height": 204
        },
        "id": "JFzRDnZzpKS0",
        "outputId": "0b8e265f-40bd-4808-a720-00d94038f215"
      },
      "outputs": [
        {
          "data": {
            "text/html": [
              "<div>\n",
              "<style scoped>\n",
              "    .dataframe tbody tr th:only-of-type {\n",
              "        vertical-align: middle;\n",
              "    }\n",
              "\n",
              "    .dataframe tbody tr th {\n",
              "        vertical-align: top;\n",
              "    }\n",
              "\n",
              "    .dataframe thead th {\n",
              "        text-align: right;\n",
              "    }\n",
              "</style>\n",
              "<table border=\"1\" class=\"dataframe\">\n",
              "  <thead>\n",
              "    <tr style=\"text-align: right;\">\n",
              "      <th></th>\n",
              "      <th>Primer lanzamiento</th>\n",
              "      <th>Segundo lanzamiento</th>\n",
              "      <th>Tercer lanzamiento</th>\n",
              "    </tr>\n",
              "  </thead>\n",
              "  <tbody>\n",
              "    <tr>\n",
              "      <th>Jugador 1</th>\n",
              "      <td>100.0</td>\n",
              "      <td>80.0</td>\n",
              "      <td>93.0</td>\n",
              "    </tr>\n",
              "    <tr>\n",
              "      <th>Jugador 2</th>\n",
              "      <td>86.0</td>\n",
              "      <td>NaN</td>\n",
              "      <td>89.0</td>\n",
              "    </tr>\n",
              "    <tr>\n",
              "      <th>Jugador 3</th>\n",
              "      <td>NaN</td>\n",
              "      <td>63.0</td>\n",
              "      <td>92.0</td>\n",
              "    </tr>\n",
              "    <tr>\n",
              "      <th>Jugador 4</th>\n",
              "      <td>75.0</td>\n",
              "      <td>81.0</td>\n",
              "      <td>97.0</td>\n",
              "    </tr>\n",
              "    <tr>\n",
              "      <th>Jugador 5</th>\n",
              "      <td>97.0</td>\n",
              "      <td>88.0</td>\n",
              "      <td>NaN</td>\n",
              "    </tr>\n",
              "  </tbody>\n",
              "</table>\n",
              "</div>"
            ],
            "text/plain": [
              "           Primer lanzamiento  Segundo lanzamiento  Tercer lanzamiento\n",
              "Jugador 1               100.0                 80.0                93.0\n",
              "Jugador 2                86.0                  NaN                89.0\n",
              "Jugador 3                 NaN                 63.0                92.0\n",
              "Jugador 4                75.0                 81.0                97.0\n",
              "Jugador 5                97.0                 88.0                 NaN"
            ]
          },
          "execution_count": 5,
          "metadata": {},
          "output_type": "execute_result"
        }
      ],
      "source": [
        "data = {\"Primer lanzamiento\": [100, 86, np.nan, 75, 97],\n",
        "        \"Segundo lanzamiento\": [80, np.nan, 63, 81, 88],\n",
        "        \"Tercer lanzamiento\": [93, 89, 92, 97, np.nan]\n",
        "        }\n",
        "\n",
        "points_df = pd.DataFrame(data, index = [\"Jugador 1\", \"Jugador 2\", \"Jugador 3\", \"Jugador 4\", \"Jugador 5\"])\n",
        "points_df"
      ]
    },
    {
      "cell_type": "code",
      "execution_count": 6,
      "metadata": {
        "colab": {
          "base_uri": "https://localhost:8080/",
          "height": 204
        },
        "id": "RGxMr3P4qCSj",
        "outputId": "0c72253e-3c52-493b-b780-efb6526f7edc"
      },
      "outputs": [
        {
          "data": {
            "text/html": [
              "<div>\n",
              "<style scoped>\n",
              "    .dataframe tbody tr th:only-of-type {\n",
              "        vertical-align: middle;\n",
              "    }\n",
              "\n",
              "    .dataframe tbody tr th {\n",
              "        vertical-align: top;\n",
              "    }\n",
              "\n",
              "    .dataframe thead th {\n",
              "        text-align: right;\n",
              "    }\n",
              "</style>\n",
              "<table border=\"1\" class=\"dataframe\">\n",
              "  <thead>\n",
              "    <tr style=\"text-align: right;\">\n",
              "      <th></th>\n",
              "      <th>Primer lanzamiento</th>\n",
              "      <th>Segundo lanzamiento</th>\n",
              "      <th>Tercer lanzamiento</th>\n",
              "    </tr>\n",
              "  </thead>\n",
              "  <tbody>\n",
              "    <tr>\n",
              "      <th>Jugador 1</th>\n",
              "      <td>100.0</td>\n",
              "      <td>80.0</td>\n",
              "      <td>93.0</td>\n",
              "    </tr>\n",
              "    <tr>\n",
              "      <th>Jugador 2</th>\n",
              "      <td>86.0</td>\n",
              "      <td>0.0</td>\n",
              "      <td>89.0</td>\n",
              "    </tr>\n",
              "    <tr>\n",
              "      <th>Jugador 3</th>\n",
              "      <td>0.0</td>\n",
              "      <td>63.0</td>\n",
              "      <td>92.0</td>\n",
              "    </tr>\n",
              "    <tr>\n",
              "      <th>Jugador 4</th>\n",
              "      <td>75.0</td>\n",
              "      <td>81.0</td>\n",
              "      <td>97.0</td>\n",
              "    </tr>\n",
              "    <tr>\n",
              "      <th>Jugador 5</th>\n",
              "      <td>97.0</td>\n",
              "      <td>88.0</td>\n",
              "      <td>0.0</td>\n",
              "    </tr>\n",
              "  </tbody>\n",
              "</table>\n",
              "</div>"
            ],
            "text/plain": [
              "           Primer lanzamiento  Segundo lanzamiento  Tercer lanzamiento\n",
              "Jugador 1               100.0                 80.0                93.0\n",
              "Jugador 2                86.0                  0.0                89.0\n",
              "Jugador 3                 0.0                 63.0                92.0\n",
              "Jugador 4                75.0                 81.0                97.0\n",
              "Jugador 5                97.0                 88.0                 0.0"
            ]
          },
          "execution_count": 6,
          "metadata": {},
          "output_type": "execute_result"
        }
      ],
      "source": [
        "# Sustituimos todos los NaN por 0 puntos\n",
        "points_df.fillna(0)"
      ]
    },
    {
      "cell_type": "markdown",
      "metadata": {
        "id": "t6L04m84pJdu"
      },
      "source": [
        "Para sustituir valores faltantes con el método `.replace()` lo hacemos del siguiente modo: primero pasamos por parámetro el valor que queremos sustituir y luego, el valor por el cual queremos sustituirlo."
      ]
    },
    {
      "cell_type": "code",
      "execution_count": 7,
      "metadata": {
        "colab": {
          "base_uri": "https://localhost:8080/",
          "height": 204
        },
        "id": "Km-0cCpYqzgY",
        "outputId": "93d6b227-2df1-41fc-c32c-2fda93f504b3"
      },
      "outputs": [
        {
          "data": {
            "text/html": [
              "<div>\n",
              "<style scoped>\n",
              "    .dataframe tbody tr th:only-of-type {\n",
              "        vertical-align: middle;\n",
              "    }\n",
              "\n",
              "    .dataframe tbody tr th {\n",
              "        vertical-align: top;\n",
              "    }\n",
              "\n",
              "    .dataframe thead th {\n",
              "        text-align: right;\n",
              "    }\n",
              "</style>\n",
              "<table border=\"1\" class=\"dataframe\">\n",
              "  <thead>\n",
              "    <tr style=\"text-align: right;\">\n",
              "      <th></th>\n",
              "      <th>Primer lanzamiento</th>\n",
              "      <th>Segundo lanzamiento</th>\n",
              "      <th>Tercer lanzamiento</th>\n",
              "    </tr>\n",
              "  </thead>\n",
              "  <tbody>\n",
              "    <tr>\n",
              "      <th>Jugador 1</th>\n",
              "      <td>100.0</td>\n",
              "      <td>80.0</td>\n",
              "      <td>93.0</td>\n",
              "    </tr>\n",
              "    <tr>\n",
              "      <th>Jugador 2</th>\n",
              "      <td>86.0</td>\n",
              "      <td>0.0</td>\n",
              "      <td>89.0</td>\n",
              "    </tr>\n",
              "    <tr>\n",
              "      <th>Jugador 3</th>\n",
              "      <td>0.0</td>\n",
              "      <td>63.0</td>\n",
              "      <td>92.0</td>\n",
              "    </tr>\n",
              "    <tr>\n",
              "      <th>Jugador 4</th>\n",
              "      <td>75.0</td>\n",
              "      <td>81.0</td>\n",
              "      <td>97.0</td>\n",
              "    </tr>\n",
              "    <tr>\n",
              "      <th>Jugador 5</th>\n",
              "      <td>97.0</td>\n",
              "      <td>88.0</td>\n",
              "      <td>0.0</td>\n",
              "    </tr>\n",
              "  </tbody>\n",
              "</table>\n",
              "</div>"
            ],
            "text/plain": [
              "           Primer lanzamiento  Segundo lanzamiento  Tercer lanzamiento\n",
              "Jugador 1               100.0                 80.0                93.0\n",
              "Jugador 2                86.0                  0.0                89.0\n",
              "Jugador 3                 0.0                 63.0                92.0\n",
              "Jugador 4                75.0                 81.0                97.0\n",
              "Jugador 5                97.0                 88.0                 0.0"
            ]
          },
          "execution_count": 7,
          "metadata": {},
          "output_type": "execute_result"
        }
      ],
      "source": [
        "points_df = pd.DataFrame(data, index = [\"Jugador 1\", \"Jugador 2\", \"Jugador 3\", \"Jugador 4\", \"Jugador 5\"])\n",
        "points_df.replace(np.nan, 0)"
      ]
    },
    {
      "cell_type": "markdown",
      "metadata": {
        "id": "KTEBCUTNrX-M"
      },
      "source": [
        "Si usamos el método `.interpolate()`, sustituiremos los valores `NaN` por valores interpolados. Este método consta de muchos parámetros para elegir el método (que por defecto es `linear`) por el cual llevar a cabo la interpolación."
      ]
    },
    {
      "cell_type": "code",
      "execution_count": 8,
      "metadata": {
        "colab": {
          "base_uri": "https://localhost:8080/",
          "height": 204
        },
        "id": "34Ty0WYZr6EH",
        "outputId": "1f43b3e1-a091-4d96-b89e-c02f3d498e7b"
      },
      "outputs": [
        {
          "data": {
            "text/html": [
              "<div>\n",
              "<style scoped>\n",
              "    .dataframe tbody tr th:only-of-type {\n",
              "        vertical-align: middle;\n",
              "    }\n",
              "\n",
              "    .dataframe tbody tr th {\n",
              "        vertical-align: top;\n",
              "    }\n",
              "\n",
              "    .dataframe thead th {\n",
              "        text-align: right;\n",
              "    }\n",
              "</style>\n",
              "<table border=\"1\" class=\"dataframe\">\n",
              "  <thead>\n",
              "    <tr style=\"text-align: right;\">\n",
              "      <th></th>\n",
              "      <th>Primer lanzamiento</th>\n",
              "      <th>Segundo lanzamiento</th>\n",
              "      <th>Tercer lanzamiento</th>\n",
              "    </tr>\n",
              "  </thead>\n",
              "  <tbody>\n",
              "    <tr>\n",
              "      <th>Jugador 1</th>\n",
              "      <td>100.0</td>\n",
              "      <td>80.0</td>\n",
              "      <td>93.0</td>\n",
              "    </tr>\n",
              "    <tr>\n",
              "      <th>Jugador 2</th>\n",
              "      <td>86.0</td>\n",
              "      <td>71.5</td>\n",
              "      <td>89.0</td>\n",
              "    </tr>\n",
              "    <tr>\n",
              "      <th>Jugador 3</th>\n",
              "      <td>80.5</td>\n",
              "      <td>63.0</td>\n",
              "      <td>92.0</td>\n",
              "    </tr>\n",
              "    <tr>\n",
              "      <th>Jugador 4</th>\n",
              "      <td>75.0</td>\n",
              "      <td>81.0</td>\n",
              "      <td>97.0</td>\n",
              "    </tr>\n",
              "    <tr>\n",
              "      <th>Jugador 5</th>\n",
              "      <td>97.0</td>\n",
              "      <td>88.0</td>\n",
              "      <td>97.0</td>\n",
              "    </tr>\n",
              "  </tbody>\n",
              "</table>\n",
              "</div>"
            ],
            "text/plain": [
              "           Primer lanzamiento  Segundo lanzamiento  Tercer lanzamiento\n",
              "Jugador 1               100.0                 80.0                93.0\n",
              "Jugador 2                86.0                 71.5                89.0\n",
              "Jugador 3                80.5                 63.0                92.0\n",
              "Jugador 4                75.0                 81.0                97.0\n",
              "Jugador 5                97.0                 88.0                97.0"
            ]
          },
          "execution_count": 8,
          "metadata": {},
          "output_type": "execute_result"
        }
      ],
      "source": [
        "points_df = pd.DataFrame(data, index = [\"Jugador 1\", \"Jugador 2\", \"Jugador 3\", \"Jugador 4\", \"Jugador 5\"])\n",
        "points_df.interpolate()"
      ]
    },
    {
      "cell_type": "markdown",
      "metadata": {
        "id": "k33Cy2Oms48o"
      },
      "source": [
        "El método `.dropna()` elimina las filas que contienen valores faltantes."
      ]
    },
    {
      "cell_type": "code",
      "execution_count": 9,
      "metadata": {
        "colab": {
          "base_uri": "https://localhost:8080/",
          "height": 111
        },
        "id": "FA2HzXD6s_AQ",
        "outputId": "b6f3422c-d2e0-4ecd-f532-4657bdec4d97"
      },
      "outputs": [
        {
          "data": {
            "text/html": [
              "<div>\n",
              "<style scoped>\n",
              "    .dataframe tbody tr th:only-of-type {\n",
              "        vertical-align: middle;\n",
              "    }\n",
              "\n",
              "    .dataframe tbody tr th {\n",
              "        vertical-align: top;\n",
              "    }\n",
              "\n",
              "    .dataframe thead th {\n",
              "        text-align: right;\n",
              "    }\n",
              "</style>\n",
              "<table border=\"1\" class=\"dataframe\">\n",
              "  <thead>\n",
              "    <tr style=\"text-align: right;\">\n",
              "      <th></th>\n",
              "      <th>Primer lanzamiento</th>\n",
              "      <th>Segundo lanzamiento</th>\n",
              "      <th>Tercer lanzamiento</th>\n",
              "    </tr>\n",
              "  </thead>\n",
              "  <tbody>\n",
              "    <tr>\n",
              "      <th>Jugador 1</th>\n",
              "      <td>100.0</td>\n",
              "      <td>80.0</td>\n",
              "      <td>93.0</td>\n",
              "    </tr>\n",
              "    <tr>\n",
              "      <th>Jugador 4</th>\n",
              "      <td>75.0</td>\n",
              "      <td>81.0</td>\n",
              "      <td>97.0</td>\n",
              "    </tr>\n",
              "  </tbody>\n",
              "</table>\n",
              "</div>"
            ],
            "text/plain": [
              "           Primer lanzamiento  Segundo lanzamiento  Tercer lanzamiento\n",
              "Jugador 1               100.0                 80.0                93.0\n",
              "Jugador 4                75.0                 81.0                97.0"
            ]
          },
          "execution_count": 9,
          "metadata": {},
          "output_type": "execute_result"
        }
      ],
      "source": [
        "points_df = pd.DataFrame(data, index = [\"Jugador 1\", \"Jugador 2\", \"Jugador 3\", \"Jugador 4\", \"Jugador 5\"])\n",
        "points_df.dropna()"
      ]
    },
    {
      "cell_type": "markdown",
      "metadata": {
        "id": "mp5bUX4wiRun"
      },
      "source": [
        "## Filtrando dataframes\n",
        "\n",
        "Dado un dataframe, podemos filtrar sus filas comprobando cuáles satisfacen una condición"
      ]
    },
    {
      "cell_type": "code",
      "execution_count": 13,
      "metadata": {
        "colab": {
          "base_uri": "https://localhost:8080/",
          "height": 328
        },
        "id": "ts-UG4fmhK71",
        "outputId": "ca75b870-95b2-4473-b743-52dd4380ab81"
      },
      "outputs": [
        {
          "data": {
            "text/html": [
              "<div>\n",
              "<style scoped>\n",
              "    .dataframe tbody tr th:only-of-type {\n",
              "        vertical-align: middle;\n",
              "    }\n",
              "\n",
              "    .dataframe tbody tr th {\n",
              "        vertical-align: top;\n",
              "    }\n",
              "\n",
              "    .dataframe thead th {\n",
              "        text-align: right;\n",
              "    }\n",
              "</style>\n",
              "<table border=\"1\" class=\"dataframe\">\n",
              "  <thead>\n",
              "    <tr style=\"text-align: right;\">\n",
              "      <th></th>\n",
              "      <th>Letra</th>\n",
              "      <th>Frecuencia</th>\n",
              "      <th>Porcentaje</th>\n",
              "    </tr>\n",
              "  </thead>\n",
              "  <tbody>\n",
              "    <tr>\n",
              "      <th>0</th>\n",
              "      <td>\"A\"</td>\n",
              "      <td>24373121</td>\n",
              "      <td>8.1</td>\n",
              "    </tr>\n",
              "    <tr>\n",
              "      <th>4</th>\n",
              "      <td>\"E\"</td>\n",
              "      <td>37907119</td>\n",
              "      <td>12.6</td>\n",
              "    </tr>\n",
              "    <tr>\n",
              "      <th>7</th>\n",
              "      <td>\"H\"</td>\n",
              "      <td>18058207</td>\n",
              "      <td>6.0</td>\n",
              "    </tr>\n",
              "    <tr>\n",
              "      <th>8</th>\n",
              "      <td>\"I\"</td>\n",
              "      <td>21820970</td>\n",
              "      <td>7.3</td>\n",
              "    </tr>\n",
              "    <tr>\n",
              "      <th>13</th>\n",
              "      <td>\"N\"</td>\n",
              "      <td>21402466</td>\n",
              "      <td>7.1</td>\n",
              "    </tr>\n",
              "    <tr>\n",
              "      <th>14</th>\n",
              "      <td>\"O\"</td>\n",
              "      <td>23215532</td>\n",
              "      <td>7.7</td>\n",
              "    </tr>\n",
              "    <tr>\n",
              "      <th>17</th>\n",
              "      <td>\"R\"</td>\n",
              "      <td>17897352</td>\n",
              "      <td>5.9</td>\n",
              "    </tr>\n",
              "    <tr>\n",
              "      <th>18</th>\n",
              "      <td>\"S\"</td>\n",
              "      <td>19059775</td>\n",
              "      <td>6.3</td>\n",
              "    </tr>\n",
              "    <tr>\n",
              "      <th>19</th>\n",
              "      <td>\"T\"</td>\n",
              "      <td>28691274</td>\n",
              "      <td>9.5</td>\n",
              "    </tr>\n",
              "  </tbody>\n",
              "</table>\n",
              "</div>"
            ],
            "text/plain": [
              "      Letra  Frecuencia  Porcentaje\n",
              "0       \"A\"    24373121         8.1\n",
              "4       \"E\"    37907119        12.6\n",
              "7       \"H\"    18058207         6.0\n",
              "8       \"I\"    21820970         7.3\n",
              "13      \"N\"    21402466         7.1\n",
              "14      \"O\"    23215532         7.7\n",
              "17      \"R\"    17897352         5.9\n",
              "18      \"S\"    19059775         6.3\n",
              "19      \"T\"    28691274         9.5"
            ]
          },
          "execution_count": 13,
          "metadata": {},
          "output_type": "execute_result"
        }
      ],
      "source": [
        "# Mostramos las observaciones con porcentaje mayor a 5\n",
        "letters_freq_df[letters_freq_df[\"Porcentaje\"] > 5]"
      ]
    },
    {
      "cell_type": "code",
      "execution_count": 17,
      "metadata": {},
      "outputs": [
        {
          "data": {
            "text/html": [
              "<div>\n",
              "<style scoped>\n",
              "    .dataframe tbody tr th:only-of-type {\n",
              "        vertical-align: middle;\n",
              "    }\n",
              "\n",
              "    .dataframe tbody tr th {\n",
              "        vertical-align: top;\n",
              "    }\n",
              "\n",
              "    .dataframe thead th {\n",
              "        text-align: right;\n",
              "    }\n",
              "</style>\n",
              "<table border=\"1\" class=\"dataframe\">\n",
              "  <thead>\n",
              "    <tr style=\"text-align: right;\">\n",
              "      <th></th>\n",
              "      <th>Letra</th>\n",
              "      <th>Frecuencia</th>\n",
              "      <th>Porcentaje</th>\n",
              "    </tr>\n",
              "  </thead>\n",
              "  <tbody>\n",
              "    <tr>\n",
              "      <th>0</th>\n",
              "      <td>\"A\"</td>\n",
              "      <td>24373121</td>\n",
              "      <td>8.1</td>\n",
              "    </tr>\n",
              "    <tr>\n",
              "      <th>4</th>\n",
              "      <td>\"E\"</td>\n",
              "      <td>37907119</td>\n",
              "      <td>12.6</td>\n",
              "    </tr>\n",
              "    <tr>\n",
              "      <th>7</th>\n",
              "      <td>\"H\"</td>\n",
              "      <td>18058207</td>\n",
              "      <td>6.0</td>\n",
              "    </tr>\n",
              "    <tr>\n",
              "      <th>8</th>\n",
              "      <td>\"I\"</td>\n",
              "      <td>21820970</td>\n",
              "      <td>7.3</td>\n",
              "    </tr>\n",
              "    <tr>\n",
              "      <th>13</th>\n",
              "      <td>\"N\"</td>\n",
              "      <td>21402466</td>\n",
              "      <td>7.1</td>\n",
              "    </tr>\n",
              "    <tr>\n",
              "      <th>14</th>\n",
              "      <td>\"O\"</td>\n",
              "      <td>23215532</td>\n",
              "      <td>7.7</td>\n",
              "    </tr>\n",
              "    <tr>\n",
              "      <th>17</th>\n",
              "      <td>\"R\"</td>\n",
              "      <td>17897352</td>\n",
              "      <td>5.9</td>\n",
              "    </tr>\n",
              "    <tr>\n",
              "      <th>18</th>\n",
              "      <td>\"S\"</td>\n",
              "      <td>19059775</td>\n",
              "      <td>6.3</td>\n",
              "    </tr>\n",
              "    <tr>\n",
              "      <th>19</th>\n",
              "      <td>\"T\"</td>\n",
              "      <td>28691274</td>\n",
              "      <td>9.5</td>\n",
              "    </tr>\n",
              "  </tbody>\n",
              "</table>\n",
              "</div>"
            ],
            "text/plain": [
              "      Letra  Frecuencia  Porcentaje\n",
              "0       \"A\"    24373121         8.1\n",
              "4       \"E\"    37907119        12.6\n",
              "7       \"H\"    18058207         6.0\n",
              "8       \"I\"    21820970         7.3\n",
              "13      \"N\"    21402466         7.1\n",
              "14      \"O\"    23215532         7.7\n",
              "17      \"R\"    17897352         5.9\n",
              "18      \"S\"    19059775         6.3\n",
              "19      \"T\"    28691274         9.5"
            ]
          },
          "execution_count": 17,
          "metadata": {},
          "output_type": "execute_result"
        }
      ],
      "source": [
        "freq = letters_freq_df.loc[(letters_freq_df[\"Frecuencia\"] >= 17897352 ) & (letters_freq_df[\"Porcentaje\"] >= 5.9) ] # & = AND, | = OR\n",
        "freq"
      ]
    },
    {
      "cell_type": "code",
      "execution_count": 14,
      "metadata": {
        "colab": {
          "base_uri": "https://localhost:8080/",
          "height": 669
        },
        "id": "j0fYNIkVh4rv",
        "outputId": "15507fcd-3d13-4f00-b66f-80eac6600a38"
      },
      "outputs": [
        {
          "data": {
            "text/html": [
              "<div>\n",
              "<style scoped>\n",
              "    .dataframe tbody tr th:only-of-type {\n",
              "        vertical-align: middle;\n",
              "    }\n",
              "\n",
              "    .dataframe tbody tr th {\n",
              "        vertical-align: top;\n",
              "    }\n",
              "\n",
              "    .dataframe thead th {\n",
              "        text-align: right;\n",
              "    }\n",
              "</style>\n",
              "<table border=\"1\" class=\"dataframe\">\n",
              "  <thead>\n",
              "    <tr style=\"text-align: right;\">\n",
              "      <th></th>\n",
              "      <th>Letra</th>\n",
              "      <th>Frecuencia</th>\n",
              "      <th>Porcentaje</th>\n",
              "    </tr>\n",
              "  </thead>\n",
              "  <tbody>\n",
              "    <tr>\n",
              "      <th>1</th>\n",
              "      <td>\"B\"</td>\n",
              "      <td>4762938</td>\n",
              "      <td>1.6</td>\n",
              "    </tr>\n",
              "    <tr>\n",
              "      <th>2</th>\n",
              "      <td>\"C\"</td>\n",
              "      <td>8982417</td>\n",
              "      <td>3.0</td>\n",
              "    </tr>\n",
              "    <tr>\n",
              "      <th>3</th>\n",
              "      <td>\"D\"</td>\n",
              "      <td>10805580</td>\n",
              "      <td>3.6</td>\n",
              "    </tr>\n",
              "    <tr>\n",
              "      <th>5</th>\n",
              "      <td>\"F\"</td>\n",
              "      <td>7486889</td>\n",
              "      <td>2.5</td>\n",
              "    </tr>\n",
              "    <tr>\n",
              "      <th>6</th>\n",
              "      <td>\"G\"</td>\n",
              "      <td>5143059</td>\n",
              "      <td>1.7</td>\n",
              "    </tr>\n",
              "    <tr>\n",
              "      <th>7</th>\n",
              "      <td>\"H\"</td>\n",
              "      <td>18058207</td>\n",
              "      <td>6.0</td>\n",
              "    </tr>\n",
              "    <tr>\n",
              "      <th>9</th>\n",
              "      <td>\"J\"</td>\n",
              "      <td>474021</td>\n",
              "      <td>0.2</td>\n",
              "    </tr>\n",
              "    <tr>\n",
              "      <th>10</th>\n",
              "      <td>\"K\"</td>\n",
              "      <td>1720909</td>\n",
              "      <td>0.6</td>\n",
              "    </tr>\n",
              "    <tr>\n",
              "      <th>11</th>\n",
              "      <td>\"L\"</td>\n",
              "      <td>11730498</td>\n",
              "      <td>3.9</td>\n",
              "    </tr>\n",
              "    <tr>\n",
              "      <th>12</th>\n",
              "      <td>\"M\"</td>\n",
              "      <td>7391366</td>\n",
              "      <td>2.5</td>\n",
              "    </tr>\n",
              "    <tr>\n",
              "      <th>15</th>\n",
              "      <td>\"P\"</td>\n",
              "      <td>5719422</td>\n",
              "      <td>1.9</td>\n",
              "    </tr>\n",
              "    <tr>\n",
              "      <th>16</th>\n",
              "      <td>\"Q\"</td>\n",
              "      <td>297237</td>\n",
              "      <td>0.1</td>\n",
              "    </tr>\n",
              "    <tr>\n",
              "      <th>17</th>\n",
              "      <td>\"R\"</td>\n",
              "      <td>17897352</td>\n",
              "      <td>5.9</td>\n",
              "    </tr>\n",
              "    <tr>\n",
              "      <th>18</th>\n",
              "      <td>\"S\"</td>\n",
              "      <td>19059775</td>\n",
              "      <td>6.3</td>\n",
              "    </tr>\n",
              "    <tr>\n",
              "      <th>20</th>\n",
              "      <td>\"U\"</td>\n",
              "      <td>8022379</td>\n",
              "      <td>2.7</td>\n",
              "    </tr>\n",
              "    <tr>\n",
              "      <th>21</th>\n",
              "      <td>\"V\"</td>\n",
              "      <td>2835696</td>\n",
              "      <td>0.9</td>\n",
              "    </tr>\n",
              "    <tr>\n",
              "      <th>22</th>\n",
              "      <td>\"W\"</td>\n",
              "      <td>6505294</td>\n",
              "      <td>2.2</td>\n",
              "    </tr>\n",
              "    <tr>\n",
              "      <th>23</th>\n",
              "      <td>\"X\"</td>\n",
              "      <td>562732</td>\n",
              "      <td>0.2</td>\n",
              "    </tr>\n",
              "    <tr>\n",
              "      <th>24</th>\n",
              "      <td>\"Y\"</td>\n",
              "      <td>5910495</td>\n",
              "      <td>2.0</td>\n",
              "    </tr>\n",
              "    <tr>\n",
              "      <th>25</th>\n",
              "      <td>\"Z\"</td>\n",
              "      <td>93172</td>\n",
              "      <td>0.0</td>\n",
              "    </tr>\n",
              "  </tbody>\n",
              "</table>\n",
              "</div>"
            ],
            "text/plain": [
              "      Letra  Frecuencia  Porcentaje\n",
              "1       \"B\"     4762938         1.6\n",
              "2       \"C\"     8982417         3.0\n",
              "3       \"D\"    10805580         3.6\n",
              "5       \"F\"     7486889         2.5\n",
              "6       \"G\"     5143059         1.7\n",
              "7       \"H\"    18058207         6.0\n",
              "9       \"J\"      474021         0.2\n",
              "10      \"K\"     1720909         0.6\n",
              "11      \"L\"    11730498         3.9\n",
              "12      \"M\"     7391366         2.5\n",
              "15      \"P\"     5719422         1.9\n",
              "16      \"Q\"      297237         0.1\n",
              "17      \"R\"    17897352         5.9\n",
              "18      \"S\"    19059775         6.3\n",
              "20      \"U\"     8022379         2.7\n",
              "21      \"V\"     2835696         0.9\n",
              "22      \"W\"     6505294         2.2\n",
              "23      \"X\"      562732         0.2\n",
              "24      \"Y\"     5910495         2.0\n",
              "25      \"Z\"       93172         0.0"
            ]
          },
          "execution_count": 14,
          "metadata": {},
          "output_type": "execute_result"
        }
      ],
      "source": [
        "# Mostramos las observaciones con frecuencia menor o igual a la de la letra S\n",
        "freq_S = letters_freq_df.loc[18, \"Frecuencia\"]\n",
        "letters_freq_df[letters_freq_df[\"Frecuencia\"] <= freq_S]\n",
        "\n"
      ]
    },
    {
      "cell_type": "markdown",
      "metadata": {
        "id": "fpCV2UG2g9LL"
      },
      "source": [
        "El método `.query()` nos puede ser útil para este cometido, pero funciona únicamente cuando los valores de la columna no contienen espacios en blanco."
      ]
    },
    {
      "cell_type": "code",
      "execution_count": null,
      "metadata": {
        "colab": {
          "base_uri": "https://localhost:8080/",
          "height": 328
        },
        "id": "nGJAoIcoiTPz",
        "outputId": "a4538bb7-7f77-4ded-eadf-e0ae06b26323"
      },
      "outputs": [],
      "source": [
        "# Mostramos aquellas observaciones cuyo porcentaje es mayor a 5\n",
        "letters_freq_df.query('Porcentaje > 5')"
      ]
    },
    {
      "cell_type": "code",
      "execution_count": null,
      "metadata": {
        "colab": {
          "base_uri": "https://localhost:8080/",
          "height": 235
        },
        "id": "wEHq75rcsByc",
        "outputId": "ecdfdf98-79af-4185-f1c9-eb960d13218e"
      },
      "outputs": [],
      "source": [
        "# Mostramos aquellas observaciones cuyo porcentaje es mayor a 5 y menor o igual a 8\n",
        "letters_freq_df.query(\"Porcentaje > 5 and Porcentaje <= 8\")"
      ]
    },
    {
      "cell_type": "markdown",
      "metadata": {
        "id": "gmnqeDZDuBn8"
      },
      "source": [
        "## Series de `pandas`\n",
        "\n",
        "**Serie.** Una Serie de `pandas` es como una columna de un dataframe.\n",
        "\n",
        "Podemos construir Series de `pandas` a partir de una lista unidimensional"
      ]
    },
    {
      "cell_type": "code",
      "execution_count": null,
      "metadata": {
        "colab": {
          "base_uri": "https://localhost:8080/"
        },
        "id": "hyGIB_WauU4G",
        "outputId": "4665f07f-76c5-4d46-e6c4-73bfef9ed1f1"
      },
      "outputs": [],
      "source": [
        "a = [1, 2, 3, 4, 5]\n",
        "my_series = pd.Series(a)\n",
        "print(my_series)"
      ]
    },
    {
      "cell_type": "markdown",
      "metadata": {
        "id": "-SqENzSMugZ5"
      },
      "source": [
        "**Observación.** Si no especificamos nada, por defecto las etiquetas de las entradas de la Serie se corresponden con el índice que ocupan. Recordemos que en `Python` lo índices empiezan por 0.\n",
        "\n",
        "Estas etiquetas pueden ser usadas para acceder a un valor específico"
      ]
    },
    {
      "cell_type": "code",
      "execution_count": null,
      "metadata": {
        "colab": {
          "base_uri": "https://localhost:8080/"
        },
        "id": "RwxSpJCwuZGO",
        "outputId": "0e1e2c8d-6ca4-44cc-e837-f2f4f385ea59"
      },
      "outputs": [],
      "source": [
        "print(my_series[1])"
      ]
    },
    {
      "cell_type": "markdown",
      "metadata": {
        "id": "z8iLz8wAu4DB"
      },
      "source": [
        "Cuando creamos una Serie, podemos modificar sus etiquetas con el parámetro `index`:"
      ]
    },
    {
      "cell_type": "code",
      "execution_count": null,
      "metadata": {
        "colab": {
          "base_uri": "https://localhost:8080/"
        },
        "id": "zy05jUoqu9Dl",
        "outputId": "0f74a517-3e40-4b49-fea4-850e56e12b6d"
      },
      "outputs": [],
      "source": [
        "my_series = pd.Series(a, index = [\"a\", \"b\", \"c\", \"d\", \"e\"])\n",
        "print(my_series)"
      ]
    },
    {
      "cell_type": "markdown",
      "metadata": {
        "id": "xv7-Ii_8vFSy"
      },
      "source": [
        "Ahora, para acceder a una entrada en particular, lo haremos con las nuevas etiquetas:"
      ]
    },
    {
      "cell_type": "code",
      "execution_count": null,
      "metadata": {
        "colab": {
          "base_uri": "https://localhost:8080/"
        },
        "id": "N24A18qXu2B0",
        "outputId": "d994e37d-f613-4c68-a178-00dac75e65c5"
      },
      "outputs": [],
      "source": [
        "print(my_series[\"c\"])"
      ]
    },
    {
      "cell_type": "markdown",
      "metadata": {
        "id": "fRuEW2mUv_4W"
      },
      "source": [
        "También podemos crear Series a partir de diccionarios. En este caso, las claves se corresponderán con las etiquetas de las series, y los valores del diccionario con los valores que toman las entradas de la Serie."
      ]
    },
    {
      "cell_type": "code",
      "execution_count": null,
      "metadata": {
        "colab": {
          "base_uri": "https://localhost:8080/"
        },
        "id": "E-hMnOLbvLxA",
        "outputId": "e339fafd-5167-425e-e70b-db6c026058b7"
      },
      "outputs": [],
      "source": [
        "videos = {\"day1\": 5, \"day2\": 9, \"day3\": 7, \"day4\": 6, \"day5\": 8}\n",
        "my_series = pd.Series(videos)\n",
        "print(my_series)"
      ]
    },
    {
      "cell_type": "code",
      "execution_count": null,
      "metadata": {
        "id": "Yh-pdXR4yW21"
      },
      "outputs": [],
      "source": []
    }
  ],
  "metadata": {
    "colab": {
      "collapsed_sections": [
        "QamdL4IdbiKe",
        "3xiB1bfy7D9S"
      ],
      "provenance": []
    },
    "kernelspec": {
      "display_name": "base",
      "language": "python",
      "name": "python3"
    },
    "language_info": {
      "codemirror_mode": {
        "name": "ipython",
        "version": 3
      },
      "file_extension": ".py",
      "mimetype": "text/x-python",
      "name": "python",
      "nbconvert_exporter": "python",
      "pygments_lexer": "ipython3",
      "version": "3.12.4"
    }
  },
  "nbformat": 4,
  "nbformat_minor": 0
}
